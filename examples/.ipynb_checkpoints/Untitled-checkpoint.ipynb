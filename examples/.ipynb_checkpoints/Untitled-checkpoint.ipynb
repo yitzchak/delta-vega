{
 "cells": [
  {
   "cell_type": "code",
   "execution_count": 3,
   "id": "384445b4-1319-48e1-83c9-dfbf6fdda975",
   "metadata": {},
   "outputs": [
    {
     "name": "stdout",
     "output_type": "stream",
     "text": [
      "To load \"delta-vega\":\n",
      "  Load 1 ASDF system:\n",
      "    delta-vega\n",
      "\n",
      "; Loading \"delta-vega\"\n",
      "."
     ]
    },
    {
     "data": {
      "text/plain": [
       "(:DELTA-VEGA)"
      ]
     },
     "execution_count": 3,
     "metadata": {},
     "output_type": "execute_result"
    },
    {
     "name": "stdout",
     "output_type": "stream",
     "text": [
      "\n"
     ]
    }
   ],
   "source": [
    "(ql:quickload :delta-vega)"
   ]
  },
  {
   "cell_type": "code",
   "execution_count": 5,
   "id": "2d304a9b-b444-41cf-839c-0849233b8453",
   "metadata": {},
   "outputs": [
    {
     "data": {
      "application/vnd.vegalite.v4+json": {
       "$schema": "https://vega.github.io/schema/vega-lite/v5.json",
       "data": {
        "values": [
         {
          "i": 193,
          "x": -6.283185307179586,
          "y": 2.4492935982947064e-16
         },
         {
          "i": 192,
          "x": -5.914235001978037,
          "y": 0.3606365737549287
         },
         {
          "i": 191,
          "x": -5.829781225330259,
          "y": 0.4380282036902792
         },
         {
          "i": 190,
          "x": -5.730891832631767,
          "y": 0.5246410958358161
         },
         {
          "i": 189,
          "x": -5.650938065592062,
          "y": 0.590959101816659
         },
         {
          "i": 188,
          "x": -5.573943493867194,
          "y": 0.6512586038455067
         },
         {
          "i": 187,
          "x": -5.494454400049014,
          "y": 0.7094594555398646
         },
         {
          "i": 186,
          "x": -5.433785828984055,
          "y": 0.7508839354286443
         },
         {
          "i": 185,
          "x": -5.3715457996627,
          "y": 0.7905089189220744
         },
         {
          "i": 184,
          "x": -5.326193008961689,
          "y": 0.8174628885063184
         },
         {
          "i": 183,
          "x": -5.264340669351653,
          "y": 0.8515027761385271
         },
         {
          "i": 182,
          "x": -5.207241948169724,
          "y": 0.8800385452800282
         },
         {
          "i": 181,
          "x": -5.166562490186848,
          "y": 0.8986239326371216
         },
         {
          "i": 180,
          "x": -5.141611127917519,
          "y": 0.9092897386374695
         },
         {
          "i": 179,
          "x": -5.112825786283405,
          "y": 0.9208908059103682
         },
         {
          "i": 178,
          "x": -5.076395145457313,
          "y": 0.9344780484617745
         },
         {
          "i": 177,
          "x": -5.031653057937608,
          "y": 0.9494666576102795
         },
         {
          "i": 176,
          "x": -5.01170331470665,
          "y": 0.9555388926028953
         },
         {
          "i": 175,
          "x": -4.98242842526167,
          "y": 0.9637603744274216
         },
         {
          "i": 174,
          "x": -4.9305985422573,
          "y": 0.9762866115580084
         },
         {
          "i": 173,
          "x": -4.898758378574525,
          "y": 0.9826834330327727
         },
         {
          "i": 172,
          "x": -4.870919949423079,
          "y": 0.9874602614260134
         },
         {
          "i": 171,
          "x": -4.834210466218158,
          "y": 0.9925889349097001
         },
         {
          "i": 170,
          "x": -4.792192037402397,
          "y": 0.9968174256094333
         },
         {
          "i": 169,
          "x": -4.7542779597003735,
          "y": 0.9991227849869844
         },
         {
          "i": 168,
          "x": -4.7254551862099206,
          "y": 0.9999146383471293
         },
         {
          "i": 167,
          "x": -4.704188521395523,
          "y": 0.9999663764246093
         },
         {
          "i": 166,
          "x": -4.664031708322247,
          "y": 0.9988310149447069
         },
         {
          "i": 165,
          "x": -4.623611762115034,
          "y": 0.9960618902607556
         },
         {
          "i": 164,
          "x": -4.5744732251523335,
          "y": 0.990504687222504
         },
         {
          "i": 163,
          "x": -4.511418132557389,
          "y": 0.9798732383047504
         },
         {
          "i": 162,
          "x": -4.442114395333054,
          "y": 0.9636976195688016
         },
         {
          "i": 161,
          "x": -4.398939775817339,
          "y": 0.9512756973735317
         },
         {
          "i": 160,
          "x": -4.34902525640456,
          "y": 0.9347065779640723
         },
         {
          "i": 159,
          "x": -4.314217759091738,
          "y": 0.9217716133661725
         },
         {
          "i": 158,
          "x": -4.25363864853562,
          "y": 0.8966065855217873
         },
         {
          "i": 157,
          "x": -4.203556365451096,
          "y": 0.8733138036613245
         },
         {
          "i": 156,
          "x": -4.17335458637832,
          "y": 0.8582047342201728
         },
         {
          "i": 155,
          "x": -4.1349068853337805,
          "y": 0.8378398691193136
         },
         {
          "i": 154,
          "x": -4.103113923016221,
          "y": 0.8200630984735019
         },
         {
          "i": 153,
          "x": -4.055378006726984,
          "y": 0.791821322187292
         },
         {
          "i": 152,
          "x": -3.991922188631986,
          "y": 0.7514978519181562
         },
         {
          "i": 151,
          "x": -3.949902837981861,
          "y": 0.7231210156186326
         },
         {
          "i": 150,
          "x": -3.902431009877441,
          "y": 0.689528873765291
         },
         {
          "i": 149,
          "x": -3.8456003421617906,
          "y": 0.6472777547595367
         },
         {
          "i": 148,
          "x": -3.792279863750537,
          "y": 0.6057333396661496
         },
         {
          "i": 147,
          "x": -3.738726000643552,
          "y": 0.5622742058339723
         },
         {
          "i": 146,
          "x": -3.65597600101111,
          "y": 0.4919980871729597
         },
         {
          "i": 145,
          "x": -3.574039362034956,
          "y": 0.41909352661302224
         },
         {
          "i": 144,
          "x": -3.4123855553625226,
          "y": 0.26749552841487395
         },
         {
          "i": 143,
          "x": -3.28638058789832,
          "y": 0.14428258620890674
         },
         {
          "i": 142,
          "x": -3.052444976454338,
          "y": -0.08902964336811106
         },
         {
          "i": 141,
          "x": -2.8539073524167744,
          "y": -0.2837334150694185
         },
         {
          "i": 140,
          "x": -2.712200461622986,
          "y": -0.416318248776264
         },
         {
          "i": 139,
          "x": -2.636712694966689,
          "y": -0.48370237968946267
         },
         {
          "i": 138,
          "x": -2.5357672179225417,
          "y": -0.5694408049882638
         },
         {
          "i": 137,
          "x": -2.4279213045970405,
          "y": -0.6546135829117629
         },
         {
          "i": 136,
          "x": -2.3718549079344697,
          "y": -0.6959469394981546
         },
         {
          "i": 135,
          "x": -2.288118420213285,
          "y": -0.7535688019164686
         },
         {
          "i": 134,
          "x": -2.2423929287004416,
          "y": -0.7828291998574156
         },
         {
          "i": 133,
          "x": -2.2109058189671433,
          "y": -0.8020303648503159
         },
         {
          "i": 132,
          "x": -2.1490518004072974,
          "y": -0.8374174188157107
         },
         {
          "i": 131,
          "x": -2.1131380508103152,
          "y": -0.8565023661701434
         },
         {
          "i": 130,
          "x": -2.071618321969622,
          "y": -0.8771881799746286
         },
         {
          "i": 129,
          "x": -2.022642004124175,
          "y": -0.8996427630858878
         },
         {
          "i": 128,
          "x": -1.946181072246646,
          "y": -0.9303666313550397
         },
         {
          "i": 127,
          "x": -1.885831610258652,
          "y": -0.950785446923988
         },
         {
          "i": 126,
          "x": -1.8470092017475244,
          "y": -0.9620951373354528
         },
         {
          "i": 125,
          "x": -1.8011464456450406,
          "y": -0.9735865161010316
         },
         {
          "i": 124,
          "x": -1.7630273603819657,
          "y": -0.981580440961545
         },
         {
          "i": 123,
          "x": -1.708139884356321,
          "y": -0.9905831902085807
         },
         {
          "i": 122,
          "x": -1.6712443157122094,
          "y": -0.9949593411695703
         },
         {
          "i": 121,
          "x": -1.6368234131549246,
          "y": -0.9978210037310007
         },
         {
          "i": 120,
          "x": -1.5958266997573518,
          "y": -0.9996867565696207
         },
         {
          "i": 119,
          "x": -1.5648178829091226,
          "y": -0.9999821291575803
         },
         {
          "i": 118,
          "x": -1.5310169124984925,
          "y": -0.9992089034267587
         },
         {
          "i": 117,
          "x": -1.4732162264839435,
          "y": -0.9952428385679003
         },
         {
          "i": 116,
          "x": -1.4317475665350028,
          "y": -0.9903482871468012
         },
         {
          "i": 115,
          "x": -1.4088373594064367,
          "y": -0.9869132901360791
         },
         {
          "i": 114,
          "x": -1.3778552315359034,
          "y": -0.9814445367318715
         },
         {
          "i": 113,
          "x": -1.358893487486107,
          "y": -0.9776324786464095
         },
         {
          "i": 112,
          "x": -1.3308448638727195,
          "y": -0.9713495110987403
         },
         {
          "i": 111,
          "x": -1.286565093219541,
          "y": -0.9598775134638297
         },
         {
          "i": 110,
          "x": -1.2541801158665355,
          "y": -0.9502944085601706
         },
         {
          "i": 109,
          "x": -1.2058186022490571,
          "y": -0.9341317121405649
         },
         {
          "i": 108,
          "x": -1.1709511949396063,
          "y": -0.9211212914534043
         },
         {
          "i": 107,
          "x": -1.1338036259840645,
          "y": -0.9060284974817762
         },
         {
          "i": 106,
          "x": -1.0794391099071614,
          "y": -0.8816933047579264
         },
         {
          "i": 105,
          "x": -1.0300602978927071,
          "y": -0.8573300301215631
         },
         {
          "i": 104,
          "x": -0.9853785808480146,
          "y": -0.8334813340936621
         },
         {
          "i": 103,
          "x": -0.9555004798372149,
          "y": -0.816602719735566
         },
         {
          "i": 102,
          "x": -0.9110322465163208,
          "y": -0.7901368558682021
         },
         {
          "i": 101,
          "x": -0.8677418340842182,
          "y": -0.7628708641569457
         },
         {
          "i": 100,
          "x": -0.8355602494783916,
          "y": -0.7416724223155721
         },
         {
          "i": 99,
          "x": -0.7670329739834406,
          "y": -0.6940021179965744
         },
         {
          "i": 98,
          "x": -0.7219218054152245,
          "y": -0.6608282777393463
         },
         {
          "i": 97,
          "x": -0.6206142316974625,
          "y": -0.5815349608451976
         },
         {
          "i": 96,
          "x": -0.5626932830686907,
          "y": -0.5334661664564417
         },
         {
          "i": 95,
          "x": -0.47795977299332815,
          "y": -0.45996854471708076
         },
         {
          "i": 94,
          "x": -0.34820306211829394,
          "y": -0.341209260345195
         },
         {
          "i": 93,
          "x": 0.35441176879765984,
          "y": 0.3470387522102007
         },
         {
          "i": 92,
          "x": 0.4833885927398787,
          "y": 0.4647821831438216
         },
         {
          "i": 91,
          "x": 0.5748903286383209,
          "y": 0.54374275205074
         },
         {
          "i": 90,
          "x": 0.6615391164551022,
          "y": 0.6143320153364688
         },
         {
          "i": 89,
          "x": 0.7516665844317161,
          "y": 0.6828572341097091
         },
         {
          "i": 88,
          "x": 0.8290920580122566,
          "y": 0.7373183189950364
         },
         {
          "i": 87,
          "x": 0.8712277395375893,
          "y": 0.7651200398201615
         },
         {
          "i": 86,
          "x": 0.9399263419776063,
          "y": 0.8075146555948933
         },
         {
          "i": 85,
          "x": 0.9875731336487739,
          "y": 0.8346919209860748
         },
         {
          "i": 84,
          "x": 1.0515808528322894,
          "y": 0.8682087279801249
         },
         {
          "i": 83,
          "x": 1.0906662002344387,
          "y": 0.8869348255339418
         },
         {
          "i": 82,
          "x": 1.1345177698957698,
          "y": 0.9063305040364619
         },
         {
          "i": 81,
          "x": 1.1657104416868074,
          "y": 0.9190685534322274
         },
         {
          "i": 80,
          "x": 1.2113857870325724,
          "y": 0.9361043127242548
         },
         {
          "i": 79,
          "x": 1.2432917420841554,
          "y": 0.9468480190691821
         },
         {
          "i": 78,
          "x": 1.2757607176271908,
          "y": 0.9567917887103157
         },
         {
          "i": 77,
          "x": 1.310023681381718,
          "y": 0.9661910575868577
         },
         {
          "i": 76,
          "x": 1.3614673726634745,
          "y": 0.9781705806633026
         },
         {
          "i": 75,
          "x": 1.3963798835622145,
          "y": 0.98482797321246
         },
         {
          "i": 74,
          "x": 1.4486036136962295,
          "y": 0.9925437548328144
         },
         {
          "i": 73,
          "x": 1.4957314799386863,
          "y": 0.9971839570596106
         },
         {
          "i": 72,
          "x": 1.5385121881913828,
          "y": 0.999478912458975
         },
         {
          "i": 71,
          "x": 1.5729441829424866,
          "y": 0.9999976933578714
         },
         {
          "i": 70,
          "x": 1.6093071263980048,
          "y": 0.999258550799571
         },
         {
          "i": 69,
          "x": 1.6492659302139767,
          "y": 0.9969228401180587
         },
         {
          "i": 68,
          "x": 1.6990298141766225,
          "y": 0.9917893468272073
         },
         {
          "i": 67,
          "x": 1.7326384440894327,
          "y": 0.986932125691726
         },
         {
          "i": 66,
          "x": 1.7672826727372382,
          "y": 0.980758581875662
         },
         {
          "i": 65,
          "x": 1.8061670137691501,
          "y": 0.9724279626568144
         },
         {
          "i": 64,
          "x": 1.8369098458036652,
          "y": 0.9648002616720454
         },
         {
          "i": 63,
          "x": 1.8874263201859334,
          "y": 0.9502901172622105
         },
         {
          "i": 62,
          "x": 1.9449632189724493,
          "y": 0.9308124434680818
         },
         {
          "i": 61,
          "x": 1.9924842357787356,
          "y": 0.9123993773954899
         },
         {
          "i": 60,
          "x": 2.0300003693862134,
          "y": 0.8964055774268161
         },
         {
          "i": 59,
          "x": 2.076071859518272,
          "y": 0.8750411364253954
         },
         {
          "i": 58,
          "x": 2.110950289919115,
          "y": 0.8576295132147496
         },
         {
          "i": 57,
          "x": 2.1504004037130375,
          "y": 0.8366795596756186
         },
         {
          "i": 56,
          "x": 2.199409323672235,
          "y": 0.8088438764366055
         },
         {
          "i": 55,
          "x": 2.2349889441050266,
          "y": 0.7874147314542401
         },
         {
          "i": 54,
          "x": 2.283066438042769,
          "y": 0.7568801880139825
         },
         {
          "i": 53,
          "x": 2.36154621660403,
          "y": 0.7033124311239682
         },
         {
          "i": 52,
          "x": 2.426060815990229,
          "y": 0.656018910933967
         },
         {
          "i": 51,
          "x": 2.512484740167914,
          "y": 0.5884236931168382
         },
         {
          "i": 50,
          "x": 2.622840188962864,
          "y": 0.49579711634219853
         },
         {
          "i": 49,
          "x": 2.776359524920293,
          "y": 0.35716705580461305
         },
         {
          "i": 48,
          "x": 2.982566664105406,
          "y": 0.15835656143867258
         },
         {
          "i": 47,
          "x": 3.314935123688905,
          "y": -0.1724756854857934
         },
         {
          "i": 46,
          "x": 3.5344581187667754,
          "y": -0.3828371453574904
         },
         {
          "i": 45,
          "x": 3.686176790425123,
          "y": -0.518062429745253
         },
         {
          "i": 44,
          "x": 3.775291189054291,
          "y": -0.5921292400251907
         },
         {
          "i": 43,
          "x": 3.861567919744521,
          "y": -0.6593660767232016
         },
         {
          "i": 42,
          "x": 3.9196020072900195,
          "y": -0.7018628492985401
         },
         {
          "i": 41,
          "x": 3.9628484419980676,
          "y": -0.7320019784756443
         },
         {
          "i": 40,
          "x": 4.007864507569468,
          "y": -0.7619196233429233
         },
         {
          "i": 39,
          "x": 4.060360229202852,
          "y": -0.7948543884826349
         },
         {
          "i": 38,
          "x": 4.105252364588518,
          "y": -0.8212849951080142
         },
         {
          "i": 37,
          "x": 4.139019772134852,
          "y": -0.8400780674095931
         },
         {
          "i": 36,
          "x": 4.171286737466335,
          "y": -0.8571414576907003
         },
         {
          "i": 35,
          "x": 4.198548832353521,
          "y": -0.8708634043009102
         },
         {
          "i": 34,
          "x": 4.236015251148693,
          "y": -0.8886636235188841
         },
         {
          "i": 33,
          "x": 4.273305106945945,
          "y": -0.9051414979492891
         },
         {
          "i": 32,
          "x": 4.318371634888339,
          "y": -0.9233742521747738
         },
         {
          "i": 31,
          "x": 4.34198634290841,
          "y": -0.9321816701120322
         },
         {
          "i": 30,
          "x": 4.371780253548544,
          "y": -0.9425514883302962
         },
         {
          "i": 29,
          "x": 4.403211675341916,
          "y": -0.9525842177767483
         },
         {
          "i": 28,
          "x": 4.440239575097348,
          "y": -0.9631953565645281
         },
         {
          "i": 27,
          "x": 4.480107133372783,
          "y": -0.9731436507714082
         },
         {
          "i": 26,
          "x": 4.522647749639544,
          "y": -0.982053073113999
         },
         {
          "i": 25,
          "x": 4.557031271748535,
          "y": -0.9879562444699121
         },
         {
          "i": 24,
          "x": 4.594789363653884,
          "y": -0.99309313055661
         },
         {
          "i": 23,
          "x": 4.637318376091693,
          "y": -0.9971835252677291
         },
         {
          "i": 22,
          "x": 4.667875781597721,
          "y": -0.9990094511412593
         },
         {
          "i": 21,
          "x": 4.722956163923254,
          "y": -0.9999441678355772
         },
         {
          "i": 20,
          "x": 4.771465896059356,
          "y": -0.9982554664861494
         },
         {
          "i": 19,
          "x": 4.825766396258459,
          "y": -0.9935796626933441
         },
         {
          "i": 18,
          "x": 4.889455051778153,
          "y": -0.9843647175921856
         },
         {
          "i": 17,
          "x": 4.919379835066449,
          "y": -0.9786537718992502
         },
         {
          "i": 16,
          "x": 4.962088457699253,
          "y": -0.9689867284586264
         },
         {
          "i": 15,
          "x": 5.011150334127521,
          "y": -0.9557018011700971
         },
         {
          "i": 14,
          "x": 5.070588069341332,
          "y": -0.9365297202044106
         },
         {
          "i": 13,
          "x": 5.141525045383213,
          "y": -0.909325559688813
         },
         {
          "i": 12,
          "x": 5.211320333900187,
          "y": -0.8780943971073432
         },
         {
          "i": 11,
          "x": 5.256106726357941,
          "y": -0.8557913312929338
         },
         {
          "i": 10,
          "x": 5.297105810380817,
          "y": -0.8338684187604747
         },
         {
          "i": 9,
          "x": 5.338466629640017,
          "y": -0.8103321190897719
         },
         {
          "i": 8,
          "x": 5.394713631308763,
          "y": -0.7761088947818331
         },
         {
          "i": 7,
          "x": 5.447371094889231,
          "y": -0.741842747067202
         },
         {
          "i": 6,
          "x": 5.489625571124552,
          "y": -0.7128542699789888
         },
         {
          "i": 5,
          "x": 5.556590211615772,
          "y": -0.6643285266470802
         },
         {
          "i": 4,
          "x": 5.619883921123069,
          "y": -0.6157215753504343
         },
         {
          "i": 3,
          "x": 5.663926280465095,
          "y": -0.5804319388922772
         },
         {
          "i": 2,
          "x": 5.741602628736301,
          "y": -0.5154928242049618
         },
         {
          "i": 1,
          "x": 5.835835531922184,
          "y": -0.43257762218381496
         },
         {
          "i": 0,
          "x": 5.985998393390782,
          "y": -0.29283159700920613
         },
         {
          "i": -1,
          "x": 6.283185307179586,
          "y": -2.4492935982947064e-16
         }
        ]
       },
       "encoding": {
        "order": {
         "field": "i"
        },
        "x": {
         "field": "x",
         "type": "quantitative"
        },
        "y": {
         "field": "y",
         "type": "quantitative"
        }
       },
       "height": 400,
       "mark": "line",
       "width": 400
      },
      "image/png": "[encoded data removed]"
     },
     "metadata": {},
     "output_type": "display_data"
    }
   ],
   "source": [
    "(dv:parametric-plot #'identity #'sin :min (* -2 pi) :max (* 2 pi))"
   ]
  },
  {
   "cell_type": "code",
   "execution_count": 6,
   "id": "8fab4675-3546-4fc3-ab45-6cade6e1bfdd",
   "metadata": {},
   "outputs": [
    {
     "data": {
      "application/vnd.vegalite.v4+json": {
       "$schema": "https://vega.github.io/schema/vega-lite/v5.json",
       "data": {
        "values": [
         {
          "i": 180,
          "x": -6.283185307179586,
          "y": 2.4492935982947064e-16
         },
         {
          "i": 179,
          "x": -6.161427728844513,
          "y": 0.12236284945162527
         },
         {
          "i": 178,
          "x": -6.067639273799816,
          "y": 0.2189473538759056
         },
         {
          "i": 177,
          "x": -5.973591351749454,
          "y": 0.31987985459235146
         },
         {
          "i": 176,
          "x": -5.897248438630166,
          "y": 0.4063131455188984
         },
         {
          "i": 175,
          "x": -5.83004281973922,
          "y": 0.4869367331057632
         },
         {
          "i": 174,
          "x": -5.781883201806762,
          "y": 0.5479944083824112
         },
         {
          "i": 173,
          "x": -5.718436597188242,
          "y": 0.6335846039649803
         },
         {
          "i": 172,
          "x": -5.672693435470618,
          "y": 0.6996512590464644
         },
         {
          "i": 171,
          "x": -5.617201350066869,
          "y": 0.7857380929057187
         },
         {
          "i": 170,
          "x": -5.567521286282922,
          "y": 0.8694254928631415
         },
         {
          "i": 169,
          "x": -5.533707954493081,
          "y": 0.9306206966868004
         },
         {
          "i": 168,
          "x": -5.475805397620135,
          "y": 1.0449590114911984
         },
         {
          "i": 167,
          "x": -5.415378801098074,
          "y": 1.1800631902592122
         },
         {
          "i": 166,
          "x": -5.374351553944398,
          "y": 1.283277928043029
         },
         {
          "i": 165,
          "x": -5.330366976043412,
          "y": 1.4067450728749942
         },
         {
          "i": 164,
          "x": -5.273582523078989,
          "y": 1.590802705794213
         },
         {
          "i": 163,
          "x": -5.230811696575438,
          "y": 1.75294253020096
         },
         {
          "i": 162,
          "x": -5.189130541347137,
          "y": 1.9361974488795648
         },
         {
          "i": 161,
          "x": -5.155183397600036,
          "y": 2.1088202313912285
         },
         {
          "i": 160,
          "x": -5.113187866621137,
          "y": 2.3599642771993223
         },
         {
          "i": 159,
          "x": -5.085243000090685,
          "y": 2.5565627920306104
         },
         {
          "i": 158,
          "x": -5.053773020790804,
          "y": 2.81456360116346
         },
         {
          "i": 157,
          "x": -5.013816810094438,
          "y": 3.2164538426726264
         },
         {
          "i": 156,
          "x": -4.957325064866383,
          "y": 4.000723960269329
         },
         {
          "i": 155,
          "x": -4.88545788674233,
          "y": 5.720240247059134
         },
         {
          "i": 154,
          "x": -4.83093693044005,
          "y": 8.39585219188509
         },
         {
          "i": 153,
          "x": -4.731825768915666,
          "y": 51.44234942166245
         },
         {
          "i": 152,
          "x": -4.661677083839459,
          "y": -19.70233197555616
         },
         {
          "i": 151,
          "x": -4.460256688064856,
          "y": -3.881769398449856
         },
         {
          "i": 150,
          "x": -4.428308796854861,
          "y": -3.424926096747104
         },
         {
          "i": 149,
          "x": -4.382432375754021,
          "y": -2.919909382788361
         },
         {
          "i": 148,
          "x": -4.341657944347587,
          "y": -2.572648957707185
         },
         {
          "i": 147,
          "x": -4.302114161005803,
          "y": -2.2990726726567208
         },
         {
          "i": 146,
          "x": -4.269844339329586,
          "y": -2.1101815098592986
         },
         {
          "i": 145,
          "x": -4.232762705975361,
          "y": -1.9225743990129753
         },
         {
          "i": 144,
          "x": -4.185312742344715,
          "y": -1.7182241817934911
         },
         {
          "i": 143,
          "x": -4.146288605616075,
          "y": -1.573612429117846
         },
         {
          "i": 142,
          "x": -4.109680443512547,
          "y": -1.4532339529235572
         },
         {
          "i": 141,
          "x": -4.051405766590228,
          "y": -1.2858733624117968
         },
         {
          "i": 140,
          "x": -3.990951709223696,
          "y": -1.1368623048974593
         },
         {
          "i": 139,
          "x": -3.929993499382839,
          "y": -1.0060234694596495
         },
         {
          "i": 138,
          "x": -3.878039436771813,
          "y": -0.9065949279290055
         },
         {
          "i": 137,
          "x": -3.8401530268144146,
          "y": -0.8398303896955462
         },
         {
          "i": 136,
          "x": -3.804119784901394,
          "y": -0.7801621997584237
         },
         {
          "i": 135,
          "x": -3.761748051263941,
          "y": -0.7141436312863234
         },
         {
          "i": 134,
          "x": -3.723752306757141,
          "y": -0.6582595022067028
         },
         {
          "i": 133,
          "x": -3.690742033327233,
          "y": -0.6119354563371274
         },
         {
          "i": 132,
          "x": -3.6397208196737045,
          "y": -0.5438744938173118
         },
         {
          "i": 131,
          "x": -3.6041212356305623,
          "y": -0.4986019979174279
         },
         {
          "i": 130,
          "x": -3.5470350074809787,
          "y": -0.42922327471375515
         },
         {
          "i": 129,
          "x": -3.483867590967771,
          "y": -0.3562985436946195
         },
         {
          "i": 128,
          "x": -3.355743678475365,
          "y": -0.2174859169666167
         },
         {
          "i": 127,
          "x": -3.2581701190243586,
          "y": -0.11710845996043873
         },
         {
          "i": 126,
          "x": -3.0238918463387225,
          "y": 0.11824735803060735
         },
         {
          "i": 125,
          "x": -2.869086419893878,
          "y": 0.27945821318813113
         },
         {
          "i": 124,
          "x": -2.793099363816218,
          "y": 0.36332195908135523
         },
         {
          "i": 123,
          "x": -2.732808684446246,
          "y": 0.4331862233015925
         },
         {
          "i": 122,
          "x": -2.6917416138402945,
          "y": 0.4828713598714186
         },
         {
          "i": 121,
          "x": -2.631186468047309,
          "y": 0.5598921106210079
         },
         {
          "i": 120,
          "x": -2.561043930606418,
          "y": 0.6559529908502498
         },
         {
          "i": 119,
          "x": -2.513263272972012,
          "y": 0.7265591053078705
         },
         {
          "i": 118,
          "x": -2.473106698222451,
          "y": 0.7897927653315414
         },
         {
          "i": 117,
          "x": -2.4401346888767184,
          "y": 0.8447837639933914
         },
         {
          "i": 116,
          "x": -2.402212755385537,
          "y": 0.9119530757869344
         },
         {
          "i": 115,
          "x": -2.3746203659845113,
          "y": 0.963810967394996
         },
         {
          "i": 114,
          "x": -2.3374903520498544,
          "y": 1.0381258332824912
         },
         {
          "i": 113,
          "x": -1.5829459133761903,
          "y": 82.30327745505438
         },
         {
          "i": 112,
          "x": -1.0045943084753097,
          "y": -1.573259146611541
         },
         {
          "i": 111,
          "x": -0.9566404051457444,
          "y": -1.4181923745651428
         },
         {
          "i": 110,
          "x": -0.9284946683448154,
          "y": -1.3366704784290342
         },
         {
          "i": 109,
          "x": -0.9056764294778877,
          "y": -1.274954811760093
         },
         {
          "i": 108,
          "x": -0.8582010778030134,
          "y": -1.1573386156005565
         },
         {
          "i": 107,
          "x": -0.8268592214372869,
          "y": -1.086560616291831
         },
         {
          "i": 106,
          "x": -0.8006425500685913,
          "y": -1.0309631866953284
         },
         {
          "i": 105,
          "x": -0.7669801790273818,
          "y": -0.96382618952408
         },
         {
          "i": 104,
          "x": -0.7312253447744358,
          "y": -0.897126648525108
         },
         {
          "i": 103,
          "x": -0.6728639750834811,
          "y": -0.7969263855395028
         },
         {
          "i": 102,
          "x": -0.6190967442381243,
          "y": -0.7125462704627011
         },
         {
          "i": 101,
          "x": -0.5675366018264407,
          "y": -0.6374985613059776
         },
         {
          "i": 100,
          "x": -0.5238940163679443,
          "y": -0.5777439906733087
         },
         {
          "i": 99,
          "x": -0.47842581251832367,
          "y": -0.518611632561203
         },
         {
          "i": 98,
          "x": -0.4333644371357305,
          "y": -0.46269942195931363
         },
         {
          "i": 97,
          "x": -0.38078800189101497,
          "y": -0.40032672155702625
         },
         {
          "i": 96,
          "x": 0.35502457810376103,
          "y": 0.37073308775517677
         },
         {
          "i": 95,
          "x": 0.4329269366244996,
          "y": 0.4621683641020994
         },
         {
          "i": 94,
          "x": 0.5082366536914182,
          "y": 0.5570459285165592
         },
         {
          "i": 93,
          "x": 0.5691147027279115,
          "y": 0.6397202463239223
         },
         {
          "i": 92,
          "x": 0.6123388665162207,
          "y": 0.7024059426405658
         },
         {
          "i": 91,
          "x": 0.6388443617360775,
          "y": 0.7427491045001511
         },
         {
          "i": 90,
          "x": 0.6942123940319511,
          "y": 0.8324426454694479
         },
         {
          "i": 89,
          "x": 0.7371924603477472,
          "y": 0.9079544071644907
         },
         {
          "i": 88,
          "x": 0.7782813798003754,
          "y": 0.9858667772832965
         },
         {
          "i": 87,
          "x": 0.8276843586909063,
          "y": 1.0883615371619084
         },
         {
          "i": 86,
          "x": 0.8811886097375234,
          "y": 1.2125962256388048
         },
         {
          "i": 85,
          "x": 0.919023870005089,
          "y": 1.3106074796682794
         },
         {
          "i": 84,
          "x": 0.9672831120866756,
          "y": 1.450732809140313
         },
         {
          "i": 83,
          "x": 1.0039111791638313,
          "y": 1.5708877219443569
         },
         {
          "i": 82,
          "x": 1.0260026240992342,
          "y": 1.6502613972673448
         },
         {
          "i": 81,
          "x": 1.0666627555447865,
          "y": 1.812638805341356
         },
         {
          "i": 80,
          "x": 1.1084453914705223,
          "y": 2.0065002293778917
         },
         {
          "i": 79,
          "x": 1.1399653114485404,
          "y": 2.1756762271177954
         },
         {
          "i": 78,
          "x": 1.1842307552898084,
          "y": 2.456725827621064
         },
         {
          "i": 77,
          "x": 1.2318429127101265,
          "y": 2.836398504844214
         },
         {
          "i": 76,
          "x": 1.2818265807758644,
          "y": 3.363706111416126
         },
         {
          "i": 75,
          "x": 1.3337895160191107,
          "y": 4.139988320301481
         },
         {
          "i": 74,
          "x": 1.4649238954454504,
          "y": 9.410012298649656
         },
         {
          "i": 73,
          "x": 1.544891665642157,
          "y": 38.594456043042264
         },
         {
          "i": 72,
          "x": 1.6248878608073465,
          "y": -18.46914734306704
         },
         {
          "i": 71,
          "x": 1.890511578252176,
          "y": -3.0204780950513377
         },
         {
          "i": 70,
          "x": 1.9277324704632615,
          "y": -2.681619884752065
         },
         {
          "i": 69,
          "x": 1.97612882010979,
          "y": -2.3304961387135306
         },
         {
          "i": 68,
          "x": 2.018536153782055,
          "y": -2.0821598009790745
         },
         {
          "i": 67,
          "x": 2.048999888314749,
          "y": -1.9292742049367897
         },
         {
          "i": 66,
          "x": 2.1274341824746195,
          "y": -1.6070047887634833
         },
         {
          "i": 65,
          "x": 2.1945511980898385,
          "y": -1.3896746890552183
         },
         {
          "i": 64,
          "x": 2.250258693687089,
          "y": -1.2379722450862862
         },
         {
          "i": 63,
          "x": 2.287075167727906,
          "y": -1.1487576435392133
         },
         {
          "i": 62,
          "x": 2.3279309111168622,
          "y": -1.05818723231834
         },
         {
          "i": 61,
          "x": 2.3720913657277016,
          "y": -0.9687011660365422
         },
         {
          "i": 60,
          "x": 2.4123410930150637,
          "y": -0.893570583532807
         },
         {
          "i": 59,
          "x": 2.460509772832717,
          "y": -0.8104539580361655
         },
         {
          "i": 58,
          "x": 2.508971937699316,
          "y": -0.7331363331183268
         },
         {
          "i": 57,
          "x": 2.558323721607819,
          "y": -0.6598506001746032
         },
         {
          "i": 56,
          "x": 2.623351138179949,
          "y": -0.57022921301747
         },
         {
          "i": 55,
          "x": 2.670750774746292,
          "y": -0.5090254588087524
         },
         {
          "i": 54,
          "x": 2.7105852330541396,
          "y": -0.45984090207588046
         },
         {
          "i": 53,
          "x": 2.771578522724331,
          "y": -0.38787941842718066
         },
         {
          "i": 52,
          "x": 2.8198768302212507,
          "y": -0.333294743748848
         },
         {
          "i": 51,
          "x": 2.9463883464002,
          "y": -0.19772209188188578
         },
         {
          "i": 50,
          "x": 3.0239944360456654,
          "y": -0.1181433351310133
         },
         {
          "i": 49,
          "x": 3.345709957153242,
          "y": 0.20700012950396643
         },
         {
          "i": 48,
          "x": 3.4307733384360968,
          "y": 0.2975207291478417
         },
         {
          "i": 47,
          "x": 3.49166328240989,
          "y": 0.36510853670803706
         },
         {
          "i": 46,
          "x": 3.56043581148431,
          "y": 0.4451857144213084
         },
         {
          "i": 45,
          "x": 3.6412691525869074,
          "y": 0.5458825153350234
         },
         {
          "i": 44,
          "x": 3.681628621192711,
          "y": 0.5994785155501973
         },
         {
          "i": 43,
          "x": 3.746200127154079,
          "y": 0.6909222150329638
         },
         {
          "i": 42,
          "x": 3.779065445186289,
          "y": 0.7406230362753103
         },
         {
          "i": 41,
          "x": 3.813187611821812,
          "y": 0.7948535218655315
         },
         {
          "i": 40,
          "x": 3.85476577714554,
          "y": 0.8650611670837146
         },
         {
          "i": 39,
          "x": 3.894838371297672,
          "y": 0.937677453502971
         },
         {
          "i": 38,
          "x": 3.936777432970863,
          "y": 1.0197673182140894
         },
         {
          "i": 37,
          "x": 3.991066567389692,
          "y": 1.1371256465655593
         },
         {
          "i": 36,
          "x": 4.037707481731104,
          "y": 1.2501523354674242
         },
         {
          "i": 35,
          "x": 4.070116235806526,
          "y": 1.3367510554822017
         },
         {
          "i": 34,
          "x": 4.127539925601051,
          "y": 1.5102977794439394
         },
         {
          "i": 33,
          "x": 4.186598315968896,
          "y": 1.72331639817142
         },
         {
          "i": 32,
          "x": 4.23190312329093,
          "y": 1.9185442068039378
         },
         {
          "i": 31,
          "x": 4.283380393555296,
          "y": 2.1861668502908933
         },
         {
          "i": 30,
          "x": 4.314408428823135,
          "y": 2.3786031531454968
         },
         {
          "i": 29,
          "x": 4.347344770296639,
          "y": 2.6166179190468566
         },
         {
          "i": 28,
          "x": 4.377038369495898,
          "y": 2.869323021125627
         },
         {
          "i": 27,
          "x": 4.418686499246441,
          "y": 3.3063376070955637
         },
         {
          "i": 26,
          "x": 4.474338131456638,
          "y": 4.121131484957773
         },
         {
          "i": 25,
          "x": 4.5261275754806505,
          "y": 5.306567550046919
         },
         {
          "i": 24,
          "x": 4.623263684897562,
          "y": 11.190434977880455
         },
         {
          "i": 23,
          "x": 4.72159937698675,
          "y": -108.56988747707715
         },
         {
          "i": 22,
          "x": 4.749113247506028,
          "y": -27.217708634094766
         },
         {
          "i": 21,
          "x": 4.749113247506028,
          "y": null
         },
         {
          "i": 20,
          "x": 4.749113247506028,
          "y": -27.217708634094766
         },
         {
          "i": 19,
          "x": 4.789475084391957,
          "y": -12.946801137757873
         },
         {
          "i": 18,
          "x": 4.928527376817256,
          "y": -4.554393698480771
         },
         {
          "i": 17,
          "x": 5.00867449457812,
          "y": -3.275778118341536
         },
         {
          "i": 16,
          "x": 5.064418294479239,
          "y": -2.7223483866390388
         },
         {
          "i": 15,
          "x": 5.108891737327025,
          "y": -2.388476658061809
         },
         {
          "i": 14,
          "x": 5.141488222310417,
          "y": -2.1856430287944506
         },
         {
          "i": 13,
          "x": 5.18268086116674,
          "y": -1.9672138389585243
         },
         {
          "i": 12,
          "x": 5.228329415933433,
          "y": -1.763096585601159
         },
         {
          "i": 11,
          "x": 5.269562722349935,
          "y": -1.6050866468940406
         },
         {
          "i": 10,
          "x": 5.335031491805107,
          "y": -1.392940282944218
         },
         {
          "i": 9,
          "x": 5.383807768062561,
          "y": -1.258548551986182
         },
         {
          "i": 8,
          "x": 5.445401169456827,
          "y": -1.11067080260454
         },
         {
          "i": 7,
          "x": 5.487002504718681,
          "y": -1.0218052856484465
         },
         {
          "i": 6,
          "x": 5.519407887276995,
          "y": -0.9576671835204627
         },
         {
          "i": 5,
          "x": 5.570536876161127,
          "y": -0.8641442470460194
         },
         {
          "i": 4,
          "x": 5.616247047146132,
          "y": -0.7872827262001038
         },
         {
          "i": 3,
          "x": 5.689079446688962,
          "y": -0.6755186092823774
         },
         {
          "i": 2,
          "x": 5.730779205405857,
          "y": -0.6164206612380426
         },
         {
          "i": 1,
          "x": 5.787989560095912,
          "y": -0.54008070656072
         },
         {
          "i": 0,
          "x": 5.865305947370908,
          "y": -0.4440313958091845
         },
         {
          "i": -1,
          "x": 5.934409992897742,
          "y": -0.3636412443515961
         },
         {
          "i": -2,
          "x": 6.009757777060403,
          "y": -0.2804517160716848
         },
         {
          "i": -3,
          "x": 6.283185307179586,
          "y": -2.4492935982947064e-16
         }
        ]
       },
       "encoding": {
        "order": {
         "field": "i"
        },
        "x": {
         "field": "x",
         "type": "quantitative"
        },
        "y": {
         "field": "y",
         "type": "quantitative"
        }
       },
       "height": 400,
       "mark": "line",
       "width": 400
      },
      "image/png": "[encoded data removed]"
     },
     "metadata": {},
     "output_type": "display_data"
    }
   ],
   "source": [
    "(dv:parametric-plot #'identity #'tan :min (* -2 pi) :max (* 2 pi))"
   ]
  },
  {
   "cell_type": "code",
   "execution_count": 7,
   "id": "86b057e0-53c8-4f62-8d08-0555c9ac9810",
   "metadata": {},
   "outputs": [
    {
     "data": {
      "application/vnd.vegalite.v4+json": {
       "$schema": "https://vega.github.io/schema/vega-lite/v5.json",
       "data": {
        "values": [
         {
          "i": 63,
          "x": -6.283185307179586,
          "y": 0.0018674427317079895
         },
         {
          "i": 62,
          "x": -5.649267727873578,
          "y": 0.0035200934977166203
         },
         {
          "i": 61,
          "x": -4.899652491967434,
          "y": 0.007449171268040258
         },
         {
          "i": 60,
          "x": -4.27886566042811,
          "y": 0.013858373275091313
         },
         {
          "i": 59,
          "x": -3.560069936775693,
          "y": 0.028436835864027194
         },
         {
          "i": 58,
          "x": -2.974013666576442,
          "y": 0.05109780863350594
         },
         {
          "i": 57,
          "x": -2.604330765524095,
          "y": 0.0739526122782144
         },
         {
          "i": 56,
          "x": -2.25961619047672,
          "y": 0.10439054315147808
         },
         {
          "i": 55,
          "x": -1.963081909804421,
          "y": 0.14042497623436542
         },
         {
          "i": 54,
          "x": -1.7667624404583118,
          "y": 0.1708853456802743
         },
         {
          "i": 53,
          "x": -1.580126663820788,
          "y": 0.20594901026419166
         },
         {
          "i": 52,
          "x": -1.4628832629655446,
          "y": 0.2315676408664097
         },
         {
          "i": 51,
          "x": -1.3744412298921183,
          "y": 0.25298091449162313
         },
         {
          "i": 50,
          "x": -1.278786945789812,
          "y": 0.2783747794198555
         },
         {
          "i": 49,
          "x": -1.1980173684843625,
          "y": 0.3017919614117608
         },
         {
          "i": 48,
          "x": -1.1056425302420503,
          "y": 0.3309981375884004
         },
         {
          "i": 47,
          "x": -1.0448791911809079,
          "y": 0.35173430941798434
         },
         {
          "i": 46,
          "x": -0.9810482675314706,
          "y": 0.37491787854831926
         },
         {
          "i": 45,
          "x": -0.9133849988165715,
          "y": 0.40116398351673804
         },
         {
          "i": 44,
          "x": -0.8184558524452767,
          "y": 0.44111227131948344
         },
         {
          "i": 43,
          "x": -0.7517908314839084,
          "y": 0.4715213808525121
         },
         {
          "i": 42,
          "x": -0.6944112622761908,
          "y": 0.4993683584492535
         },
         {
          "i": 41,
          "x": -0.6101393125950051,
          "y": 0.5432751787273624
         },
         {
          "i": 40,
          "x": -0.5446865747809241,
          "y": 0.5800235488612802
         },
         {
          "i": 39,
          "x": -0.4618920960493581,
          "y": 0.6300903255092744
         },
         {
          "i": 38,
          "x": -0.40046171292206095,
          "y": 0.6700106220464921
         },
         {
          "i": 37,
          "x": -0.33590319980849165,
          "y": 0.7146922848177729
         },
         {
          "i": 36,
          "x": -0.29294617754530006,
          "y": 0.7460622945206732
         },
         {
          "i": 35,
          "x": -0.22804777226734818,
          "y": 0.7960862280829092
         },
         {
          "i": 34,
          "x": -0.18452234877918483,
          "y": 0.8315013566515367
         },
         {
          "i": 33,
          "x": -0.13279555974562157,
          "y": 0.8756440907115378
         },
         {
          "i": 32,
          "x": -0.05584957196848643,
          "y": 0.9456813821799738
         },
         {
          "i": 31,
          "x": -0.002972918704752213,
          "y": 0.9970314960420821
         },
         {
          "i": 30,
          "x": 0.06924708942091826,
          "y": 1.0717009824108044
         },
         {
          "i": 29,
          "x": 0.11207759218325655,
          "y": 1.1185996518670198
         },
         {
          "i": 28,
          "x": 0.17360503684612788,
          "y": 1.1895856305304744
         },
         {
          "i": 27,
          "x": 0.23973573605093948,
          "y": 1.2709132493859092
         },
         {
          "i": 26,
          "x": 0.31370103696461776,
          "y": 1.3684805502854651
         },
         {
          "i": 25,
          "x": 0.3766220640714306,
          "y": 1.4573534190594764
         },
         {
          "i": 24,
          "x": 0.44160578441687925,
          "y": 1.5552025345003724
         },
         {
          "i": 23,
          "x": 0.4925073277347909,
          "y": 1.636414106911586
         },
         {
          "i": 22,
          "x": 0.5361630171145684,
          "y": 1.709435188984756
         },
         {
          "i": 21,
          "x": 0.6007685478226654,
          "y": 1.8235197240966623
         },
         {
          "i": 20,
          "x": 0.6570745927979651,
          "y": 1.9291405498887566
         },
         {
          "i": 19,
          "x": 0.7526043448872517,
          "y": 2.122520600414019
         },
         {
          "i": 18,
          "x": 0.8465083289511507,
          "y": 2.3314918203777215
         },
         {
          "i": 17,
          "x": 0.9268980103353445,
          "y": 2.526659337699543
         },
         {
          "i": 16,
          "x": 0.9979561908217808,
          "y": 2.712731852586794
         },
         {
          "i": 15,
          "x": 1.0597888169319631,
          "y": 2.8857615009460247
         },
         {
          "i": 14,
          "x": 1.187524991483207,
          "y": 3.278955712881341
         },
         {
          "i": 13,
          "x": 1.2698721185980617,
          "y": 3.5603972246529825
         },
         {
          "i": 12,
          "x": 1.416493693062816,
          "y": 4.122639827723466
         },
         {
          "i": 11,
          "x": 1.545861774126164,
          "y": 4.692013340946481
         },
         {
          "i": 10,
          "x": 1.6523742377622863,
          "y": 5.219357122820115
         },
         {
          "i": 9,
          "x": 1.776386804963811,
          "y": 5.908469351903436
         },
         {
          "i": 8,
          "x": 1.9578029220541031,
          "y": 7.083746412452803
         },
         {
          "i": 7,
          "x": 2.157914801418041,
          "y": 8.653075452701597
         },
         {
          "i": 6,
          "x": 2.326241234590674,
          "y": 10.239381676057098
         },
         {
          "i": 5,
          "x": 2.744062634444386,
          "y": 15.55003103501864
         },
         {
          "i": 4,
          "x": 3.0201742604568094,
          "y": 20.494862817187038
         },
         {
          "i": 3,
          "x": 3.691772163057336,
          "y": 40.11587587452343
         },
         {
          "i": 2,
          "x": 4.2356224572002095,
          "y": 69.10468005455694
         },
         {
          "i": 1,
          "x": 4.910430996907413,
          "y": 135.69788717648453
         },
         {
          "i": 0,
          "x": 5.588356528887068,
          "y": 267.29596533533896
         },
         {
          "i": -1,
          "x": 6.283185307179586,
          "y": 535.4916555247646
         }
        ]
       },
       "encoding": {
        "order": {
         "field": "i"
        },
        "x": {
         "field": "x",
         "type": "quantitative"
        },
        "y": {
         "field": "y",
         "type": "quantitative"
        }
       },
       "height": 400,
       "mark": "line",
       "width": 400
      },
      "image/png": "[encoded data removed]"
     },
     "metadata": {},
     "output_type": "display_data"
    }
   ],
   "source": [
    "(dv:parametric-plot #'identity #'exp :min (* -2 pi) :max (* 2 pi))"
   ]
  },
  {
   "cell_type": "code",
   "execution_count": 8,
   "id": "61687f3a-41dd-47d1-bede-cb0664b7f2b8",
   "metadata": {},
   "outputs": [
    {
     "data": {
      "application/vnd.vegalite.v4+json": {
       "$schema": "https://vega.github.io/schema/vega-lite/v5.json",
       "data": {
        "values": [
         {
          "i": 240,
          "x": -6.283185307179586,
          "y": 4082809838298842.5
         },
         {
          "i": 239,
          "x": -5.636489450235438,
          "y": 1.6596057846493446
         },
         {
          "i": 238,
          "x": -5.601435089355833,
          "y": 1.5869162390093705
         },
         {
          "i": 237,
          "x": -5.571707209785807,
          "y": 1.5315014738666295
         },
         {
          "i": 236,
          "x": -5.546902102479395,
          "y": 1.4891178454853378
         },
         {
          "i": 235,
          "x": -5.527168519717025,
          "y": 1.4576647263275537
         },
         {
          "i": 234,
          "x": -5.498414768553049,
          "y": 1.415101994093067
         },
         {
          "i": 233,
          "x": -5.452190991229453,
          "y": 1.3539090576378554
         },
         {
          "i": 232,
          "x": -5.414540518578278,
          "y": 1.309835994843092
         },
         {
          "i": 231,
          "x": -5.35239911167017,
          "y": 1.2467433388900868
         },
         {
          "i": 230,
          "x": -5.305332870201727,
          "y": 1.2058373884971514
         },
         {
          "i": 229,
          "x": -5.227742252662376,
          "y": 1.1492685256936324
         },
         {
          "i": 228,
          "x": -5.198604715847661,
          "y": 1.1310841603894328
         },
         {
          "i": 227,
          "x": -5.150846875351135,
          "y": 1.104475141514732
         },
         {
          "i": 226,
          "x": -5.123526328703265,
          "y": 1.090908846438993
         },
         {
          "i": 225,
          "x": -5.090906859606441,
          "y": 1.0761790977167478
         },
         {
          "i": 224,
          "x": -5.04099929715964,
          "y": 1.0565332483150298
         },
         {
          "i": 223,
          "x": -5.0069268178173,
          "y": 1.045001517736734
         },
         {
          "i": 222,
          "x": -4.940264707639342,
          "y": 1.0265375517063549
         },
         {
          "i": 221,
          "x": -4.8845770497362375,
          "y": 1.015009735410553
         },
         {
          "i": 220,
          "x": -4.84679944342346,
          "y": 1.0091015867493331
         },
         {
          "i": 219,
          "x": -4.8033405910978235,
          "y": 1.0041504019520293
         },
         {
          "i": 218,
          "x": -4.74643211810108,
          "y": 1.0005797475636575
         },
         {
          "i": 217,
          "x": -4.701435079712513,
          "y": 1.0000599969695114
         },
         {
          "i": 216,
          "x": -4.61549678518122,
          "y": 1.0047124808601666
         },
         {
          "i": 215,
          "x": -4.5574662837923565,
          "y": 1.0121217142422057
         },
         {
          "i": 214,
          "x": -4.5031885527543825,
          "y": 1.0222886728268166
         },
         {
          "i": 213,
          "x": -4.462256915440415,
          "y": 1.0321198378376284
         },
         {
          "i": 212,
          "x": -4.426977432201647,
          "y": 1.0421596716408812
         },
         {
          "i": 211,
          "x": -4.392405559460146,
          "y": 1.053473655732063
         },
         {
          "i": 210,
          "x": -4.355564242991968,
          "y": 1.067223709620207
         },
         {
          "i": 209,
          "x": -4.322067854578885,
          "y": 1.0813301682803063
         },
         {
          "i": 208,
          "x": -4.27891348672615,
          "y": 1.1019144947309547
         },
         {
          "i": 207,
          "x": -4.252747298612526,
          "y": 1.1158080247795816
         },
         {
          "i": 206,
          "x": -4.226903739619329,
          "y": 1.1306479262961613
         },
         {
          "i": 205,
          "x": -4.1841415935938455,
          "y": 1.1578204848563562
         },
         {
          "i": 204,
          "x": -4.16002977473386,
          "y": 1.174689173447005
         },
         {
          "i": 203,
          "x": -4.1327950442831325,
          "y": 1.195192771623369
         },
         {
          "i": 202,
          "x": -4.097625286012697,
          "y": 1.224125412294054
         },
         {
          "i": 201,
          "x": -4.053641723659489,
          "y": 1.264606698323641
         },
         {
          "i": 200,
          "x": -3.998924927173848,
          "y": 1.3225775269682978
         },
         {
          "i": 199,
          "x": -3.961632793337029,
          "y": 1.3676649824915335
         },
         {
          "i": 198,
          "x": -3.9316362205217885,
          "y": 1.4076894889481517
         },
         {
          "i": 197,
          "x": -3.902518843113933,
          "y": 1.450131812170522
         },
         {
          "i": 196,
          "x": -3.8592461667410607,
          "y": 1.520637893615462
         },
         {
          "i": 195,
          "x": -3.808840162881312,
          "y": 1.6159626717619617
         },
         {
          "i": 194,
          "x": -3.7664318075593455,
          "y": 1.70949865353982
         },
         {
          "i": 193,
          "x": -3.738833868501965,
          "y": 1.7782095935154267
         },
         {
          "i": 192,
          "x": -3.716239288744079,
          "y": 1.8397970393908314
         },
         {
          "i": 191,
          "x": -3.690245390202682,
          "y": 1.9174051654656228
         },
         {
          "i": 190,
          "x": -3.652226511373754,
          "y": 2.046118091279498
         },
         {
          "i": 189,
          "x": -3.6124994406949624,
          "y": 2.204126045182986
         },
         {
          "i": 188,
          "x": -3.571373045741582,
          "y": 2.3999740244124577
         },
         {
          "i": 187,
          "x": -3.538155175271741,
          "y": 2.588997295856995
         },
         {
          "i": 186,
          "x": -3.4977821722642615,
          "y": 2.8677497040853246
         },
         {
          "i": 185,
          "x": -3.468558251704418,
          "y": 3.113607424256035
         },
         {
          "i": 184,
          "x": -3.4184819925043666,
          "y": 3.658115474771193
         },
         {
          "i": 183,
          "x": -3.376044702752646,
          "y": 4.304591879028128
         },
         {
          "i": 182,
          "x": -3.105325477354143,
          "y": -27.57918744920215
         },
         {
          "i": 181,
          "x": -2.907005026376254,
          "y": -4.302149838943685
         },
         {
          "i": 180,
          "x": -2.842825582929852,
          "y": -3.3974070722007057
         },
         {
          "i": 179,
          "x": -2.7888688117655995,
          "y": -2.8947310645496067
         },
         {
          "i": 178,
          "x": -2.7575145938603924,
          "y": -2.6687694829227686
         },
         {
          "i": 177,
          "x": -2.7103425151750713,
          "y": -2.3923055260225707
         },
         {
          "i": 176,
          "x": -2.6808357624658514,
          "y": -2.249080269404856
         },
         {
          "i": 175,
          "x": -2.6527577708648375,
          "y": -2.1294830113028955
         },
         {
          "i": 174,
          "x": -2.608805618882694,
          "y": -1.9687517828473822
         },
         {
          "i": 173,
          "x": -2.5786183286310145,
          "y": -1.8736982833717009
         },
         {
          "i": 172,
          "x": -2.556042836861183,
          "y": -1.809438323697315
         },
         {
          "i": 171,
          "x": -2.5298492467091913,
          "y": -1.741263653053889
         },
         {
          "i": 170,
          "x": -2.500015536354415,
          "y": -1.6709562978277888
         },
         {
          "i": 169,
          "x": -2.4738980608679286,
          "y": -1.6150462613644234
         },
         {
          "i": 168,
          "x": -2.4370151464749066,
          "y": -1.54389606151408
         },
         {
          "i": 167,
          "x": -2.380884098991257,
          "y": -1.450463359036125
         },
         {
          "i": 166,
          "x": -2.3522551681917045,
          "y": -1.4086752812771444
         },
         {
          "i": 165,
          "x": -2.3115693255466585,
          "y": -1.355110658246621
         },
         {
          "i": 164,
          "x": -2.282047612185421,
          "y": -1.3200524572742374
         },
         {
          "i": 163,
          "x": -2.2439535636787236,
          "y": -1.2790059972136805
         },
         {
          "i": 162,
          "x": -2.218660438283643,
          "y": -1.2541157061592696
         },
         {
          "i": 161,
          "x": -2.1876119876399787,
          "y": -1.225904028556128
         },
         {
          "i": 160,
          "x": -2.1418503386529975,
          "y": -1.1885918068765973
         },
         {
          "i": 159,
          "x": -2.110149075744257,
          "y": -1.1654450981655122
         },
         {
          "i": 158,
          "x": -2.0757626363404356,
          "y": -1.1426080234614606
         },
         {
          "i": 157,
          "x": -2.043339863067823,
          "y": -1.1230737524182277
         },
         {
          "i": 156,
          "x": -1.983922246676127,
          "y": -1.0918576294076228
         },
         {
          "i": 155,
          "x": -1.939343347116969,
          "y": -1.071981659040363
         },
         {
          "i": 154,
          "x": -1.8467746977059547,
          "y": -1.0393291899575037
         },
         {
          "i": 153,
          "x": -1.7877777570404676,
          "y": -1.0240112790270783
         },
         {
          "i": 152,
          "x": -1.7348076357885291,
          "y": -1.0136022708234695
         },
         {
          "i": 151,
          "x": -1.660517653774924,
          "y": -1.0040385028378858
         },
         {
          "i": 150,
          "x": -1.6247579829036907,
          "y": -1.0014576987030914
         },
         {
          "i": 149,
          "x": -1.574513747079272,
          "y": -1.000006909646571
         },
         {
          "i": 148,
          "x": -1.533286670153422,
          "y": -1.0007038998186175
         },
         {
          "i": 147,
          "x": -1.507465044880399,
          "y": -1.0020087825531538
         },
         {
          "i": 146,
          "x": -1.462011344068938,
          "y": -1.005946403915754
         },
         {
          "i": 145,
          "x": -1.4103187471825085,
          "y": -1.013016159882682
         },
         {
          "i": 144,
          "x": -1.3729747581014533,
          "y": -1.0198908917705019
         },
         {
          "i": 143,
          "x": -1.3471788953353014,
          "y": -1.025534122753557
         },
         {
          "i": 142,
          "x": -1.2914770749865874,
          "y": -1.040319296891942
         },
         {
          "i": 141,
          "x": -1.2481289670234081,
          "y": -1.054415227661888
         },
         {
          "i": 140,
          "x": -1.2171423515249002,
          "y": -1.0659690913766942
         },
         {
          "i": 139,
          "x": -1.1744839895718309,
          "y": -1.0840216843293062
         },
         {
          "i": 138,
          "x": -1.129493663623884,
          "y": -1.1059548545692766
         },
         {
          "i": 137,
          "x": -1.0879416415985221,
          "y": -1.1290847908035246
         },
         {
          "i": 136,
          "x": -1.0372640871786458,
          "y": -1.1614185669360448
         },
         {
          "i": 135,
          "x": -0.9642410385166341,
          "y": -1.2171128290375817
         },
         {
          "i": 134,
          "x": -0.9242610786512857,
          "y": -1.2528567690393402
         },
         {
          "i": 133,
          "x": -0.8987578313831014,
          "y": -1.2778668234187347
         },
         {
          "i": 132,
          "x": -0.8704664053252544,
          "y": -1.307822760489758
         },
         {
          "i": 131,
          "x": -0.8437629985576869,
          "y": -1.3384202160667251
         },
         {
          "i": 130,
          "x": -0.8102437900215728,
          "y": -1.3803475176129791
         },
         {
          "i": 129,
          "x": -0.7667303811669053,
          "y": -1.4413703284731154
         },
         {
          "i": 128,
          "x": -0.7454805374043139,
          "y": -1.47421965151667
         },
         {
          "i": 127,
          "x": -0.7161563935620074,
          "y": -1.5232520701773007
         },
         {
          "i": 126,
          "x": -0.6747652655224753,
          "y": -1.600732390966181
         },
         {
          "i": 125,
          "x": -0.631267369589967,
          "y": -1.694431755285966
         },
         {
          "i": 124,
          "x": -0.5814742681440744,
          "y": -1.8206429599324385
         },
         {
          "i": 123,
          "x": -0.5373737649774413,
          "y": -1.953576472137109
         },
         {
          "i": 122,
          "x": -0.5083215516568144,
          "y": -2.0546043851182754
         },
         {
          "i": 121,
          "x": -0.4831182808748051,
          "y": -2.152654062455085
         },
         {
          "i": 120,
          "x": -0.44656687350547036,
          "y": -2.3155028833659563
         },
         {
          "i": 119,
          "x": -0.4081938788797966,
          "y": -2.519194705211624
         },
         {
          "i": 118,
          "x": 0.011104620736348632,
          "y": 90.05445355937309
         },
         {
          "i": 117,
          "x": 0.36829745840672945,
          "y": 2.777564965768246
         },
         {
          "i": 116,
          "x": 0.40749741459716343,
          "y": 2.52325871143408
         },
         {
          "i": 115,
          "x": 0.4594748170837769,
          "y": 2.2549060618657433
         },
         {
          "i": 114,
          "x": 0.4946325165320348,
          "y": 2.1065570484740874
         },
         {
          "i": 113,
          "x": 0.5502468252368085,
          "y": 1.912420191148501
         },
         {
          "i": 112,
          "x": 0.5836286371266082,
          "y": 1.8146991082183055
         },
         {
          "i": 111,
          "x": 0.6143528116665734,
          "y": 1.7348166389856448
         },
         {
          "i": 110,
          "x": 0.6395357151980116,
          "y": 1.675538710771321
         },
         {
          "i": 109,
          "x": 0.6709896759148134,
          "y": 1.608333969184052
         },
         {
          "i": 108,
          "x": 0.7069371840054572,
          "y": 1.5396269308863526
         },
         {
          "i": 107,
          "x": 0.7309967582798149,
          "y": 1.497875871903096
         },
         {
          "i": 106,
          "x": 0.7743527294165331,
          "y": 1.430096513969083
         },
         {
          "i": 105,
          "x": 0.8147676837206044,
          "y": 1.3744453002891015
         },
         {
          "i": 104,
          "x": 0.8558302785568161,
          "y": 1.324300719308385
         },
         {
          "i": 103,
          "x": 0.8865923900172131,
          "y": 1.2904517101137174
         },
         {
          "i": 102,
          "x": 0.9098779566827683,
          "y": 1.2667386364542044
         },
         {
          "i": 101,
          "x": 0.9352254044188759,
          "y": 1.2426483263461192
         },
         {
          "i": 100,
          "x": 0.9622189005267707,
          "y": 1.218825291342076
         },
         {
          "i": 99,
          "x": 0.9953675927852682,
          "y": 1.19195326914113
         },
         {
          "i": 98,
          "x": 1.0236983113977418,
          "y": 1.1709084144868975
         },
         {
          "i": 97,
          "x": 1.0660023662442142,
          "y": 1.1424991955513133
         },
         {
          "i": 96,
          "x": 1.125514628678739,
          "y": 1.1080462914977411
         },
         {
          "i": 95,
          "x": 1.1650759685189733,
          "y": 1.088354437246631
         },
         {
          "i": 94,
          "x": 1.2145126667554855,
          "y": 1.067008645998132
         },
         {
          "i": 93,
          "x": 1.2538084107775442,
          "y": 1.0524337086575664
         },
         {
          "i": 92,
          "x": 1.3045631014594594,
          "y": 1.0365177926683962
         },
         {
          "i": 91,
          "x": 1.3665818242465884,
          "y": 1.02122036280245
         },
         {
          "i": 90,
          "x": 1.4068926209935877,
          "y": 1.0135842266769024
         },
         {
          "i": 89,
          "x": 1.4629016872913494,
          "y": 1.0058489939876432
         },
         {
          "i": 88,
          "x": 1.5047811394714974,
          "y": 1.0021829662132191
         },
         {
          "i": 87,
          "x": 1.545932719935635,
          "y": 1.000309179111784
         },
         {
          "i": 86,
          "x": 1.5875729553743796,
          "y": 1.0001407441386918
         },
         {
          "i": 85,
          "x": 1.6266977492764427,
          "y": 1.0015645215713405
         },
         {
          "i": 84,
          "x": 1.6838416790529116,
          "y": 1.0064238263324616
         },
         {
          "i": 83,
          "x": 1.718248608581477,
          "y": 1.0109704500119898
         },
         {
          "i": 82,
          "x": 1.7575603206700596,
          "y": 1.017697514562368
         },
         {
          "i": 81,
          "x": 1.813753087732,
          "y": 1.0302577425544974
         },
         {
          "i": 80,
          "x": 1.8504505604153125,
          "y": 1.0404193173198457
         },
         {
          "i": 79,
          "x": 1.8758276434796377,
          "y": 1.0483965557737733
         },
         {
          "i": 78,
          "x": 1.9173831504734964,
          "y": 1.063221704140443
         },
         {
          "i": 77,
          "x": 1.945299587501262,
          "y": 1.0744722646303475
         },
         {
          "i": 76,
          "x": 1.977396827294503,
          "y": 1.088766485932039
         },
         {
          "i": 75,
          "x": 2.0289029581332554,
          "y": 1.1149621304084374
         },
         {
          "i": 74,
          "x": 2.059444546474381,
          "y": 1.1325435732197613
         },
         {
          "i": 73,
          "x": 2.079284830097621,
          "y": 1.1448440835934506
         },
         {
          "i": 72,
          "x": 2.1350006030375126,
          "y": 1.1834118191492353
         },
         {
          "i": 71,
          "x": 2.169917586953015,
          "y": 1.2109008148669387
         },
         {
          "i": 70,
          "x": 2.1996857281653943,
          "y": 1.236581065566
         },
         {
          "i": 69,
          "x": 2.232254182588394,
          "y": 1.2672704305621203
         },
         {
          "i": 68,
          "x": 2.2982169342371193,
          "y": 1.3388815870612976
         },
         {
          "i": 67,
          "x": 2.340935878100474,
          "y": 1.3931194908639484
         },
         {
          "i": 66,
          "x": 2.429601696153383,
          "y": 1.5305911344494831
         },
         {
          "i": 65,
          "x": 2.5091265294398295,
          "y": 1.6916590669932967
         },
         {
          "i": 64,
          "x": 2.55004643487534,
          "y": 1.7932550083392336
         },
         {
          "i": 63,
          "x": 2.6126490652278065,
          "y": 1.9816829876515365
         },
         {
          "i": 62,
          "x": 2.649378528123142,
          "y": 2.1160513282016273
         },
         {
          "i": 61,
          "x": 2.688976764519035,
          "y": 2.2866576276226978
         },
         {
          "i": 60,
          "x": 2.7271564633917653,
          "y": 2.483399006739185
         },
         {
          "i": 59,
          "x": 2.7648177646489316,
          "y": 2.7179563217855156
         },
         {
          "i": 58,
          "x": 2.812448603689143,
          "y": 3.093742137030442
         },
         {
          "i": 57,
          "x": 2.849813997473892,
          "y": 3.476372646453826
         },
         {
          "i": 56,
          "x": 2.8912600831750384,
          "y": 4.036715099764402
         },
         {
          "i": 55,
          "x": 2.9656614545301534,
          "y": 5.713468250812375
         },
         {
          "i": 54,
          "x": 3.181601821801701,
          "y": -25.000940620845924
         },
         {
          "i": 53,
          "x": 3.339918103281234,
          "y": -5.075423786238364
         },
         {
          "i": 52,
          "x": 3.4155235588536006,
          "y": -3.6966136226632047
         },
         {
          "i": 51,
          "x": 3.478074920147239,
          "y": -3.0287549142770773
         },
         {
          "i": 50,
          "x": 3.507402287383064,
          "y": -2.7955960092998464
         },
         {
          "i": 49,
          "x": 3.534754248721491,
          "y": -2.610211630546235
         },
         {
          "i": 48,
          "x": 3.5786431366014066,
          "y": -2.362563560012511
         },
         {
          "i": 47,
          "x": 3.631499292509557,
          "y": -2.1252019792720773
         },
         {
          "i": 46,
          "x": 3.670408058967493,
          "y": -1.9821176904638964
         },
         {
          "i": 45,
          "x": 3.731971556185786,
          "y": -1.7963776200022623
         },
         {
          "i": 44,
          "x": 3.795415665086045,
          "y": -1.644127289170935
         },
         {
          "i": 43,
          "x": 3.833783592479555,
          "y": -1.5668445514651426
         },
         {
          "i": 42,
          "x": 3.8677322522706166,
          "y": -1.506051312296505
         },
         {
          "i": 41,
          "x": 3.914408025129857,
          "y": -1.4323494295786439
         },
         {
          "i": 40,
          "x": 3.978471035346556,
          "y": -1.3466999024165334
         },
         {
          "i": 39,
          "x": 4.005656855056516,
          "y": -1.3149452546109326
         },
         {
          "i": 38,
          "x": 4.050829656242419,
          "y": -1.2673705433656883
         },
         {
          "i": 37,
          "x": 4.104899848084886,
          "y": -1.2179024444185578
         },
         {
          "i": 36,
          "x": 4.140575229776033,
          "y": -1.1891725841748184
         },
         {
          "i": 35,
          "x": 4.171909263987221,
          "y": -1.1662325166865246
         },
         {
          "i": 34,
          "x": 4.197333785348608,
          "y": -1.1490745746156257
         },
         {
          "i": 33,
          "x": 4.232587186908717,
          "y": -1.1272858684325395
         },
         {
          "i": 32,
          "x": 4.256755249851276,
          "y": -1.1136076373798225
         },
         {
          "i": 31,
          "x": 4.289274038585411,
          "y": -1.0967144641762223
         },
         {
          "i": 30,
          "x": 4.316347916471243,
          "y": -1.0838986852772803
         },
         {
          "i": 29,
          "x": 4.353926800165312,
          "y": -1.0678769829450736
         },
         {
          "i": 28,
          "x": 4.377012837066735,
          "y": -1.0590005436577623
         },
         {
          "i": 27,
          "x": 4.4098012319872,
          "y": -1.0475936905655796
         },
         {
          "i": 26,
          "x": 4.441805019947056,
          "y": -1.0377588867315057
         },
         {
          "i": 25,
          "x": 4.486230472450517,
          "y": -1.0261304293607065
         },
         {
          "i": 24,
          "x": 4.541713371495906,
          "y": -1.014743985674616
         },
         {
          "i": 23,
          "x": 4.5881317840763,
          "y": -1.0077699035915868
         },
         {
          "i": 22,
          "x": 4.62016932181716,
          "y": -1.0042673529080826
         },
         {
          "i": 21,
          "x": 4.671778983625845,
          "y": -1.0008251529169216
         },
         {
          "i": 20,
          "x": 4.731280270072608,
          "y": -1.0001784669510387
         },
         {
          "i": 19,
          "x": 4.788900144662733,
          "y": -1.0029341355050265
         },
         {
          "i": 18,
          "x": 4.84072333025502,
          "y": -1.0082917443785884
         },
         {
          "i": 17,
          "x": 4.881775814492039,
          "y": -1.0145194796965458
         },
         {
          "i": 16,
          "x": 4.934339648556385,
          "y": -1.025146958089084
         },
         {
          "i": 15,
          "x": 4.972955254570351,
          "y": -1.0349350126045882
         },
         {
          "i": 14,
          "x": 5.002440163467349,
          "y": -1.0435916166899073
         },
         {
          "i": 13,
          "x": 5.026193674345307,
          "y": -1.0513411682236924
         },
         {
          "i": 12,
          "x": 5.052012047257541,
          "y": -1.0605800111224297
         },
         {
          "i": 11,
          "x": 5.093551452033063,
          "y": -1.0773159217132517
         },
         {
          "i": 10,
          "x": 5.120066850861917,
          "y": -1.0892724430779035
         },
         {
          "i": 9,
          "x": 5.161344106385741,
          "y": -1.1099997609611474
         },
         {
          "i": 8,
          "x": 5.207739199093022,
          "y": -1.136618999904901
         },
         {
          "i": 7,
          "x": 5.251383663624575,
          "y": -1.1651954478487025
         },
         {
          "i": 6,
          "x": 5.28302368312337,
          "y": -1.1882718052872636
         },
         {
          "i": 5,
          "x": 5.323451568609429,
          "y": -1.2209433297825485
         },
         {
          "i": 4,
          "x": 5.368727403266681,
          "y": -1.2622566615214303
         },
         {
          "i": 3,
          "x": 5.422530647841599,
          "y": -1.3187922860702943
         },
         {
          "i": 2,
          "x": 5.487535059847918,
          "y": -1.3999351309272392
         },
         {
          "i": 1,
          "x": 5.529312205787893,
          "y": -1.4609896503455906
         },
         {
          "i": 0,
          "x": 5.572056225573592,
          "y": -1.5321218356372994
         },
         {
          "i": -1,
          "x": 6.283185307179586,
          "y": -4082809838298842.5
         }
        ]
       },
       "encoding": {
        "order": {
         "field": "i"
        },
        "x": {
         "field": "x",
         "type": "quantitative"
        },
        "y": {
         "field": "y",
         "type": "quantitative"
        }
       },
       "height": 400,
       "mark": "line",
       "width": 400
      },
      "image/png": "[encoded data removed]"
     },
     "metadata": {},
     "output_type": "display_data"
    }
   ],
   "source": [
    "(dv:parametric-plot #'identity (lambda (x) (/ (sin x))) :min (* -2 pi) :max (* 2 pi))"
   ]
  },
  {
   "cell_type": "code",
   "execution_count": 10,
   "id": "dd8679bf-dfdf-4da2-9ad2-1ed938fbf62f",
   "metadata": {},
   "outputs": [
    {
     "data": {
      "application/vnd.vegalite.v4+json": {
       "$schema": "https://vega.github.io/schema/vega-lite/v5.json",
       "data": {
        "values": [
         {
          "i": 102,
          "x": -3.141592653589793,
          "y": -0.31296179620778664
         },
         {
          "i": 101,
          "x": -2.838031641658731,
          "y": -0.34511085018822524
         },
         {
          "i": 100,
          "x": -2.521458993875244,
          "y": -0.3862805989928343
         },
         {
          "i": 99,
          "x": -2.362349235748992,
          "y": -0.4107782013173035
         },
         {
          "i": 98,
          "x": -2.187277760427549,
          "y": -0.44142782676792286
         },
         {
          "i": 97,
          "x": -1.9782433962587356,
          "y": -0.48424406623213984
         },
         {
          "i": 96,
          "x": -1.845244857361941,
          "y": -0.5157934075128062
         },
         {
          "i": 95,
          "x": -1.7480514931584268,
          "y": -0.5413698661958621
         },
         {
          "i": 94,
          "x": -1.6248344502710503,
          "y": -0.5773238196968434
         },
         {
          "i": 93,
          "x": -1.5287946514489066,
          "y": -0.6084532572721413
         },
         {
          "i": 92,
          "x": -1.4625491699940985,
          "y": -0.6316949555784663
         },
         {
          "i": 91,
          "x": -1.3797813971305124,
          "y": -0.6629501595106504
         },
         {
          "i": 90,
          "x": -1.3170409233129545,
          "y": -0.6883978248556771
         },
         {
          "i": 89,
          "x": -1.2041067145846007,
          "y": -0.7382627640603926
         },
         {
          "i": 88,
          "x": -1.1352079910082116,
          "y": -0.7713093568197039
         },
         {
          "i": 87,
          "x": -0.7954859876715289,
          "y": -0.9511973619116345
         },
         {
          "i": 86,
          "x": -0.7810315583002733,
          "y": -0.9581184415023913
         },
         {
          "i": 85,
          "x": -0.7587115942698422,
          "y": -0.9682227847611325
         },
         {
          "i": 84,
          "x": -0.7290771063576993,
          "y": -0.9802253405254605
         },
         {
          "i": 83,
          "x": -0.7098083861068235,
          "y": -0.9869122513808146
         },
         {
          "i": 82,
          "x": -0.6894934947733025,
          "y": -0.9927539054344622
         },
         {
          "i": 81,
          "x": -0.6695766705963719,
          "y": -0.9970126545711702
         },
         {
          "i": 80,
          "x": -0.6446788229686026,
          "y": -0.9998072134372905
         },
         {
          "i": 79,
          "x": -0.6057581566929584,
          "y": -0.9967995080530891
         },
         {
          "i": 78,
          "x": -0.5914410684459626,
          "y": -0.9928099283802823
         },
         {
          "i": 77,
          "x": -0.5792499998570486,
          "y": -0.9879227569284295
         },
         {
          "i": 76,
          "x": -0.5686429437236676,
          "y": -0.9824217445481672
         },
         {
          "i": 75,
          "x": -0.559254092459891,
          "y": -0.9764831841095808
         },
         {
          "i": 74,
          "x": -0.544930616142685,
          "y": -0.9652756833811412
         },
         {
          "i": 73,
          "x": -0.5313175975216342,
          "y": -0.9519309421245322
         },
         {
          "i": 72,
          "x": -0.5071193413610876,
          "y": -0.9206218878653213
         },
         {
          "i": 71,
          "x": -0.4907957156104896,
          "y": -0.893052883851912
         },
         {
          "i": 70,
          "x": -0.46755295888890713,
          "y": -0.8429791887579103
         },
         {
          "i": 69,
          "x": -0.44848218666795986,
          "y": -0.7906376278577454
         },
         {
          "i": 68,
          "x": -0.43419246540361844,
          "y": -0.7436187256209227
         },
         {
          "i": 67,
          "x": -0.42191280797538133,
          "y": -0.697164504089147
         },
         {
          "i": 66,
          "x": -0.4058794619026203,
          "y": -0.6270862874254973
         },
         {
          "i": 65,
          "x": -0.38432686637003555,
          "y": -0.513827874747411
         },
         {
          "i": 64,
          "x": -0.36351504416998015,
          "y": -0.3808125208817268
         },
         {
          "i": 63,
          "x": -0.33133170421518626,
          "y": -0.12315569400156241
         },
         {
          "i": 62,
          "x": -0.26732312798959135,
          "y": 0.5639808092895702
         },
         {
          "i": 61,
          "x": -0.2468338930100625,
          "y": 0.7893286908009917
         },
         {
          "i": 60,
          "x": -0.2161729699899732,
          "y": 0.9962643397456851
         },
         {
          "i": 59,
          "x": -0.19707395961420826,
          "y": 0.9352441760120414
         },
         {
          "i": 58,
          "x": -0.1821355352421733,
          "y": 0.7122991583477393
         },
         {
          "i": 57,
          "x": -0.14490773179650251,
          "y": -0.5792087505548593
         },
         {
          "i": 56,
          "x": -0.12018596299463187,
          "y": -0.8931670022679213
         },
         {
          "i": 55,
          "x": -0.09185647530796309,
          "y": 0.9940626050644
         },
         {
          "i": 54,
          "x": -0.06300697237480943,
          "y": 0.16257132652341866
         },
         {
          "i": 53,
          "x": -0.041913556353241704,
          "y": 0.9563110892355644
         },
         {
          "i": 52,
          "x": -0.017086365895366187,
          "y": -0.9184185988584818
         },
         {
          "i": 51,
          "x": 0.002040216958119377,
          "y": 0.05546818966463277
         },
         {
          "i": 50,
          "x": 0.015010114595618773,
          "y": -0.6038301768513363
         },
         {
          "i": 49,
          "x": 0.025035151095805477,
          "y": 0.781375740709805
         },
         {
          "i": 48,
          "x": 0.03727540933507646,
          "y": 0.9923465252295101
         },
         {
          "i": 47,
          "x": 0.05655248055124007,
          "y": -0.9195231888544567
         },
         {
          "i": 46,
          "x": 0.07146753317063596,
          "y": 0.9895348885420777
         },
         {
          "i": 45,
          "x": 0.09125367174398737,
          "y": -0.9993114611256328
         },
         {
          "i": 44,
          "x": 0.10510902075610742,
          "y": -0.08903525943992724
         },
         {
          "i": 43,
          "x": 0.12228091189845824,
          "y": 0.9479983307654489
         },
         {
          "i": 42,
          "x": 0.1438214637863407,
          "y": 0.6208917589219777
         },
         {
          "i": 41,
          "x": 0.17345564189728524,
          "y": -0.49516313195150385
         },
         {
          "i": 40,
          "x": 0.1958103918504308,
          "y": -0.9231533851085985
         },
         {
          "i": 39,
          "x": 0.21991165507716132,
          "y": -0.9864005456949121
         },
         {
          "i": 38,
          "x": 0.2438898982305683,
          "y": -0.8183982781739841
         },
         {
          "i": 37,
          "x": 0.26005799328522017,
          "y": -0.6470458520095497
         },
         {
          "i": 36,
          "x": 0.28646535934584105,
          "y": -0.34217515684635585
         },
         {
          "i": 35,
          "x": 0.33848765410226866,
          "y": 0.1861823865948006
         },
         {
          "i": 34,
          "x": 0.3735085112876052,
          "y": 0.4477768918337467
         },
         {
          "i": 33,
          "x": 0.3970109887473368,
          "y": 0.5832879287374962
         },
         {
          "i": 32,
          "x": 0.41687115756362586,
          "y": 0.6763308383348422
         },
         {
          "i": 31,
          "x": 0.4385146534519152,
          "y": 0.7586035380844915
         },
         {
          "i": 30,
          "x": 0.46912093416339296,
          "y": 0.8468032016360818
         },
         {
          "i": 29,
          "x": 0.4977975103085541,
          "y": 0.9055794168163475
         },
         {
          "i": 28,
          "x": 0.5234063120519833,
          "y": 0.9428329185519432
         },
         {
          "i": 27,
          "x": 0.5501773980946103,
          "y": 0.9696993377501192
         },
         {
          "i": 26,
          "x": 0.5771117497762486,
          "y": 0.9869114570637624
         },
         {
          "i": 25,
          "x": 0.6004195123332005,
          "y": 0.9955187526769649
         },
         {
          "i": 24,
          "x": 0.623947723115821,
          "y": 0.9994911729151545
         },
         {
          "i": 23,
          "x": 0.6499977913482304,
          "y": 0.9994774452681795
         },
         {
          "i": 22,
          "x": 0.6775890987008879,
          "y": 0.9954932019195718
         },
         {
          "i": 21,
          "x": 0.6961287916081208,
          "y": 0.9909979073180358
         },
         {
          "i": 20,
          "x": 0.7213221942930673,
          "y": 0.9830366687970784
         },
         {
          "i": 19,
          "x": 0.7396209604369416,
          "y": 0.9761689449186162
         },
         {
          "i": 18,
          "x": 0.7546110632443566,
          "y": 0.9699891003674755
         },
         {
          "i": 17,
          "x": 0.7715270943523259,
          "y": 0.9625159584115868
         },
         {
          "i": 16,
          "x": 0.7899756909021979,
          "y": 0.9538665926615382
         },
         {
          "i": 15,
          "x": 0.8127193152759934,
          "y": 0.9426348082703685
         },
         {
          "i": 14,
          "x": 0.8590860218828179,
          "y": 0.9184041219061669
         },
         {
          "i": 13,
          "x": 1.0117760740299904,
          "y": 0.8351255467154913
         },
         {
          "i": 12,
          "x": 1.1119298902168018,
          "y": 0.7829147825930077
         },
         {
          "i": 11,
          "x": 1.1729714551745942,
          "y": 0.7529514845417721
         },
         {
          "i": 10,
          "x": 1.2352885068068649,
          "y": 0.7239612961991452
         },
         {
          "i": 9,
          "x": 1.2937169365815833,
          "y": 0.69826193610689
         },
         {
          "i": 8,
          "x": 1.393544555072669,
          "y": 0.6575743469094493
         },
         {
          "i": 7,
          "x": 1.4792279718761692,
          "y": 0.6256998023798501
         },
         {
          "i": 6,
          "x": 1.5595927682163109,
          "y": 0.5981519339531807
         },
         {
          "i": 5,
          "x": 1.6637810964492743,
          "y": 0.5655010174811211
         },
         {
          "i": 4,
          "x": 1.8277210358441638,
          "y": 0.5202378621592242
         },
         {
          "i": 3,
          "x": 2.034476391127075,
          "y": 0.4719726278258344
         },
         {
          "i": 2,
          "x": 2.1880853681871733,
          "y": 0.4412764056643699
         },
         {
          "i": 1,
          "x": 2.4947241684261625,
          "y": 0.3901973451633526
         },
         {
          "i": 0,
          "x": 2.8189157327244123,
          "y": 0.3473524976895835
         },
         {
          "i": -1,
          "x": 3.141592653589793,
          "y": 0.31296179620778664
         }
        ]
       },
       "encoding": {
        "order": {
         "field": "i"
        },
        "x": {
         "field": "x",
         "type": "quantitative"
        },
        "y": {
         "field": "y",
         "type": "quantitative"
        }
       },
       "height": 400,
       "mark": "line",
       "width": 400
      },
      "image/png": "[encoded data removed]"
     },
     "metadata": {},
     "output_type": "display_data"
    }
   ],
   "source": [
    "(dv:parametric-plot #'identity (lambda (x) (sin (/ x))) :min (- pi) :max pi)"
   ]
  },
  {
   "cell_type": "code",
   "execution_count": 11,
   "id": "559dccb2-1376-4004-a58b-b911456851f6",
   "metadata": {},
   "outputs": [
    {
     "data": {
      "application/vnd.vegalite.v4+json": {
       "$schema": "https://vega.github.io/schema/vega-lite/v5.json",
       "data": {
        "values": [
         {
          "i": 102,
          "x": -3.141592653589793,
          "y": 0.9831984798206485
         },
         {
          "i": 101,
          "x": -2.8476250569622077,
          "y": 0.9795729862652128
         },
         {
          "i": 100,
          "x": -2.516238328104584,
          "y": 0.9738835043253103
         },
         {
          "i": 99,
          "x": -2.136755502712988,
          "y": 0.9638937967367031
         },
         {
          "i": 98,
          "x": -1.8039378965495394,
          "y": 0.9495651986996808
         },
         {
          "i": 97,
          "x": -1.662120363416018,
          "y": 0.9407538237984071
         },
         {
          "i": 96,
          "x": -1.472132002860661,
          "y": 0.924849832303359
         },
         {
          "i": 95,
          "x": -1.3176583541202476,
          "y": 0.9067330500994892
         },
         {
          "i": 94,
          "x": -1.2565178001985124,
          "y": 0.8977301506214143
         },
         {
          "i": 93,
          "x": -1.15807876215404,
          "y": 0.8802798481056201
         },
         {
          "i": 92,
          "x": -1.0989821848944887,
          "y": 0.8676052556438941
         },
         {
          "i": 91,
          "x": -1.0549347215607334,
          "y": 0.8568257001813578
         },
         {
          "i": 90,
          "x": -1.0264337766071674,
          "y": 0.8491471892864392
         },
         {
          "i": 89,
          "x": -0.9790147146071343,
          "y": 0.8349607571166824
         },
         {
          "i": 88,
          "x": -0.9502956800113749,
          "y": 0.8253958047808088
         },
         {
          "i": 87,
          "x": -0.9218360567211322,
          "y": 0.815093050817761
         },
         {
          "i": 86,
          "x": -0.8876386317611948,
          "y": 0.8014930336788598
         },
         {
          "i": 85,
          "x": -0.8545973057481199,
          "y": 0.7869182399481114
         },
         {
          "i": 84,
          "x": -0.8216686719033139,
          "y": 0.7707880863026663
         },
         {
          "i": 83,
          "x": -0.789095560589625,
          "y": 0.7530256374298956
         },
         {
          "i": 82,
          "x": -0.7663279018430054,
          "y": 0.7394020330661607
         },
         {
          "i": 81,
          "x": -0.7443542849070097,
          "y": 0.7251998956648722
         },
         {
          "i": 80,
          "x": -0.7270982798129914,
          "y": 0.7132522808681283
         },
         {
          "i": 79,
          "x": -0.7114669309809448,
          "y": 0.7017748471568167
         },
         {
          "i": 78,
          "x": -0.6904428691478316,
          "y": 0.6852730345391691
         },
         {
          "i": 77,
          "x": -0.6640022822468294,
          "y": 0.6626096552027695
         },
         {
          "i": 76,
          "x": -0.6409553110386708,
          "y": 0.6409191314145375
         },
         {
          "i": 75,
          "x": -0.61712902902302,
          "y": 0.6163697498051
         },
         {
          "i": 74,
          "x": -0.6007591086253198,
          "y": 0.5981201788472442
         },
         {
          "i": 73,
          "x": -0.5743746206079721,
          "y": 0.5660727378823255
         },
         {
          "i": 72,
          "x": -0.5393040650042471,
          "y": 0.5177845559869285
         },
         {
          "i": 71,
          "x": -0.506118127518424,
          "y": 0.46516900071185874
         },
         {
          "i": 70,
          "x": -0.49050003834634576,
          "y": 0.4377710724269039
         },
         {
          "i": 69,
          "x": -0.4650091898476431,
          "y": 0.38903955636614124
         },
         {
          "i": 68,
          "x": -0.4448658407228044,
          "y": 0.34673299783270567
         },
         {
          "i": 67,
          "x": -0.43059834316414264,
          "y": 0.31460765452774164
         },
         {
          "i": 66,
          "x": -0.4049772621144056,
          "y": 0.2522204005155042
         },
         {
          "i": 65,
          "x": -0.3735232713870266,
          "y": 0.16729042288540533
         },
         {
          "i": 64,
          "x": -0.35037383863515986,
          "y": 0.09934993112581081
         },
         {
          "i": 63,
          "x": -0.2855259017485918,
          "y": -0.10077487679456973
         },
         {
          "i": 62,
          "x": -0.2652528699950202,
          "y": -0.1559280981388811
         },
         {
          "i": 61,
          "x": -0.2407345895532586,
          "y": -0.20416327036015777
         },
         {
          "i": 60,
          "x": -0.22393662224646788,
          "y": -0.2171489751976925
         },
         {
          "i": 59,
          "x": -0.1987821957040198,
          "y": -0.18880069712322559
         },
         {
          "i": 58,
          "x": -0.17477217397578393,
          "y": -0.09305128037298208
         },
         {
          "i": 57,
          "x": -0.15306920728496576,
          "y": 0.037841348163265676
         },
         {
          "i": 56,
          "x": -0.1384842198100094,
          "y": 0.11165852184258736
         },
         {
          "i": 55,
          "x": -0.11441978859669497,
          "y": 0.07239305878962071
         },
         {
          "i": 54,
          "x": -0.09549194409709251,
          "y": -0.08270379883830269
         },
         {
          "i": 53,
          "x": -0.07020711980115912,
          "y": 0.06981006846947012
         },
         {
          "i": 52,
          "x": -0.03120641288402462,
          "y": 0.018354040484034058
         },
         {
          "i": 51,
          "x": -0.007261421899415955,
          "y": -0.0035828322701597524
         },
         {
          "i": 50,
          "x": 0.009395635347510842,
          "y": -0.003500317657737395
         },
         {
          "i": 49,
          "x": 0.024684405455040883,
          "y": 0.007982398481578256
         },
         {
          "i": 48,
          "x": 0.045295638339184936,
          "y": -0.003892082085331475
         },
         {
          "i": 47,
          "x": 0.07415237903334869,
          "y": 0.05896759152273757
         },
         {
          "i": 46,
          "x": 0.08541796738096413,
          "y": -0.06469054141948768
         },
         {
          "i": 45,
          "x": 0.10323462074558569,
          "y": -0.02672861092997144
         },
         {
          "i": 44,
          "x": 0.11718609929590126,
          "y": 0.0911609550238392
         },
         {
          "i": 43,
          "x": 0.1329353125223885,
          "y": 0.12569655610138777
         },
         {
          "i": 42,
          "x": 0.1882347467261404,
          "y": -0.15534339744730682
         },
         {
          "i": 41,
          "x": 0.20177470391240343,
          "y": -0.19581586000783227
         },
         {
          "i": 40,
          "x": 0.22231802474206525,
          "y": -0.2172312798772052
         },
         {
          "i": 39,
          "x": 0.2527038492355552,
          "y": -0.18400451695684725
         },
         {
          "i": 38,
          "x": 0.2772977241032301,
          "y": -0.1242572904961173
         },
         {
          "i": 37,
          "x": 0.36624756598445474,
          "y": 0.1463923544707064
         },
         {
          "i": 36,
          "x": 0.3943217077166287,
          "y": 0.22446728669904198
         },
         {
          "i": 35,
          "x": 0.41630293125263135,
          "y": 0.28055296535017055
         },
         {
          "i": 34,
          "x": 0.4346894844167144,
          "y": 0.32400746797387175
         },
         {
          "i": 33,
          "x": 0.4581133724580781,
          "y": 0.3749478127142067
         },
         {
          "i": 32,
          "x": 0.4857152126398662,
          "y": 0.4290135146398778
         },
         {
          "i": 31,
          "x": 0.5069731625056887,
          "y": 0.46661796447422915
         },
         {
          "i": 30,
          "x": 0.5268808692843737,
          "y": 0.4989334777648007
         },
         {
          "i": 29,
          "x": 0.5404262432686558,
          "y": 0.5194400333834196
         },
         {
          "i": 28,
          "x": 0.5663135374577191,
          "y": 0.555579484111381
         },
         {
          "i": 27,
          "x": 0.5856639536041569,
          "y": 0.5802029464251204
         },
         {
          "i": 26,
          "x": 0.6087200239593002,
          "y": 0.6071431203520616
         },
         {
          "i": 25,
          "x": 0.625454587614345,
          "y": 0.6252087109305984
         },
         {
          "i": 24,
          "x": 0.6523337549724957,
          "y": 0.6518668154607743
         },
         {
          "i": 23,
          "x": 0.6698192426563507,
          "y": 0.6677901818600714
         },
         {
          "i": 22,
          "x": 0.6993338314902504,
          "y": 0.6924069653920069
         },
         {
          "i": 21,
          "x": 0.731952437062058,
          "y": 0.7166875001074541
         },
         {
          "i": 20,
          "x": 0.7504908290175835,
          "y": 0.7292762554652623
         },
         {
          "i": 19,
          "x": 0.7656378199913252,
          "y": 0.7389722952418323
         },
         {
          "i": 18,
          "x": 0.7947397050220513,
          "y": 0.7562432803919746
         },
         {
          "i": 17,
          "x": 0.8154051531971146,
          "y": 0.7675197583989258
         },
         {
          "i": 16,
          "x": 0.8441150033633633,
          "y": 0.7819677616136618
         },
         {
          "i": 15,
          "x": 0.8725956283592398,
          "y": 0.7950439081898082
         },
         {
          "i": 14,
          "x": 0.9094099594948775,
          "y": 0.810313596838412
         },
         {
          "i": 13,
          "x": 0.9398986576292125,
          "y": 0.8217318190776555
         },
         {
          "i": 12,
          "x": 0.974847580980824,
          "y": 0.8336213278024409
         },
         {
          "i": 11,
          "x": 1.0178505789027477,
          "y": 0.8467158045073475
         },
         {
          "i": 10,
          "x": 1.063358921351615,
          "y": 0.8589850845734106
         },
         {
          "i": 9,
          "x": 1.1324001151674394,
          "y": 0.8750029702908466
         },
         {
          "i": 8,
          "x": 1.2001574834402302,
          "y": 0.8882405392937857
         },
         {
          "i": 7,
          "x": 1.297571420060722,
          "y": 0.9039095740423904
         },
         {
          "i": 6,
          "x": 1.3720808485905303,
          "y": 0.9137919661143492
         },
         {
          "i": 5,
          "x": 1.465640600010985,
          "y": 0.9241982140549387
         },
         {
          "i": 4,
          "x": 1.6203145027047057,
          "y": 0.9377161518124207
         },
         {
          "i": 3,
          "x": 1.8264633581937828,
          "y": 0.9507829881184324
         },
         {
          "i": 2,
          "x": 2.1276602134364495,
          "y": 0.9635878628606122
         },
         {
          "i": 1,
          "x": 2.4504775936501004,
          "y": 0.9724748077896946
         },
         {
          "i": 0,
          "x": 2.781016994733066,
          "y": 0.9785891772214806
         },
         {
          "i": -1,
          "x": 3.141592653589793,
          "y": 0.9831984798206485
         }
        ]
       },
       "encoding": {
        "order": {
         "field": "i"
        },
        "x": {
         "field": "x",
         "type": "quantitative"
        },
        "y": {
         "field": "y",
         "type": "quantitative"
        }
       },
       "height": 400,
       "mark": "line",
       "width": 400
      },
      "image/png": "[encoded data removed]"
     },
     "metadata": {},
     "output_type": "display_data"
    }
   ],
   "source": [
    "(dv:parametric-plot #'identity (lambda (x) (* x (sin (/ x)))) :min (- pi) :max pi)"
   ]
  },
  {
   "cell_type": "code",
   "execution_count": null,
   "id": "ba48ff69-63f8-4230-9acd-048c99e49f6a",
   "metadata": {},
   "outputs": [],
   "source": []
  }
 ],
 "metadata": {
  "kernelspec": {
   "display_name": "Common Lisp (SBCL)",
   "language": "common-lisp",
   "name": "common-lisp_sbcl"
  },
  "language_info": {
   "codemirror_mode": "text/x-common-lisp",
   "file_extension": ".lisp",
   "mimetype": "text/x-common-lisp",
   "name": "common-lisp",
   "pygments_lexer": "common-lisp",
   "version": "2.1.1"
  }
 },
 "nbformat": 4,
 "nbformat_minor": 5
}
