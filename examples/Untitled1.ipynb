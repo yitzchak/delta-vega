{
 "cells": [
  {
   "cell_type": "code",
   "execution_count": 1,
   "id": "51a88418-565e-4059-a290-ceb2fbeeb6a2",
   "metadata": {},
   "outputs": [
    {
     "name": "stdout",
     "output_type": "stream",
     "text": [
      "To load \"delta-vega\":\n",
      "  Load 1 ASDF system:\n",
      "    delta-vega\n"
     ]
    },
    {
     "data": {
      "text/plain": [
       "(:DELTA-VEGA)"
      ]
     },
     "execution_count": 1,
     "metadata": {},
     "output_type": "execute_result"
    },
    {
     "name": "stdout",
     "output_type": "stream",
     "text": [
      "\n",
      "; Loading \"delta-vega\"\n",
      "\n"
     ]
    }
   ],
   "source": [
    "(ql:quickload :delta-vega)"
   ]
  },
  {
   "cell_type": "code",
   "execution_count": 2,
   "id": "c3283cc8-5590-468a-820a-ada1505daf43",
   "metadata": {},
   "outputs": [
    {
     "data": {
      "application/vnd.vegalite.v4+json": {
       "data": {
        "values": [
         {
          "x": 1,
          "y": 1
         },
         {
          "x": 2,
          "y": 2
         },
         {
          "x": 3,
          "y": 3
         },
         {
          "x": 4,
          "y": 4
         },
         {
          "x": 5,
          "y": 5
         }
        ]
       },
       "height": "400",
       "layer": [
        {
         "encoding": {
          "x": {
           "field": "x",
           "type": "quantitative"
          },
          "y": {
           "field": "y",
           "type": "quantitative"
          }
         },
         "mark": "point"
        },
        {
         "encoding": {
          "x": {
           "field": "x",
           "type": "quantitative"
          },
          "y": {
           "field": "y",
           "type": "quantitative"
          }
         },
         "mark": {
          "color": "black",
          "type": "line"
         },
         "transform": [
          {
           "on": "x",
           "regression": "y"
          }
         ]
        }
       ],
       "title": "Wibble",
       "width": "600"
      },
      "image/png": "[encoded data removed]"
     },
     "metadata": {},
     "output_type": "display_data"
    }
   ],
   "source": [
    "(dv:scatter-plot #(1 2 3 4 5) #(1 2 3 4 5) :title \"Wibble\" :regression t :width \"600\" :height \"400\")"
   ]
  },
  {
   "cell_type": "code",
   "execution_count": 8,
   "id": "28d37e25-2cc3-4cbd-8c75-d7994142a0e9",
   "metadata": {},
   "outputs": [
    {
     "data": {
      "application/vnd.vegalite.v4+json": {
       "data": {
        "values": [
         {
          "x": 1,
          "y": 1
         },
         {
          "x": 2,
          "y": 2
         },
         {
          "x": 3,
          "y": 3
         },
         {
          "x": 4,
          "y": 4
         },
         {
          "x": 5,
          "y": 5
         }
        ]
       },
       "layer": [
        {
         "encoding": {
          "x": {
           "field": "x",
           "type": "quantitative"
          },
          "y": {
           "field": "y",
           "type": "quantitative"
          }
         },
         "mark": "point"
        },
        "OBJECT-PLIST",
        "encoding",
        {
         "x": {
          "field": "x",
          "type": "quantitative"
         },
         "y": {
          "field": "y",
          "type": "quantitative"
         }
        },
        "transform",
        [
         {
          "on": "x",
          "regression": "y"
         }
        ],
        "mark",
        {
         "color": "black",
         "type": "line"
        }
       ]
      }
     },
     "metadata": {},
     "output_type": "display_data"
    },
    {
     "data": {
      "text/plain": [
       "(:OBJECT-PLIST \"text/plain\" \"NIL\")"
      ]
     },
     "execution_count": 8,
     "metadata": {},
     "output_type": "execute_result"
    }
   ],
   "source": [
    "(dv:scatter-plot #(1 2 3 4 5) #(1 2 3 4 5) :regression t))"
   ]
  },
  {
   "cell_type": "code",
   "execution_count": null,
   "id": "c3f3e56a-3377-4b18-94a6-88d4cffa5446",
   "metadata": {},
   "outputs": [],
   "source": [
    "Javascript Error: Invalid specification {\"data\":{\"values\":[{\"x\":1,\"y\":1},{\"x\":2,\"y\":2},{\"x\":3,\"y\":3},{\"x\":4,\"y\":4},{\"x\":5,\"y\":5}]}}. Make sure the specification includes at least one of the following properties: \"mark\", \"layer\", \"facet\", \"hconcat\", \"vconcat\", \"concat\", or \"repeat\"."
   ]
  }
 ],
 "metadata": {
  "kernelspec": {
   "display_name": "Common Lisp (ECL)",
   "language": "common-lisp",
   "name": "common-lisp_ecl"
  },
  "language_info": {
   "codemirror_mode": "text/x-common-lisp",
   "file_extension": ".lisp",
   "mimetype": "text/x-common-lisp",
   "name": "common-lisp",
   "pygments_lexer": "common-lisp",
   "version": "2.1.1"
  }
 },
 "nbformat": 4,
 "nbformat_minor": 5
}
