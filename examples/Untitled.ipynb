{
 "cells": [
  {
   "cell_type": "code",
   "execution_count": 9,
   "id": "384445b4-1319-48e1-83c9-dfbf6fdda975",
   "metadata": {},
   "outputs": [
    {
     "name": "stdout",
     "output_type": "stream",
     "text": [
      "To load \"delta-vega\":\n",
      "  Load 1 ASDF system:\n",
      "    delta-vega\n",
      "\n",
      "; Loading \"delta-vega\"\n",
      "."
     ]
    },
    {
     "data": {
      "text/plain": [
       "(:DELTA-VEGA)"
      ]
     },
     "execution_count": 9,
     "metadata": {},
     "output_type": "execute_result"
    },
    {
     "name": "stdout",
     "output_type": "stream",
     "text": [
      "\n"
     ]
    }
   ],
   "source": [
    "(ql:quickload :delta-vega)"
   ]
  },
  {
   "cell_type": "code",
   "execution_count": 3,
   "id": "2d304a9b-b444-41cf-839c-0849233b8453",
   "metadata": {},
   "outputs": [
    {
     "data": {
      "application/vnd.vegalite.v4+json": {
       "$schema": "https://vega.github.io/schema/vega-lite/v5.json",
       "data": {
        "values": [
         {
          "i": 193,
          "x": -6.283185307179586,
          "y": 2.4492935982947064e-16
         },
         {
          "i": 192,
          "x": -5.922854767532915,
          "y": 0.3525835650307594
         },
         {
          "i": 191,
          "x": -5.799298546023703,
          "y": 0.46522321624818125
         },
         {
          "i": 190,
          "x": -5.690975023726674,
          "y": 0.558196276841306
         },
         {
          "i": 189,
          "x": -5.607839561755313,
          "y": 0.6251672052282936
         },
         {
          "i": 188,
          "x": -5.552084723560364,
          "y": 0.6676893576944948
         },
         {
          "i": 187,
          "x": -5.483430270674077,
          "y": 0.7171854016678387
         },
         {
          "i": 186,
          "x": -5.440488528146709,
          "y": 0.7464404097925071
         },
         {
          "i": 185,
          "x": -5.399725222469776,
          "y": 0.772938857721796
         },
         {
          "i": 184,
          "x": -5.34149249971306,
          "y": 0.8085553404329141
         },
         {
          "i": 183,
          "x": -5.298183615096068,
          "y": 0.8332730259150469
         },
         {
          "i": 182,
          "x": -5.27210749214191,
          "y": 0.847404600114487
         },
         {
          "i": 181,
          "x": -5.233322977003078,
          "y": 0.8673547168557679
         },
         {
          "i": 180,
          "x": -5.194636644382784,
          "y": 0.8859547586799547
         },
         {
          "i": 179,
          "x": -5.155896447828557,
          "y": 0.9032521322063044
         },
         {
          "i": 178,
          "x": -5.112999005486134,
          "y": 0.9208232676763514
         },
         {
          "i": 177,
          "x": -5.073704878468748,
          "y": 0.9354324565294578
         },
         {
          "i": 176,
          "x": -5.024560920317007,
          "y": 0.9516687551407721
         },
         {
          "i": 175,
          "x": -4.9517940668196925,
          "y": 0.971479215471578
         },
         {
          "i": 174,
          "x": -4.891131565493733,
          "y": 0.9840680294066517
         },
         {
          "i": 173,
          "x": -4.848361874207214,
          "y": 0.9907699201879429
         },
         {
          "i": 172,
          "x": -4.800766278684861,
          "y": 0.9960972677709868
         },
         {
          "i": 171,
          "x": -4.755542748451465,
          "y": 0.9990690206404537
         },
         {
          "i": 170,
          "x": -4.726828672808849,
          "y": 0.9998957494527608
         },
         {
          "i": 169,
          "x": -4.70773270995494,
          "y": 0.9999891595924283
         },
         {
          "i": 168,
          "x": -4.679072259730782,
          "y": 0.9994450493983937
         },
         {
          "i": 167,
          "x": -4.645535498057596,
          "y": 0.9977661381359657
         },
         {
          "i": 166,
          "x": -4.612478210298834,
          "y": 0.9950130694441096
         },
         {
          "i": 165,
          "x": -4.593318459751697,
          "y": 0.992919477005007
         },
         {
          "i": 164,
          "x": -4.56481417517155,
          "y": 0.9891305863990048
         },
         {
          "i": 163,
          "x": -4.524696538052023,
          "y": 0.9824374230237473
         },
         {
          "i": 162,
          "x": -4.497048523876004,
          "y": 0.976903702066713
         },
         {
          "i": 161,
          "x": -4.458293867312701,
          "y": 0.9678911530591764
         },
         {
          "i": 160,
          "x": -4.395317208607221,
          "y": 0.9501524698303588
         },
         {
          "i": 159,
          "x": -4.361312859039268,
          "y": 0.9390031693544998
         },
         {
          "i": 158,
          "x": -4.330192526807878,
          "y": 0.9278476865120427
         },
         {
          "i": 157,
          "x": -4.302432487715325,
          "y": 0.9171381643764228
         },
         {
          "i": 156,
          "x": -4.268781892227798,
          "y": 0.9032093794576742
         },
         {
          "i": 155,
          "x": -4.232862935415856,
          "y": 0.8872136857102976
         },
         {
          "i": 154,
          "x": -4.208943983010269,
          "y": 0.8759257378627509
         },
         {
          "i": 153,
          "x": -4.166066519212576,
          "y": 0.8544409554172857
         },
         {
          "i": 152,
          "x": -4.113911809919328,
          "y": 0.826194511831839
         },
         {
          "i": 151,
          "x": -4.045565473600318,
          "y": 0.7857902659186962
         },
         {
          "i": 150,
          "x": -4.009913952226262,
          "y": 0.7632453893759757
         },
         {
          "i": 149,
          "x": -3.96233101941654,
          "y": 0.7316493592023389
         },
         {
          "i": 148,
          "x": -3.905989769441998,
          "y": 0.6921019627439858
         },
         {
          "i": 147,
          "x": -3.8470389996179755,
          "y": 0.6483737072632698
         },
         {
          "i": 146,
          "x": -3.8005977021652937,
          "y": 0.6123305447361952
         },
         {
          "i": 145,
          "x": -3.708497525284747,
          "y": 0.537023676569525
         },
         {
          "i": 144,
          "x": -3.5708049536649953,
          "y": 0.41615468092243907
         },
         {
          "i": 143,
          "x": -3.47122897152249,
          "y": 0.32369894833748397
         },
         {
          "i": 142,
          "x": -3.3068287586491647,
          "y": 0.164485224774499
         },
         {
          "i": 141,
          "x": -2.943464210360086,
          "y": -0.19683473368488766
         },
         {
          "i": 140,
          "x": -2.7833938945458825,
          "y": -0.35058788702592475
         },
         {
          "i": 139,
          "x": -2.682363040966854,
          "y": -0.44325766775966075
         },
         {
          "i": 138,
          "x": -2.5576152734392763,
          "y": -0.5513465232194399
         },
         {
          "i": 137,
          "x": -2.493835788784584,
          "y": -0.6033991611029196
         },
         {
          "i": 136,
          "x": -2.4511553220389373,
          "y": -0.6368744115553515
         },
         {
          "i": 135,
          "x": -2.3904890906126246,
          "y": -0.6824458095386704
         },
         {
          "i": 134,
          "x": -2.32676072828587,
          "y": -0.7276103111995166
         },
         {
          "i": 133,
          "x": -2.254012308279693,
          "y": -0.775546514479864
         },
         {
          "i": 132,
          "x": -2.204731627832033,
          "y": -0.8057027955303651
         },
         {
          "i": 131,
          "x": -2.174582679093787,
          "y": -0.8231917685009029
         },
         {
          "i": 130,
          "x": -2.1210519965688492,
          "y": -0.8523908588717938
         },
         {
          "i": 129,
          "x": -2.0663598950392545,
          "y": -0.8797008573535939
         },
         {
          "i": 128,
          "x": -2.0233217796908103,
          "y": -0.8993457470677942
         },
         {
          "i": 127,
          "x": -1.9668673125512488,
          "y": -0.9225839110094406
         },
         {
          "i": 126,
          "x": -1.9254729795167251,
          "y": -0.9377588321988153
         },
         {
          "i": 125,
          "x": -1.866175344234315,
          "y": -0.9566918781257897
         },
         {
          "i": 124,
          "x": -1.8259845521888167,
          "y": -0.9676157995558771
         },
         {
          "i": 123,
          "x": -1.7962897708535526,
          "y": -0.9746838978897056
         },
         {
          "i": 122,
          "x": -1.765677116276852,
          "y": -0.9810707615876283
         },
         {
          "i": 121,
          "x": -1.7317542881094579,
          "y": -0.9870742097361193
         },
         {
          "i": 120,
          "x": -1.677036733079273,
          "y": -0.9943617942440875
         },
         {
          "i": 119,
          "x": -1.6361450725949958,
          "y": -0.9978655304703717
         },
         {
          "i": 118,
          "x": -1.6089363814997,
          "y": -0.9992727562778944
         },
         {
          "i": 117,
          "x": -1.5673513720202128,
          "y": -0.9999940661491686
         },
         {
          "i": 116,
          "x": -1.5253226327127434,
          "y": -0.9989662497289794
         },
         {
          "i": 115,
          "x": -1.484246184335674,
          "y": -0.9962568739193132
         },
         {
          "i": 114,
          "x": -1.4518724553311104,
          "y": -0.9929368866891298
         },
         {
          "i": 113,
          "x": -1.4170012747994247,
          "y": -0.9881968334750731
         },
         {
          "i": 112,
          "x": -1.3679593446656553,
          "y": -0.979499013241791
         },
         {
          "i": 111,
          "x": -1.2849266634619416,
          "y": -0.9594167774591451
         },
         {
          "i": 110,
          "x": -1.2291996554785527,
          "y": -0.9422209947702683
         },
         {
          "i": 109,
          "x": -1.1929624496046827,
          "y": -0.9294659155503484
         },
         {
          "i": 108,
          "x": -1.133935316981694,
          "y": -0.9060842234525573
         },
         {
          "i": 107,
          "x": -1.0974949773472669,
          "y": -0.8900682964671038
         },
         {
          "i": 106,
          "x": -1.0693596638539677,
          "y": -0.8768928835578368
         },
         {
          "i": 105,
          "x": -1.0254200133448073,
          "y": -0.8549321425368467
         },
         {
          "i": 104,
          "x": -0.9895221956764223,
          "y": -0.8357637167917089
         },
         {
          "i": 103,
          "x": -0.9415644331513036,
          "y": -0.8084797957380713
         },
         {
          "i": 102,
          "x": -0.8749338686409586,
          "y": -0.7675011105643156
         },
         {
          "i": 101,
          "x": -0.830615456341221,
          "y": -0.7383465878905938
         },
         {
          "i": 100,
          "x": -0.7845331374005569,
          "y": -0.7064948509611544
         },
         {
          "i": 99,
          "x": -0.7268480296689308,
          "y": -0.6645175586406844
         },
         {
          "i": 98,
          "x": -0.6382102566091542,
          "y": -0.5957589400848674
         },
         {
          "i": 97,
          "x": -0.5455224637310244,
          "y": -0.5188647927231694
         },
         {
          "i": 96,
          "x": -0.42081718760995634,
          "y": -0.40850648179502547
         },
         {
          "i": 95,
          "x": -0.33296505697914935,
          "y": -0.3268466693166745
         },
         {
          "i": 94,
          "x": 0.3777275399191801,
          "y": 0.3688091601863867
         },
         {
          "i": 93,
          "x": 0.4694898477431112,
          "y": 0.4524313908913714
         },
         {
          "i": 92,
          "x": 0.5908509151772346,
          "y": 0.5570678814442526
         },
         {
          "i": 91,
          "x": 0.6522780441926086,
          "y": 0.606998347939308
         },
         {
          "i": 90,
          "x": 0.7362584566623033,
          "y": 0.6715201862366235
         },
         {
          "i": 89,
          "x": 0.7886977564188643,
          "y": 0.709436092310175
         },
         {
          "i": 88,
          "x": 0.8441863603940505,
          "y": 0.7474308265935028
         },
         {
          "i": 87,
          "x": 0.906516195509446,
          "y": 0.7873607827602965
         },
         {
          "i": 86,
          "x": 0.9608239057270442,
          "y": 0.819663816606578
         },
         {
          "i": 85,
          "x": 0.9896871628809403,
          "y": 0.8358542871383754
         },
         {
          "i": 84,
          "x": 1.0349063178743112,
          "y": 0.859814525545291
         },
         {
          "i": 83,
          "x": 1.0763320287501066,
          "y": 0.8802230589432006
         },
         {
          "i": 82,
          "x": 1.10179701676602,
          "y": 0.8920210404840542
         },
         {
          "i": 81,
          "x": 1.152204879046978,
          "y": 0.9136623862338968
         },
         {
          "i": 80,
          "x": 1.1849036487370217,
          "y": 0.9264628100460855
         },
         {
          "i": 79,
          "x": 1.2115983713851792,
          "y": 0.9361790622709933
         },
         {
          "i": 78,
          "x": 1.2392941912836115,
          "y": 0.9455545198412854
         },
         {
          "i": 77,
          "x": 1.2969934744429017,
          "y": 0.9627495896717243
         },
         {
          "i": 76,
          "x": 1.3425649975017333,
          "y": 0.9740680890535471
         },
         {
          "i": 75,
          "x": 1.386288118816687,
          "y": 0.98302659519803
         },
         {
          "i": 74,
          "x": 1.4195987390333966,
          "y": 0.9885914036444834
         },
         {
          "i": 73,
          "x": 1.4642144540892554,
          "y": 0.9943255269482351
         },
         {
          "i": 72,
          "x": 1.507783328354433,
          "y": 0.9980153378420776
         },
         {
          "i": 71,
          "x": 1.560809570297878,
          "y": 0.9999501327617969
         },
         {
          "i": 70,
          "x": 1.6274066991122318,
          "y": 0.9983980607574037
         },
         {
          "i": 69,
          "x": 1.674369542718556,
          "y": 0.9946410876468847
         },
         {
          "i": 68,
          "x": 1.724735294158129,
          "y": 0.9881747769204955
         },
         {
          "i": 67,
          "x": 1.7745163609735117,
          "y": 0.9793207414515764
         },
         {
          "i": 66,
          "x": 1.8165684673457863,
          "y": 0.9699497482185795
         },
         {
          "i": 65,
          "x": 1.838859444840032,
          "y": 0.9642857155510509
         },
         {
          "i": 64,
          "x": 1.861416181063293,
          "y": 0.9580664427288623
         },
         {
          "i": 63,
          "x": 1.9018699724592658,
          "y": 0.9456938909441678
         },
         {
          "i": 62,
          "x": 1.931482880216216,
          "y": 0.9356547480467412
         },
         {
          "i": 61,
          "x": 1.976116831090996,
          "y": 0.9189760652560149
         },
         {
          "i": 60,
          "x": 2.039461091233307,
          "y": 0.8921722031213098
         },
         {
          "i": 59,
          "x": 2.094368787735494,
          "y": 0.8660385608134433
         },
         {
          "i": 58,
          "x": 2.136086018136873,
          "y": 0.844433459659876
         },
         {
          "i": 57,
          "x": 2.1823940953662793,
          "y": 0.8187316623867034
         },
         {
          "i": 56,
          "x": 2.211464554513447,
          "y": 0.8016965162874665
         },
         {
          "i": 55,
          "x": 2.2657161978442337,
          "y": 0.7681050127396014
         },
         {
          "i": 54,
          "x": 2.3003224248455183,
          "y": 0.7454903494762793
         },
         {
          "i": 53,
          "x": 2.3382318446793993,
          "y": 0.7196935333305327
         },
         {
          "i": 52,
          "x": 2.3985778831223823,
          "y": 0.6765111572122037
         },
         {
          "i": 51,
          "x": 2.4738240967137783,
          "y": 0.6192353889722716
         },
         {
          "i": 50,
          "x": 2.539548194985587,
          "y": 0.5663286566698231
         },
         {
          "i": 49,
          "x": 2.6032642401227526,
          "y": 0.5127015397402119
         },
         {
          "i": 48,
          "x": 2.7053469044183354,
          "y": 0.4225398066867968
         },
         {
          "i": 47,
          "x": 2.904099110935909,
          "y": 0.2352672651110895
         },
         {
          "i": 46,
          "x": 3.350971513296743,
          "y": -0.20785236526267456
         },
         {
          "i": 45,
          "x": 3.5098842905638157,
          "y": -0.36002215148640837
         },
         {
          "i": 44,
          "x": 3.646536911758768,
          "y": -0.483758655744683
         },
         {
          "i": 43,
          "x": 3.729856991346481,
          "y": -0.5549179532486673
         },
         {
          "i": 42,
          "x": 3.800636521188127,
          "y": -0.6123612346665497
         },
         {
          "i": 41,
          "x": 3.8673098136813344,
          "y": -0.6636720659998737
         },
         {
          "i": 40,
          "x": 3.9166649299270757,
          "y": -0.6997677092545652
         },
         {
          "i": 39,
          "x": 3.9793559681186794,
          "y": -0.7431483541752285
         },
         {
          "i": 38,
          "x": 4.026691434355165,
          "y": -0.773977540175847
         },
         {
          "i": 37,
          "x": 4.059473455852996,
          "y": -0.794315981770074
         },
         {
          "i": 36,
          "x": 4.09326921086519,
          "y": -0.814389586156223
         },
         {
          "i": 35,
          "x": 4.138415562890874,
          "y": -0.8397501514045167
         },
         {
          "i": 34,
          "x": 4.196185640069638,
          "y": -0.8696994052966885
         },
         {
          "i": 33,
          "x": 4.231616591872503,
          "y": -0.8866379853009105
         },
         {
          "i": 32,
          "x": 4.2717063448879165,
          "y": -0.9044606910410565
         },
         {
          "i": 31,
          "x": 4.310291848543164,
          "y": -0.9202423076012978
         },
         {
          "i": 30,
          "x": 4.3583646869212345,
          "y": -0.9379851886357234
         },
         {
          "i": 29,
          "x": 4.390901154607007,
          "y": -0.9487663473917383
         },
         {
          "i": 28,
          "x": 4.450303028567296,
          "y": -0.96585161840412
         },
         {
          "i": 27,
          "x": 4.515813293538571,
          "y": -0.9807411364286103
         },
         {
          "i": 26,
          "x": 4.56923268499148,
          "y": -0.9897706252929163
         },
         {
          "i": 25,
          "x": 4.62849986402861,
          "y": -0.9964833711266363
         },
         {
          "i": 24,
          "x": 4.664028353519631,
          "y": -0.9988308527732028
         },
         {
          "i": 23,
          "x": 4.705641715402956,
          "y": -0.9999772372939905
         },
         {
          "i": 22,
          "x": 4.731887418936192,
          "y": -0.9998099114696068
         },
         {
          "i": 21,
          "x": 4.752017685679105,
          "y": -0.9992148856139583
         },
         {
          "i": 20,
          "x": 4.80547398176156,
          "y": -0.9956707186501864
         },
         {
          "i": 19,
          "x": 4.840322214453885,
          "y": -0.9918276992153066
         },
         {
          "i": 18,
          "x": 4.8787583556864345,
          "y": -0.9861925074711904
         },
         {
          "i": 17,
          "x": 4.909856995394173,
          "y": -0.9805664634911588
         },
         {
          "i": 16,
          "x": 4.9645751051460785,
          "y": -0.9683692509362104
         },
         {
          "i": 15,
          "x": 5.035557397909773,
          "y": -0.9482339769252544
         },
         {
          "i": 14,
          "x": 5.080008930937894,
          "y": -0.9331853667562969
         },
         {
          "i": 13,
          "x": 5.11391240892862,
          "y": -0.9204666743992825
         },
         {
          "i": 12,
          "x": 5.146009789764727,
          "y": -0.9074503848789065
         },
         {
          "i": 11,
          "x": 5.1879470454782,
          "y": -0.8890373585339567
         },
         {
          "i": 10,
          "x": 5.23002979383591,
          "y": -0.8689889964917852
         },
         {
          "i": 9,
          "x": 5.256226418571514,
          "y": -0.8557294058464828
         },
         {
          "i": 8,
          "x": 5.296541589916622,
          "y": -0.8341797149920427
         },
         {
          "i": 7,
          "x": 5.325957265023185,
          "y": -0.8175986498833384
         },
         {
          "i": 6,
          "x": 5.372883180012723,
          "y": -0.789689132918321
         },
         {
          "i": 5,
          "x": 5.418812921255508,
          "y": -0.7606880180937899
         },
         {
          "i": 4,
          "x": 5.489778378689241,
          "y": -0.7127470958487275
         },
         {
          "i": 3,
          "x": 5.552367417924806,
          "y": -0.667478882023544
         },
         {
          "i": 2,
          "x": 5.646089533594809,
          "y": -0.5948634584194837
         },
         {
          "i": 1,
          "x": 5.76018528578816,
          "y": -0.4994813740505613
         },
         {
          "i": 0,
          "x": 5.915017085962136,
          "y": -0.35990700878547865
         },
         {
          "i": -1,
          "x": 6.283185307179586,
          "y": -2.4492935982947064e-16
         }
        ]
       },
       "encoding": {
        "order": {
         "field": "i"
        },
        "x": {
         "field": "x",
         "title": [],
         "type": "quantitative"
        },
        "y": {
         "field": "y",
         "title": [],
         "type": "quantitative"
        }
       },
       "height": 400,
       "mark": "line",
       "title": false,
       "width": 400
      },
      "image/png": "[encoded data removed]"
     },
     "metadata": {},
     "output_type": "display_data"
    }
   ],
   "source": [
    "(dv:parametric-plot #'identity #'sin :min (* -2 pi) :max (* 2 pi))"
   ]
  },
  {
   "cell_type": "code",
   "execution_count": 19,
   "id": "8fab4675-3546-4fc3-ab45-6cade6e1bfdd",
   "metadata": {},
   "outputs": [
    {
     "data": {
      "application/vnd.vegalite.v4+json": {
       "$schema": "https://vega.github.io/schema/vega-lite/v5.json",
       "data": {
        "values": [
         {
          "i": 195,
          "x": -6.283185307179586,
          "y": 2.4492935982947064e-16
         },
         {
          "i": 194,
          "x": -6.124851386016074,
          "y": 0.15967044957927326
         },
         {
          "i": 193,
          "x": -5.969060725663115,
          "y": 0.32488135115183187
         },
         {
          "i": 192,
          "x": -5.91349797834875,
          "y": 0.3875034965199909
         },
         {
          "i": 191,
          "x": -5.84817252009763,
          "y": 0.4647021977022195
         },
         {
          "i": 190,
          "x": -5.77036376444234,
          "y": 0.563068934319595
         },
         {
          "i": 189,
          "x": -5.715183918914433,
          "y": 0.6381524327953819
         },
         {
          "i": 188,
          "x": -5.666311204619167,
          "y": 0.7092004376932161
         },
         {
          "i": 187,
          "x": -5.605637136068395,
          "y": 0.804614230056526
         },
         {
          "i": 186,
          "x": -5.568712920704219,
          "y": 0.8673352657273726
         },
         {
          "i": 185,
          "x": -5.517049964358987,
          "y": 0.9621978590161896
         },
         {
          "i": 184,
          "x": -5.461658996652855,
          "y": 1.074998483770105
         },
         {
          "i": 183,
          "x": -5.427168944602189,
          "y": 1.1522405036616297
         },
         {
          "i": 182,
          "x": -5.370515924570084,
          "y": 1.293480348633426
         },
         {
          "i": 181,
          "x": -5.328304604855398,
          "y": 1.412906620590252
         },
         {
          "i": 180,
          "x": -5.269346146953218,
          "y": 1.6058614555190933
         },
         {
          "i": 179,
          "x": -5.209816888109426,
          "y": 1.8417310461898613
         },
         {
          "i": 178,
          "x": -5.167628895181399,
          "y": 2.042758478979647
         },
         {
          "i": 177,
          "x": -5.124828000196329,
          "y": 2.2855364125302127
         },
         {
          "i": 176,
          "x": -5.085855390850755,
          "y": 2.551955020534197
         },
         {
          "i": 175,
          "x": -5.02767377776606,
          "y": 3.065937496508438
         },
         {
          "i": 174,
          "x": -4.95065745758606,
          "y": 4.117221224951579
         },
         {
          "i": 173,
          "x": -4.750483188304566,
          "y": 26.238010576461235
         },
         {
          "i": 172,
          "x": -4.712952560240908,
          "y": 1774.371250306373
         },
         {
          "i": 171,
          "x": -4.683046646974013,
          "y": -34.070671159329386
         },
         {
          "i": 170,
          "x": -4.598636063662383,
          "y": -8.753032988218356
         },
         {
          "i": 169,
          "x": -4.4855546567334725,
          "y": -4.33263181269556
         },
         {
          "i": 168,
          "x": -4.414912850991522,
          "y": -3.261865597009913
         },
         {
          "i": 167,
          "x": -4.375833645189277,
          "y": -2.858238096389474
         },
         {
          "i": 166,
          "x": -4.310739464938788,
          "y": -2.3543873211105284
         },
         {
          "i": 165,
          "x": -4.261361024152729,
          "y": -2.064735581503506
         },
         {
          "i": 164,
          "x": -4.231279791830058,
          "y": -1.9156299941980461
         },
         {
          "i": 163,
          "x": -4.189247648324413,
          "y": -1.7338820327567028
         },
         {
          "i": 162,
          "x": -4.140019721500362,
          "y": -1.5520327787326245
         },
         {
          "i": 161,
          "x": -4.117831175933919,
          "y": -1.4789027400422974
         },
         {
          "i": 160,
          "x": -4.080965458607205,
          "y": -1.3674329658933515
         },
         {
          "i": 159,
          "x": -4.024764427380301,
          "y": -1.2175072298124685
         },
         {
          "i": 158,
          "x": -3.987342463082825,
          "y": -1.1286220430783467
         },
         {
          "i": 157,
          "x": -3.952078654147952,
          "y": -1.0514779451453649
         },
         {
          "i": 156,
          "x": -3.902840428893125,
          "y": -0.9528292448552844
         },
         {
          "i": 155,
          "x": -3.8743682955153664,
          "y": -0.8999285801880677
         },
         {
          "i": 154,
          "x": -3.847928716247094,
          "y": -0.8531778213746984
         },
         {
          "i": 153,
          "x": -3.805083756437925,
          "y": -0.7817140630843691
         },
         {
          "i": 152,
          "x": -3.770613002451334,
          "y": -0.7276153579259667
         },
         {
          "i": 151,
          "x": -3.716225437566555,
          "y": -0.6475241854778071
         },
         {
          "i": 150,
          "x": -3.6568359288821215,
          "y": -0.5662628304556057
         },
         {
          "i": 149,
          "x": -3.581546894944288,
          "y": -0.4707246281506839
         },
         {
          "i": 148,
          "x": -3.516022394341302,
          "y": -0.39296810737089577
         },
         {
          "i": 147,
          "x": -3.449663754533073,
          "y": -0.3182019929215175
         },
         {
          "i": 146,
          "x": -3.304521718896362,
          "y": -0.16438623853272086
         },
         {
          "i": 145,
          "x": -2.9316628682351964,
          "y": 0.21306904100526766
         },
         {
          "i": 144,
          "x": -2.796294693990916,
          "y": 0.35970901831802776
         },
         {
          "i": 143,
          "x": -2.732698608074749,
          "y": 0.4333169617722758
         },
         {
          "i": 142,
          "x": -2.6685489412054677,
          "y": 0.5118009178417363
         },
         {
          "i": 141,
          "x": -2.619123155626079,
          "y": 0.5758455460997262
         },
         {
          "i": 140,
          "x": -2.565569437315797,
          "y": 0.6494993883794682
         },
         {
          "i": 139,
          "x": -2.524108346815565,
          "y": 0.710117950602678
         },
         {
          "i": 138,
          "x": -2.483185089536928,
          "y": 0.7735564383808216
         },
         {
          "i": 137,
          "x": -2.4488449789779296,
          "y": 0.8299659510195291
         },
         {
          "i": 136,
          "x": -2.4193676802262924,
          "y": 0.8810121332665779
         },
         {
          "i": 135,
          "x": -2.381506669613226,
          "y": 0.9506151322729063
         },
         {
          "i": 134,
          "x": -2.3437461703246707,
          "y": 1.0252117864088723
         },
         {
          "i": 133,
          "x": -2.2925189071377368,
          "y": 1.136208458242291
         },
         {
          "i": 132,
          "x": -2.2367056385008492,
          "y": 1.272884280060861
         },
         {
          "i": 131,
          "x": -2.196280078168864,
          "y": 1.3846191444479754
         },
         {
          "i": 130,
          "x": -2.1705551360089035,
          "y": 1.462452722067798
         },
         {
          "i": 129,
          "x": -2.112413189204987,
          "y": 1.6621523053023464
         },
         {
          "i": 128,
          "x": -2.036322671851039,
          "y": 1.9906414731163062
         },
         {
          "i": 127,
          "x": -2.0004601752504145,
          "y": 2.1823852966445223
         },
         {
          "i": 126,
          "x": -1.9516695654398701,
          "y": 2.497342690930567
         },
         {
          "i": 125,
          "x": -1.9157658976742997,
          "y": 2.78289379574572
         },
         {
          "i": 124,
          "x": -1.8749672092068763,
          "y": 3.185604435561481
         },
         {
          "i": 123,
          "x": -1.827813052196369,
          "y": 3.8047454549636233
         },
         {
          "i": 122,
          "x": -1.638009482704346,
          "y": 14.855628534672123
         },
         {
          "i": 121,
          "x": -1.553706716205165,
          "y": -58.50938739988456
         },
         {
          "i": 120,
          "x": -1.4985381749767404,
          "y": -13.815174554998
         },
         {
          "i": 119,
          "x": -1.3447955870601762,
          "y": -4.3491729264232815
         },
         {
          "i": 118,
          "x": -1.294332509097163,
          "y": -3.52448223406511
         },
         {
          "i": 117,
          "x": -1.2413924229883122,
          "y": -2.925182850482367
         },
         {
          "i": 116,
          "x": -1.2108049328967634,
          "y": -2.65679736396126
         },
         {
          "i": 115,
          "x": -1.1680043558248112,
          "y": -2.346932124678587
         },
         {
          "i": 114,
          "x": -1.131220804374022,
          "y": -2.1264738414353825
         },
         {
          "i": 113,
          "x": -1.0924420901544045,
          "y": -1.928562908870494
         },
         {
          "i": 112,
          "x": -1.0663918742268181,
          "y": -1.8114784699721338
         },
         {
          "i": 111,
          "x": -1.0371168325813702,
          "y": -1.692418581829184
         },
         {
          "i": 110,
          "x": -0.9989689610483347,
          "y": -1.553881542231958
         },
         {
          "i": 109,
          "x": -0.9610425551478663,
          "y": -1.4315318005701545
         },
         {
          "i": 108,
          "x": -0.9187107190151655,
          "y": -1.3097567808532176
         },
         {
          "i": 107,
          "x": -0.8638792088660315,
          "y": -1.1707102365052005
         },
         {
          "i": 106,
          "x": -0.8320919754902504,
          "y": -1.0980365866162127
         },
         {
          "i": 105,
          "x": -0.8028402646031808,
          "y": -1.0355071220411527
         },
         {
          "i": 104,
          "x": -0.7560404377294884,
          "y": -0.9429432132554391
         },
         {
          "i": 103,
          "x": -0.7191607103919265,
          "y": -0.8755840802415316
         },
         {
          "i": 102,
          "x": -0.6709926323838389,
          "y": -0.7938711215080619
         },
         {
          "i": 101,
          "x": -0.6208994834675744,
          "y": -0.7152677992448007
         },
         {
          "i": 100,
          "x": -0.5796075889959745,
          "y": -0.6546077411493589
         },
         {
          "i": 99,
          "x": -0.5085625145029308,
          "y": -0.5574729815256705
         },
         {
          "i": 98,
          "x": -0.46526469060442066,
          "y": -0.5020229894373609
         },
         {
          "i": 97,
          "x": -0.4137438975761974,
          "y": -0.43908961609076996
         },
         {
          "i": 96,
          "x": -0.36084524537061663,
          "y": -0.3773681579664787
         },
         {
          "i": 95,
          "x": 0.36569063170405236,
          "y": 0.3829137433789016
         },
         {
          "i": 94,
          "x": 0.4361956374899502,
          "y": 0.46614127413978623
         },
         {
          "i": 93,
          "x": 0.48185250727872175,
          "y": 0.5229677227395698
         },
         {
          "i": 92,
          "x": 0.5380919899104756,
          "y": 0.596838994565945
         },
         {
          "i": 91,
          "x": 0.5747399278921019,
          "y": 0.6476762640566661
         },
         {
          "i": 90,
          "x": 0.6133659140942632,
          "y": 0.7039408167060226
         },
         {
          "i": 89,
          "x": 0.6403682921214574,
          "y": 0.745116432464947
         },
         {
          "i": 88,
          "x": 0.6841410216423267,
          "y": 0.8155333999219491
         },
         {
          "i": 87,
          "x": 0.7346350313303299,
          "y": 0.9032994804568719
         },
         {
          "i": 86,
          "x": 0.7753119956986256,
          "y": 0.9800284240209695
         },
         {
          "i": 85,
          "x": 0.8194106073226066,
          "y": 1.0704481702899784
         },
         {
          "i": 84,
          "x": 0.8499855367440552,
          "y": 1.1382995090123562
         },
         {
          "i": 83,
          "x": 0.8721527620496303,
          "y": 1.1905154953971735
         },
         {
          "i": 82,
          "x": 0.90082523267101,
          "y": 1.2622961424216832
         },
         {
          "i": 81,
          "x": 0.9340361530670034,
          "y": 1.3522282651682345
         },
         {
          "i": 80,
          "x": 0.9753947377198227,
          "y": 1.4762168201361463
         },
         {
          "i": 79,
          "x": 1.024410032017546,
          "y": 1.6443471381625745
         },
         {
          "i": 78,
          "x": 1.0705370716464273,
          "y": 1.8293603191479253
         },
         {
          "i": 77,
          "x": 1.0990025531844798,
          "y": 1.959921266330104
         },
         {
          "i": 76,
          "x": 1.1432458581082212,
          "y": 2.1946207440312073
         },
         {
          "i": 75,
          "x": 1.180971000179998,
          "y": 2.4339739386285437
         },
         {
          "i": 74,
          "x": 1.2285080523439365,
          "y": 2.806516711893043
         },
         {
          "i": 73,
          "x": 1.2966044438620905,
          "y": 3.5552222863144434
         },
         {
          "i": 72,
          "x": 1.5981714787607486,
          "y": -36.520352073947976
         },
         {
          "i": 71,
          "x": 1.9276242878903367,
          "y": -2.682506274573895
         },
         {
          "i": 70,
          "x": 1.9851953975059113,
          "y": -2.273392077677652
         },
         {
          "i": 69,
          "x": 2.0227344432136856,
          "y": -2.0599542712790804
         },
         {
          "i": 68,
          "x": 2.05529504628404,
          "y": -1.8999041598015791
         },
         {
          "i": 67,
          "x": 2.1212732630279656,
          "y": -1.6292970527387542
         },
         {
          "i": 66,
          "x": 2.1802191605709105,
          "y": -1.432541402225983
         },
         {
          "i": 65,
          "x": 2.2129572775457067,
          "y": -1.3370626606457363
         },
         {
          "i": 64,
          "x": 2.260682651261345,
          "y": -1.2119081892183974
         },
         {
          "i": 63,
          "x": 2.3093014647402152,
          "y": -1.0984760845474602
         },
         {
          "i": 62,
          "x": 2.3732854208845615,
          "y": -0.9663893040661199
         },
         {
          "i": 61,
          "x": 2.416992650966099,
          "y": -0.8852394717446711
         },
         {
          "i": 60,
          "x": 2.452459372203159,
          "y": -0.8238800367531388
         },
         {
          "i": 59,
          "x": 2.498371054319581,
          "y": -0.7495633578930491
         },
         {
          "i": 58,
          "x": 2.571269211838055,
          "y": -0.6414249711324651
         },
         {
          "i": 57,
          "x": 2.646453726264012,
          "y": -0.5400073154605629
         },
         {
          "i": 56,
          "x": 2.7056801302573925,
          "y": -0.4657966882278642
         },
         {
          "i": 55,
          "x": 2.7897078906292294,
          "y": -0.3671658675699512
         },
         {
          "i": 54,
          "x": 2.906841624060385,
          "y": -0.2391604770131829
         },
         {
          "i": 53,
          "x": 3.034394135992953,
          "y": -0.1076110386124443
         },
         {
          "i": 52,
          "x": 3.343527577330398,
          "y": 0.20472526083804735
         },
         {
          "i": 51,
          "x": 3.444795622016403,
          "y": 0.31284919923417626
         },
         {
          "i": 50,
          "x": 3.524088312893017,
          "y": 0.40230940801338694
         },
         {
          "i": 49,
          "x": 3.579788033928207,
          "y": 0.4685778109838952
         },
         {
          "i": 48,
          "x": 3.652493765364609,
          "y": 0.5605423661629474
         },
         {
          "i": 47,
          "x": 3.703162620861434,
          "y": 0.629138759270282
         },
         {
          "i": 46,
          "x": 3.753953308172706,
          "y": 0.7024384808732054
         },
         {
          "i": 45,
          "x": 3.779940705457428,
          "y": 0.7419792759949935
         },
         {
          "i": 44,
          "x": 3.819142893621643,
          "y": 0.8046176384104915
         },
         {
          "i": 43,
          "x": 3.859079311287671,
          "y": 0.8726309451352244
         },
         {
          "i": 42,
          "x": 3.883793310438349,
          "y": 0.9171330808683673
         },
         {
          "i": 41,
          "x": 3.927151277282855,
          "y": 1.0003209720972597
         },
         {
          "i": 40,
          "x": 3.963684903070275,
          "y": 1.0762191768622642
         },
         {
          "i": 39,
          "x": 4.012549548114773,
          "y": 1.1876288007759088
         },
         {
          "i": 38,
          "x": 4.078452260460712,
          "y": 1.3602450935241768
         },
         {
          "i": 37,
          "x": 4.106714364859553,
          "y": 1.4440434335419179
         },
         {
          "i": 36,
          "x": 4.146420766307237,
          "y": 1.5740719490925588
         },
         {
          "i": 35,
          "x": 4.17605406291282,
          "y": 1.6822031660615773
         },
         {
          "i": 34,
          "x": 4.219647526034566,
          "y": 1.8624931778651412
         },
         {
          "i": 33,
          "x": 4.256024780029353,
          "y": 2.0369560284251693
         },
         {
          "i": 32,
          "x": 4.299507913894732,
          "y": 2.282788033467357
         },
         {
          "i": 31,
          "x": 4.353577878423878,
          "y": 2.6663387560891554
         },
         {
          "i": 30,
          "x": 4.395603906265693,
          "y": 3.050406088360765
         },
         {
          "i": 29,
          "x": 4.457731003410059,
          "y": 3.841580293395846
         },
         {
          "i": 28,
          "x": 4.505180919128218,
          "y": 4.756799198850721
         },
         {
          "i": 27,
          "x": 4.608965882572179,
          "y": 9.634521013986259
         },
         {
          "i": 26,
          "x": 4.6934940992136305,
          "y": 52.91808837556672
         },
         {
          "i": 25,
          "x": 4.829305276268436,
          "y": -8.514119963844504
         },
         {
          "i": 24,
          "x": 4.913962279483714,
          "y": -4.893600703101654
         },
         {
          "i": 23,
          "x": 4.980045195128549,
          "y": -3.646488152748385
         },
         {
          "i": 22,
          "x": 5.036508180362931,
          "y": -2.976480627373151
         },
         {
          "i": 21,
          "x": 5.066816103496852,
          "y": -2.7023107423736588
         },
         {
          "i": 20,
          "x": 5.101574302538313,
          "y": -2.438412390788556
         },
         {
          "i": 19,
          "x": 5.130430345133351,
          "y": -2.251109681121093
         },
         {
          "i": 18,
          "x": 5.158247275288552,
          "y": -2.092238002143656
         },
         {
          "i": 17,
          "x": 5.209717971692253,
          "y": -1.842165563608418
         },
         {
          "i": 16,
          "x": 5.246044541004905,
          "y": -1.692511071697227
         },
         {
          "i": 15,
          "x": 5.298855601084407,
          "y": -1.5050034760704567
         },
         {
          "i": 14,
          "x": 5.36589240522934,
          "y": -1.305913884986179
         },
         {
          "i": 13,
          "x": 5.426530580366382,
          "y": -1.1537274913503104
         },
         {
          "i": 12,
          "x": 5.464329149983232,
          "y": -1.0692591039394068
         },
         {
          "i": 11,
          "x": 5.50202923336936,
          "y": -0.9915516089798933
         },
         {
          "i": 10,
          "x": 5.534962841572185,
          "y": -0.9282817387907574
         },
         {
          "i": 9,
          "x": 5.575106179440696,
          "y": -0.8561941739411424
         },
         {
          "i": 8,
          "x": 5.607047459031039,
          "y": -0.8022934902408737
         },
         {
          "i": 7,
          "x": 5.640337625997808,
          "y": -0.7489795193194749
         },
         {
          "i": 6,
          "x": 5.67822522873513,
          "y": -0.6914432711040469
         },
         {
          "i": 5,
          "x": 5.721764554668488,
          "y": -0.628930502531915
         },
         {
          "i": 4,
          "x": 5.761436289037422,
          "y": -0.5748865542488241
         },
         {
          "i": 3,
          "x": 5.817666102941628,
          "y": -0.5023416881268228
         },
         {
          "i": 2,
          "x": 5.887676750126115,
          "y": -0.4175089110350004
         },
         {
          "i": 1,
          "x": 5.969148666330474,
          "y": -0.32478413130973033
         },
         {
          "i": 0,
          "x": 6.096370939087258,
          "y": -0.18901839043281837
         },
         {
          "i": -1,
          "x": 6.283185307179586,
          "y": -2.4492935982947064e-16
         }
        ]
       },
       "encoding": {
        "order": {
         "field": "i"
        },
        "x": {
         "field": "x",
         "title": [],
         "type": "quantitative"
        },
        "y": {
         "field": "y",
         "title": [],
         "type": "quantitative"
        }
       },
       "height": 400,
       "mark": "line",
       "title": false,
       "width": 400
      },
      "image/png": "[encoded data removed]"
     },
     "metadata": {},
     "output_type": "display_data"
    }
   ],
   "source": [
    "(dv:parametric-plot #'identity #'tan :min (* -2 pi) :max (* 2 pi))"
   ]
  },
  {
   "cell_type": "code",
   "execution_count": 20,
   "id": "86b057e0-53c8-4f62-8d08-0555c9ac9810",
   "metadata": {},
   "outputs": [
    {
     "data": {
      "application/vnd.vegalite.v4+json": {
       "$schema": "https://vega.github.io/schema/vega-lite/v5.json",
       "data": {
        "values": [
         {
          "i": 62,
          "x": -6.283185307179586,
          "y": 0.0018674427317079895
         },
         {
          "i": 61,
          "x": -5.65218281407643,
          "y": 0.0035098470636039836
         },
         {
          "i": 60,
          "x": -4.998775818539246,
          "y": 0.006746200519758044
         },
         {
          "i": 59,
          "x": -4.3058648198944445,
          "y": 0.01348921475468493
         },
         {
          "i": 58,
          "x": -3.660045489029238,
          "y": 0.025731342205959296
         },
         {
          "i": 57,
          "x": -3.003907370315421,
          "y": 0.049592911423397085
         },
         {
          "i": 56,
          "x": -2.7345872918608807,
          "y": 0.06492079491617495
         },
         {
          "i": 55,
          "x": -2.3480570548711266,
          "y": 0.09555463939236108
         },
         {
          "i": 54,
          "x": -2.188372451096515,
          "y": 0.1120990469082733
         },
         {
          "i": 53,
          "x": -1.9247107730446023,
          "y": 0.14591795415925382
         },
         {
          "i": 52,
          "x": -1.7765642534797517,
          "y": 0.16921854166934444
         },
         {
          "i": 51,
          "x": -1.669095972382049,
          "y": 0.1884173231322251
         },
         {
          "i": 50,
          "x": -1.5081876588241196,
          "y": 0.2213107052261747
         },
         {
          "i": 49,
          "x": -1.411679876733632,
          "y": 0.24373349682402295
         },
         {
          "i": 48,
          "x": -1.2981213750631715,
          "y": 0.2730442592716939
         },
         {
          "i": 47,
          "x": -1.2006993606288212,
          "y": 0.30098364217943474
         },
         {
          "i": 46,
          "x": -1.1262614165598208,
          "y": 0.3242432035401834
         },
         {
          "i": 45,
          "x": -1.0231160558554944,
          "y": 0.35947305503444166
         },
         {
          "i": 44,
          "x": -0.9243033508368634,
          "y": 0.3968077586009224
         },
         {
          "i": 43,
          "x": -0.8357166625653536,
          "y": 0.43356365122757545
         },
         {
          "i": 42,
          "x": -0.7759580995421548,
          "y": 0.46026259230241506
         },
         {
          "i": 41,
          "x": -0.7043168299595792,
          "y": 0.49444624976254975
         },
         {
          "i": 40,
          "x": -0.6151343838068559,
          "y": 0.5405682468091633
         },
         {
          "i": 39,
          "x": -0.5637040992293738,
          "y": 0.5690971625562447
         },
         {
          "i": 38,
          "x": -0.4962883126624674,
          "y": 0.6087860950281084
         },
         {
          "i": 37,
          "x": -0.40810668066954586,
          "y": 0.6649079422142248
         },
         {
          "i": 36,
          "x": -0.37252359375686384,
          "y": 0.6889933954234575
         },
         {
          "i": 35,
          "x": -0.3164150418361992,
          "y": 0.728756922779832
         },
         {
          "i": 34,
          "x": -0.24745937294735051,
          "y": 0.7807819410355978
         },
         {
          "i": 33,
          "x": -0.20540332408700315,
          "y": 0.8143188157768557
         },
         {
          "i": 32,
          "x": -0.14998259398138708,
          "y": 0.8607229580545006
         },
         {
          "i": 31,
          "x": -0.11112924849160757,
          "y": 0.8948230869203818
         },
         {
          "i": 30,
          "x": -0.06661485122054817,
          "y": 0.9355554599992592
         },
         {
          "i": 29,
          "x": -0.018681942609961533,
          "y": 0.9814914832234815
         },
         {
          "i": 28,
          "x": 0.04957780480631959,
          "y": 1.0508273484525905
         },
         {
          "i": 27,
          "x": 0.1410874371312478,
          "y": 1.151525329654406
         },
         {
          "i": 26,
          "x": 0.1987708126349032,
          "y": 1.2199023476538777
         },
         {
          "i": 25,
          "x": 0.23820187579083357,
          "y": 1.2689653403506722
         },
         {
          "i": 24,
          "x": 0.2767852074932405,
          "y": 1.3188830544115242
         },
         {
          "i": 23,
          "x": 0.3342998048330099,
          "y": 1.396961896727429
         },
         {
          "i": 22,
          "x": 0.39931778105192,
          "y": 1.490807293650926
         },
         {
          "i": 21,
          "x": 0.48117630165490477,
          "y": 1.6179765116945928
         },
         {
          "i": 20,
          "x": 0.5332292384295734,
          "y": 1.7044274338783634
         },
         {
          "i": 19,
          "x": 0.6021722318246694,
          "y": 1.8260811668682622
         },
         {
          "i": 18,
          "x": 0.6815691264829233,
          "y": 1.976977427324979
         },
         {
          "i": 17,
          "x": 0.7424619599532208,
          "y": 2.101101981002803
         },
         {
          "i": 16,
          "x": 0.8413378535825009,
          "y": 2.3194680105413954
         },
         {
          "i": 15,
          "x": 0.917904611163652,
          "y": 2.504037955733868
         },
         {
          "i": 14,
          "x": 0.9983035069375392,
          "y": 2.713674191712238
         },
         {
          "i": 13,
          "x": 1.053802049553801,
          "y": 2.868536729926229
         },
         {
          "i": 12,
          "x": 1.1470076985279671,
          "y": 3.1487567693263183
         },
         {
          "i": 11,
          "x": 1.262267908035908,
          "y": 3.5334258922828328
         },
         {
          "i": 10,
          "x": 1.3740314380827383,
          "y": 3.95124784078095
         },
         {
          "i": 9,
          "x": 1.445583091607588,
          "y": 4.244326252451725
         },
         {
          "i": 8,
          "x": 1.61096426098751,
          "y": 5.007637570081276
         },
         {
          "i": 7,
          "x": 1.7265898057210685,
          "y": 5.621450944269571
         },
         {
          "i": 6,
          "x": 1.9775223420092365,
          "y": 7.224820157615928
         },
         {
          "i": 5,
          "x": 2.3305973837667477,
          "y": 10.284083242767068
         },
         {
          "i": 4,
          "x": 2.901863802307064,
          "y": 18.208049969432693
         },
         {
          "i": 3,
          "x": 3.6747835497248076,
          "y": 39.440119108600165
         },
         {
          "i": 2,
          "x": 4.347436771369462,
          "y": 77.28012221572723
         },
         {
          "i": 1,
          "x": 4.940240525301726,
          "y": 139.80387188479847
         },
         {
          "i": 0,
          "x": 5.592272956247418,
          "y": 268.3448631927217
         },
         {
          "i": -1,
          "x": 6.283185307179586,
          "y": 535.4916555247646
         }
        ]
       },
       "encoding": {
        "order": {
         "field": "i"
        },
        "x": {
         "field": "x",
         "title": [],
         "type": "quantitative"
        },
        "y": {
         "field": "y",
         "title": [],
         "type": "quantitative"
        }
       },
       "height": 400,
       "mark": "line",
       "title": false,
       "width": 400
      },
      "image/png": "[encoded data removed]"
     },
     "metadata": {},
     "output_type": "display_data"
    }
   ],
   "source": [
    "(dv:parametric-plot #'identity #'exp :min (* -2 pi) :max (* 2 pi))"
   ]
  },
  {
   "cell_type": "code",
   "execution_count": 8,
   "id": "61687f3a-41dd-47d1-bede-cb0664b7f2b8",
   "metadata": {},
   "outputs": [
    {
     "data": {
      "application/vnd.vegalite.v4+json": {
       "$schema": "https://vega.github.io/schema/vega-lite/v5.json",
       "data": {
        "values": [
         {
          "i": 240,
          "x": -6.283185307179586,
          "y": 4082809838298842.5
         },
         {
          "i": 239,
          "x": -5.636489450235438,
          "y": 1.6596057846493446
         },
         {
          "i": 238,
          "x": -5.601435089355833,
          "y": 1.5869162390093705
         },
         {
          "i": 237,
          "x": -5.571707209785807,
          "y": 1.5315014738666295
         },
         {
          "i": 236,
          "x": -5.546902102479395,
          "y": 1.4891178454853378
         },
         {
          "i": 235,
          "x": -5.527168519717025,
          "y": 1.4576647263275537
         },
         {
          "i": 234,
          "x": -5.498414768553049,
          "y": 1.415101994093067
         },
         {
          "i": 233,
          "x": -5.452190991229453,
          "y": 1.3539090576378554
         },
         {
          "i": 232,
          "x": -5.414540518578278,
          "y": 1.309835994843092
         },
         {
          "i": 231,
          "x": -5.35239911167017,
          "y": 1.2467433388900868
         },
         {
          "i": 230,
          "x": -5.305332870201727,
          "y": 1.2058373884971514
         },
         {
          "i": 229,
          "x": -5.227742252662376,
          "y": 1.1492685256936324
         },
         {
          "i": 228,
          "x": -5.198604715847661,
          "y": 1.1310841603894328
         },
         {
          "i": 227,
          "x": -5.150846875351135,
          "y": 1.104475141514732
         },
         {
          "i": 226,
          "x": -5.123526328703265,
          "y": 1.090908846438993
         },
         {
          "i": 225,
          "x": -5.090906859606441,
          "y": 1.0761790977167478
         },
         {
          "i": 224,
          "x": -5.04099929715964,
          "y": 1.0565332483150298
         },
         {
          "i": 223,
          "x": -5.0069268178173,
          "y": 1.045001517736734
         },
         {
          "i": 222,
          "x": -4.940264707639342,
          "y": 1.0265375517063549
         },
         {
          "i": 221,
          "x": -4.8845770497362375,
          "y": 1.015009735410553
         },
         {
          "i": 220,
          "x": -4.84679944342346,
          "y": 1.0091015867493331
         },
         {
          "i": 219,
          "x": -4.8033405910978235,
          "y": 1.0041504019520293
         },
         {
          "i": 218,
          "x": -4.74643211810108,
          "y": 1.0005797475636575
         },
         {
          "i": 217,
          "x": -4.701435079712513,
          "y": 1.0000599969695114
         },
         {
          "i": 216,
          "x": -4.61549678518122,
          "y": 1.0047124808601666
         },
         {
          "i": 215,
          "x": -4.5574662837923565,
          "y": 1.0121217142422057
         },
         {
          "i": 214,
          "x": -4.5031885527543825,
          "y": 1.0222886728268166
         },
         {
          "i": 213,
          "x": -4.462256915440415,
          "y": 1.0321198378376284
         },
         {
          "i": 212,
          "x": -4.426977432201647,
          "y": 1.0421596716408812
         },
         {
          "i": 211,
          "x": -4.392405559460146,
          "y": 1.053473655732063
         },
         {
          "i": 210,
          "x": -4.355564242991968,
          "y": 1.067223709620207
         },
         {
          "i": 209,
          "x": -4.322067854578885,
          "y": 1.0813301682803063
         },
         {
          "i": 208,
          "x": -4.27891348672615,
          "y": 1.1019144947309547
         },
         {
          "i": 207,
          "x": -4.252747298612526,
          "y": 1.1158080247795816
         },
         {
          "i": 206,
          "x": -4.226903739619329,
          "y": 1.1306479262961613
         },
         {
          "i": 205,
          "x": -4.1841415935938455,
          "y": 1.1578204848563562
         },
         {
          "i": 204,
          "x": -4.16002977473386,
          "y": 1.174689173447005
         },
         {
          "i": 203,
          "x": -4.1327950442831325,
          "y": 1.195192771623369
         },
         {
          "i": 202,
          "x": -4.097625286012697,
          "y": 1.224125412294054
         },
         {
          "i": 201,
          "x": -4.053641723659489,
          "y": 1.264606698323641
         },
         {
          "i": 200,
          "x": -3.998924927173848,
          "y": 1.3225775269682978
         },
         {
          "i": 199,
          "x": -3.961632793337029,
          "y": 1.3676649824915335
         },
         {
          "i": 198,
          "x": -3.9316362205217885,
          "y": 1.4076894889481517
         },
         {
          "i": 197,
          "x": -3.902518843113933,
          "y": 1.450131812170522
         },
         {
          "i": 196,
          "x": -3.8592461667410607,
          "y": 1.520637893615462
         },
         {
          "i": 195,
          "x": -3.808840162881312,
          "y": 1.6159626717619617
         },
         {
          "i": 194,
          "x": -3.7664318075593455,
          "y": 1.70949865353982
         },
         {
          "i": 193,
          "x": -3.738833868501965,
          "y": 1.7782095935154267
         },
         {
          "i": 192,
          "x": -3.716239288744079,
          "y": 1.8397970393908314
         },
         {
          "i": 191,
          "x": -3.690245390202682,
          "y": 1.9174051654656228
         },
         {
          "i": 190,
          "x": -3.652226511373754,
          "y": 2.046118091279498
         },
         {
          "i": 189,
          "x": -3.6124994406949624,
          "y": 2.204126045182986
         },
         {
          "i": 188,
          "x": -3.571373045741582,
          "y": 2.3999740244124577
         },
         {
          "i": 187,
          "x": -3.538155175271741,
          "y": 2.588997295856995
         },
         {
          "i": 186,
          "x": -3.4977821722642615,
          "y": 2.8677497040853246
         },
         {
          "i": 185,
          "x": -3.468558251704418,
          "y": 3.113607424256035
         },
         {
          "i": 184,
          "x": -3.4184819925043666,
          "y": 3.658115474771193
         },
         {
          "i": 183,
          "x": -3.376044702752646,
          "y": 4.304591879028128
         },
         {
          "i": 182,
          "x": -3.105325477354143,
          "y": -27.57918744920215
         },
         {
          "i": 181,
          "x": -2.907005026376254,
          "y": -4.302149838943685
         },
         {
          "i": 180,
          "x": -2.842825582929852,
          "y": -3.3974070722007057
         },
         {
          "i": 179,
          "x": -2.7888688117655995,
          "y": -2.8947310645496067
         },
         {
          "i": 178,
          "x": -2.7575145938603924,
          "y": -2.6687694829227686
         },
         {
          "i": 177,
          "x": -2.7103425151750713,
          "y": -2.3923055260225707
         },
         {
          "i": 176,
          "x": -2.6808357624658514,
          "y": -2.249080269404856
         },
         {
          "i": 175,
          "x": -2.6527577708648375,
          "y": -2.1294830113028955
         },
         {
          "i": 174,
          "x": -2.608805618882694,
          "y": -1.9687517828473822
         },
         {
          "i": 173,
          "x": -2.5786183286310145,
          "y": -1.8736982833717009
         },
         {
          "i": 172,
          "x": -2.556042836861183,
          "y": -1.809438323697315
         },
         {
          "i": 171,
          "x": -2.5298492467091913,
          "y": -1.741263653053889
         },
         {
          "i": 170,
          "x": -2.500015536354415,
          "y": -1.6709562978277888
         },
         {
          "i": 169,
          "x": -2.4738980608679286,
          "y": -1.6150462613644234
         },
         {
          "i": 168,
          "x": -2.4370151464749066,
          "y": -1.54389606151408
         },
         {
          "i": 167,
          "x": -2.380884098991257,
          "y": -1.450463359036125
         },
         {
          "i": 166,
          "x": -2.3522551681917045,
          "y": -1.4086752812771444
         },
         {
          "i": 165,
          "x": -2.3115693255466585,
          "y": -1.355110658246621
         },
         {
          "i": 164,
          "x": -2.282047612185421,
          "y": -1.3200524572742374
         },
         {
          "i": 163,
          "x": -2.2439535636787236,
          "y": -1.2790059972136805
         },
         {
          "i": 162,
          "x": -2.218660438283643,
          "y": -1.2541157061592696
         },
         {
          "i": 161,
          "x": -2.1876119876399787,
          "y": -1.225904028556128
         },
         {
          "i": 160,
          "x": -2.1418503386529975,
          "y": -1.1885918068765973
         },
         {
          "i": 159,
          "x": -2.110149075744257,
          "y": -1.1654450981655122
         },
         {
          "i": 158,
          "x": -2.0757626363404356,
          "y": -1.1426080234614606
         },
         {
          "i": 157,
          "x": -2.043339863067823,
          "y": -1.1230737524182277
         },
         {
          "i": 156,
          "x": -1.983922246676127,
          "y": -1.0918576294076228
         },
         {
          "i": 155,
          "x": -1.939343347116969,
          "y": -1.071981659040363
         },
         {
          "i": 154,
          "x": -1.8467746977059547,
          "y": -1.0393291899575037
         },
         {
          "i": 153,
          "x": -1.7877777570404676,
          "y": -1.0240112790270783
         },
         {
          "i": 152,
          "x": -1.7348076357885291,
          "y": -1.0136022708234695
         },
         {
          "i": 151,
          "x": -1.660517653774924,
          "y": -1.0040385028378858
         },
         {
          "i": 150,
          "x": -1.6247579829036907,
          "y": -1.0014576987030914
         },
         {
          "i": 149,
          "x": -1.574513747079272,
          "y": -1.000006909646571
         },
         {
          "i": 148,
          "x": -1.533286670153422,
          "y": -1.0007038998186175
         },
         {
          "i": 147,
          "x": -1.507465044880399,
          "y": -1.0020087825531538
         },
         {
          "i": 146,
          "x": -1.462011344068938,
          "y": -1.005946403915754
         },
         {
          "i": 145,
          "x": -1.4103187471825085,
          "y": -1.013016159882682
         },
         {
          "i": 144,
          "x": -1.3729747581014533,
          "y": -1.0198908917705019
         },
         {
          "i": 143,
          "x": -1.3471788953353014,
          "y": -1.025534122753557
         },
         {
          "i": 142,
          "x": -1.2914770749865874,
          "y": -1.040319296891942
         },
         {
          "i": 141,
          "x": -1.2481289670234081,
          "y": -1.054415227661888
         },
         {
          "i": 140,
          "x": -1.2171423515249002,
          "y": -1.0659690913766942
         },
         {
          "i": 139,
          "x": -1.1744839895718309,
          "y": -1.0840216843293062
         },
         {
          "i": 138,
          "x": -1.129493663623884,
          "y": -1.1059548545692766
         },
         {
          "i": 137,
          "x": -1.0879416415985221,
          "y": -1.1290847908035246
         },
         {
          "i": 136,
          "x": -1.0372640871786458,
          "y": -1.1614185669360448
         },
         {
          "i": 135,
          "x": -0.9642410385166341,
          "y": -1.2171128290375817
         },
         {
          "i": 134,
          "x": -0.9242610786512857,
          "y": -1.2528567690393402
         },
         {
          "i": 133,
          "x": -0.8987578313831014,
          "y": -1.2778668234187347
         },
         {
          "i": 132,
          "x": -0.8704664053252544,
          "y": -1.307822760489758
         },
         {
          "i": 131,
          "x": -0.8437629985576869,
          "y": -1.3384202160667251
         },
         {
          "i": 130,
          "x": -0.8102437900215728,
          "y": -1.3803475176129791
         },
         {
          "i": 129,
          "x": -0.7667303811669053,
          "y": -1.4413703284731154
         },
         {
          "i": 128,
          "x": -0.7454805374043139,
          "y": -1.47421965151667
         },
         {
          "i": 127,
          "x": -0.7161563935620074,
          "y": -1.5232520701773007
         },
         {
          "i": 126,
          "x": -0.6747652655224753,
          "y": -1.600732390966181
         },
         {
          "i": 125,
          "x": -0.631267369589967,
          "y": -1.694431755285966
         },
         {
          "i": 124,
          "x": -0.5814742681440744,
          "y": -1.8206429599324385
         },
         {
          "i": 123,
          "x": -0.5373737649774413,
          "y": -1.953576472137109
         },
         {
          "i": 122,
          "x": -0.5083215516568144,
          "y": -2.0546043851182754
         },
         {
          "i": 121,
          "x": -0.4831182808748051,
          "y": -2.152654062455085
         },
         {
          "i": 120,
          "x": -0.44656687350547036,
          "y": -2.3155028833659563
         },
         {
          "i": 119,
          "x": -0.4081938788797966,
          "y": -2.519194705211624
         },
         {
          "i": 118,
          "x": 0.011104620736348632,
          "y": 90.05445355937309
         },
         {
          "i": 117,
          "x": 0.36829745840672945,
          "y": 2.777564965768246
         },
         {
          "i": 116,
          "x": 0.40749741459716343,
          "y": 2.52325871143408
         },
         {
          "i": 115,
          "x": 0.4594748170837769,
          "y": 2.2549060618657433
         },
         {
          "i": 114,
          "x": 0.4946325165320348,
          "y": 2.1065570484740874
         },
         {
          "i": 113,
          "x": 0.5502468252368085,
          "y": 1.912420191148501
         },
         {
          "i": 112,
          "x": 0.5836286371266082,
          "y": 1.8146991082183055
         },
         {
          "i": 111,
          "x": 0.6143528116665734,
          "y": 1.7348166389856448
         },
         {
          "i": 110,
          "x": 0.6395357151980116,
          "y": 1.675538710771321
         },
         {
          "i": 109,
          "x": 0.6709896759148134,
          "y": 1.608333969184052
         },
         {
          "i": 108,
          "x": 0.7069371840054572,
          "y": 1.5396269308863526
         },
         {
          "i": 107,
          "x": 0.7309967582798149,
          "y": 1.497875871903096
         },
         {
          "i": 106,
          "x": 0.7743527294165331,
          "y": 1.430096513969083
         },
         {
          "i": 105,
          "x": 0.8147676837206044,
          "y": 1.3744453002891015
         },
         {
          "i": 104,
          "x": 0.8558302785568161,
          "y": 1.324300719308385
         },
         {
          "i": 103,
          "x": 0.8865923900172131,
          "y": 1.2904517101137174
         },
         {
          "i": 102,
          "x": 0.9098779566827683,
          "y": 1.2667386364542044
         },
         {
          "i": 101,
          "x": 0.9352254044188759,
          "y": 1.2426483263461192
         },
         {
          "i": 100,
          "x": 0.9622189005267707,
          "y": 1.218825291342076
         },
         {
          "i": 99,
          "x": 0.9953675927852682,
          "y": 1.19195326914113
         },
         {
          "i": 98,
          "x": 1.0236983113977418,
          "y": 1.1709084144868975
         },
         {
          "i": 97,
          "x": 1.0660023662442142,
          "y": 1.1424991955513133
         },
         {
          "i": 96,
          "x": 1.125514628678739,
          "y": 1.1080462914977411
         },
         {
          "i": 95,
          "x": 1.1650759685189733,
          "y": 1.088354437246631
         },
         {
          "i": 94,
          "x": 1.2145126667554855,
          "y": 1.067008645998132
         },
         {
          "i": 93,
          "x": 1.2538084107775442,
          "y": 1.0524337086575664
         },
         {
          "i": 92,
          "x": 1.3045631014594594,
          "y": 1.0365177926683962
         },
         {
          "i": 91,
          "x": 1.3665818242465884,
          "y": 1.02122036280245
         },
         {
          "i": 90,
          "x": 1.4068926209935877,
          "y": 1.0135842266769024
         },
         {
          "i": 89,
          "x": 1.4629016872913494,
          "y": 1.0058489939876432
         },
         {
          "i": 88,
          "x": 1.5047811394714974,
          "y": 1.0021829662132191
         },
         {
          "i": 87,
          "x": 1.545932719935635,
          "y": 1.000309179111784
         },
         {
          "i": 86,
          "x": 1.5875729553743796,
          "y": 1.0001407441386918
         },
         {
          "i": 85,
          "x": 1.6266977492764427,
          "y": 1.0015645215713405
         },
         {
          "i": 84,
          "x": 1.6838416790529116,
          "y": 1.0064238263324616
         },
         {
          "i": 83,
          "x": 1.718248608581477,
          "y": 1.0109704500119898
         },
         {
          "i": 82,
          "x": 1.7575603206700596,
          "y": 1.017697514562368
         },
         {
          "i": 81,
          "x": 1.813753087732,
          "y": 1.0302577425544974
         },
         {
          "i": 80,
          "x": 1.8504505604153125,
          "y": 1.0404193173198457
         },
         {
          "i": 79,
          "x": 1.8758276434796377,
          "y": 1.0483965557737733
         },
         {
          "i": 78,
          "x": 1.9173831504734964,
          "y": 1.063221704140443
         },
         {
          "i": 77,
          "x": 1.945299587501262,
          "y": 1.0744722646303475
         },
         {
          "i": 76,
          "x": 1.977396827294503,
          "y": 1.088766485932039
         },
         {
          "i": 75,
          "x": 2.0289029581332554,
          "y": 1.1149621304084374
         },
         {
          "i": 74,
          "x": 2.059444546474381,
          "y": 1.1325435732197613
         },
         {
          "i": 73,
          "x": 2.079284830097621,
          "y": 1.1448440835934506
         },
         {
          "i": 72,
          "x": 2.1350006030375126,
          "y": 1.1834118191492353
         },
         {
          "i": 71,
          "x": 2.169917586953015,
          "y": 1.2109008148669387
         },
         {
          "i": 70,
          "x": 2.1996857281653943,
          "y": 1.236581065566
         },
         {
          "i": 69,
          "x": 2.232254182588394,
          "y": 1.2672704305621203
         },
         {
          "i": 68,
          "x": 2.2982169342371193,
          "y": 1.3388815870612976
         },
         {
          "i": 67,
          "x": 2.340935878100474,
          "y": 1.3931194908639484
         },
         {
          "i": 66,
          "x": 2.429601696153383,
          "y": 1.5305911344494831
         },
         {
          "i": 65,
          "x": 2.5091265294398295,
          "y": 1.6916590669932967
         },
         {
          "i": 64,
          "x": 2.55004643487534,
          "y": 1.7932550083392336
         },
         {
          "i": 63,
          "x": 2.6126490652278065,
          "y": 1.9816829876515365
         },
         {
          "i": 62,
          "x": 2.649378528123142,
          "y": 2.1160513282016273
         },
         {
          "i": 61,
          "x": 2.688976764519035,
          "y": 2.2866576276226978
         },
         {
          "i": 60,
          "x": 2.7271564633917653,
          "y": 2.483399006739185
         },
         {
          "i": 59,
          "x": 2.7648177646489316,
          "y": 2.7179563217855156
         },
         {
          "i": 58,
          "x": 2.812448603689143,
          "y": 3.093742137030442
         },
         {
          "i": 57,
          "x": 2.849813997473892,
          "y": 3.476372646453826
         },
         {
          "i": 56,
          "x": 2.8912600831750384,
          "y": 4.036715099764402
         },
         {
          "i": 55,
          "x": 2.9656614545301534,
          "y": 5.713468250812375
         },
         {
          "i": 54,
          "x": 3.181601821801701,
          "y": -25.000940620845924
         },
         {
          "i": 53,
          "x": 3.339918103281234,
          "y": -5.075423786238364
         },
         {
          "i": 52,
          "x": 3.4155235588536006,
          "y": -3.6966136226632047
         },
         {
          "i": 51,
          "x": 3.478074920147239,
          "y": -3.0287549142770773
         },
         {
          "i": 50,
          "x": 3.507402287383064,
          "y": -2.7955960092998464
         },
         {
          "i": 49,
          "x": 3.534754248721491,
          "y": -2.610211630546235
         },
         {
          "i": 48,
          "x": 3.5786431366014066,
          "y": -2.362563560012511
         },
         {
          "i": 47,
          "x": 3.631499292509557,
          "y": -2.1252019792720773
         },
         {
          "i": 46,
          "x": 3.670408058967493,
          "y": -1.9821176904638964
         },
         {
          "i": 45,
          "x": 3.731971556185786,
          "y": -1.7963776200022623
         },
         {
          "i": 44,
          "x": 3.795415665086045,
          "y": -1.644127289170935
         },
         {
          "i": 43,
          "x": 3.833783592479555,
          "y": -1.5668445514651426
         },
         {
          "i": 42,
          "x": 3.8677322522706166,
          "y": -1.506051312296505
         },
         {
          "i": 41,
          "x": 3.914408025129857,
          "y": -1.4323494295786439
         },
         {
          "i": 40,
          "x": 3.978471035346556,
          "y": -1.3466999024165334
         },
         {
          "i": 39,
          "x": 4.005656855056516,
          "y": -1.3149452546109326
         },
         {
          "i": 38,
          "x": 4.050829656242419,
          "y": -1.2673705433656883
         },
         {
          "i": 37,
          "x": 4.104899848084886,
          "y": -1.2179024444185578
         },
         {
          "i": 36,
          "x": 4.140575229776033,
          "y": -1.1891725841748184
         },
         {
          "i": 35,
          "x": 4.171909263987221,
          "y": -1.1662325166865246
         },
         {
          "i": 34,
          "x": 4.197333785348608,
          "y": -1.1490745746156257
         },
         {
          "i": 33,
          "x": 4.232587186908717,
          "y": -1.1272858684325395
         },
         {
          "i": 32,
          "x": 4.256755249851276,
          "y": -1.1136076373798225
         },
         {
          "i": 31,
          "x": 4.289274038585411,
          "y": -1.0967144641762223
         },
         {
          "i": 30,
          "x": 4.316347916471243,
          "y": -1.0838986852772803
         },
         {
          "i": 29,
          "x": 4.353926800165312,
          "y": -1.0678769829450736
         },
         {
          "i": 28,
          "x": 4.377012837066735,
          "y": -1.0590005436577623
         },
         {
          "i": 27,
          "x": 4.4098012319872,
          "y": -1.0475936905655796
         },
         {
          "i": 26,
          "x": 4.441805019947056,
          "y": -1.0377588867315057
         },
         {
          "i": 25,
          "x": 4.486230472450517,
          "y": -1.0261304293607065
         },
         {
          "i": 24,
          "x": 4.541713371495906,
          "y": -1.014743985674616
         },
         {
          "i": 23,
          "x": 4.5881317840763,
          "y": -1.0077699035915868
         },
         {
          "i": 22,
          "x": 4.62016932181716,
          "y": -1.0042673529080826
         },
         {
          "i": 21,
          "x": 4.671778983625845,
          "y": -1.0008251529169216
         },
         {
          "i": 20,
          "x": 4.731280270072608,
          "y": -1.0001784669510387
         },
         {
          "i": 19,
          "x": 4.788900144662733,
          "y": -1.0029341355050265
         },
         {
          "i": 18,
          "x": 4.84072333025502,
          "y": -1.0082917443785884
         },
         {
          "i": 17,
          "x": 4.881775814492039,
          "y": -1.0145194796965458
         },
         {
          "i": 16,
          "x": 4.934339648556385,
          "y": -1.025146958089084
         },
         {
          "i": 15,
          "x": 4.972955254570351,
          "y": -1.0349350126045882
         },
         {
          "i": 14,
          "x": 5.002440163467349,
          "y": -1.0435916166899073
         },
         {
          "i": 13,
          "x": 5.026193674345307,
          "y": -1.0513411682236924
         },
         {
          "i": 12,
          "x": 5.052012047257541,
          "y": -1.0605800111224297
         },
         {
          "i": 11,
          "x": 5.093551452033063,
          "y": -1.0773159217132517
         },
         {
          "i": 10,
          "x": 5.120066850861917,
          "y": -1.0892724430779035
         },
         {
          "i": 9,
          "x": 5.161344106385741,
          "y": -1.1099997609611474
         },
         {
          "i": 8,
          "x": 5.207739199093022,
          "y": -1.136618999904901
         },
         {
          "i": 7,
          "x": 5.251383663624575,
          "y": -1.1651954478487025
         },
         {
          "i": 6,
          "x": 5.28302368312337,
          "y": -1.1882718052872636
         },
         {
          "i": 5,
          "x": 5.323451568609429,
          "y": -1.2209433297825485
         },
         {
          "i": 4,
          "x": 5.368727403266681,
          "y": -1.2622566615214303
         },
         {
          "i": 3,
          "x": 5.422530647841599,
          "y": -1.3187922860702943
         },
         {
          "i": 2,
          "x": 5.487535059847918,
          "y": -1.3999351309272392
         },
         {
          "i": 1,
          "x": 5.529312205787893,
          "y": -1.4609896503455906
         },
         {
          "i": 0,
          "x": 5.572056225573592,
          "y": -1.5321218356372994
         },
         {
          "i": -1,
          "x": 6.283185307179586,
          "y": -4082809838298842.5
         }
        ]
       },
       "encoding": {
        "order": {
         "field": "i"
        },
        "x": {
         "field": "x",
         "type": "quantitative"
        },
        "y": {
         "field": "y",
         "type": "quantitative"
        }
       },
       "height": 400,
       "mark": "line",
       "width": 400
      },
      "image/png": "[encoded data removed]"
     },
     "metadata": {},
     "output_type": "display_data"
    }
   ],
   "source": [
    "(dv:parametric-plot #'identity (lambda (x) (/ (sin x))) :min (* -2 pi) :max (* 2 pi))"
   ]
  },
  {
   "cell_type": "code",
   "execution_count": 10,
   "id": "dd8679bf-dfdf-4da2-9ad2-1ed938fbf62f",
   "metadata": {},
   "outputs": [
    {
     "data": {
      "application/vnd.vegalite.v4+json": {
       "$schema": "https://vega.github.io/schema/vega-lite/v5.json",
       "data": {
        "values": [
         {
          "i": 102,
          "x": -3.141592653589793,
          "y": -0.31296179620778664
         },
         {
          "i": 101,
          "x": -2.838031641658731,
          "y": -0.34511085018822524
         },
         {
          "i": 100,
          "x": -2.521458993875244,
          "y": -0.3862805989928343
         },
         {
          "i": 99,
          "x": -2.362349235748992,
          "y": -0.4107782013173035
         },
         {
          "i": 98,
          "x": -2.187277760427549,
          "y": -0.44142782676792286
         },
         {
          "i": 97,
          "x": -1.9782433962587356,
          "y": -0.48424406623213984
         },
         {
          "i": 96,
          "x": -1.845244857361941,
          "y": -0.5157934075128062
         },
         {
          "i": 95,
          "x": -1.7480514931584268,
          "y": -0.5413698661958621
         },
         {
          "i": 94,
          "x": -1.6248344502710503,
          "y": -0.5773238196968434
         },
         {
          "i": 93,
          "x": -1.5287946514489066,
          "y": -0.6084532572721413
         },
         {
          "i": 92,
          "x": -1.4625491699940985,
          "y": -0.6316949555784663
         },
         {
          "i": 91,
          "x": -1.3797813971305124,
          "y": -0.6629501595106504
         },
         {
          "i": 90,
          "x": -1.3170409233129545,
          "y": -0.6883978248556771
         },
         {
          "i": 89,
          "x": -1.2041067145846007,
          "y": -0.7382627640603926
         },
         {
          "i": 88,
          "x": -1.1352079910082116,
          "y": -0.7713093568197039
         },
         {
          "i": 87,
          "x": -0.7954859876715289,
          "y": -0.9511973619116345
         },
         {
          "i": 86,
          "x": -0.7810315583002733,
          "y": -0.9581184415023913
         },
         {
          "i": 85,
          "x": -0.7587115942698422,
          "y": -0.9682227847611325
         },
         {
          "i": 84,
          "x": -0.7290771063576993,
          "y": -0.9802253405254605
         },
         {
          "i": 83,
          "x": -0.7098083861068235,
          "y": -0.9869122513808146
         },
         {
          "i": 82,
          "x": -0.6894934947733025,
          "y": -0.9927539054344622
         },
         {
          "i": 81,
          "x": -0.6695766705963719,
          "y": -0.9970126545711702
         },
         {
          "i": 80,
          "x": -0.6446788229686026,
          "y": -0.9998072134372905
         },
         {
          "i": 79,
          "x": -0.6057581566929584,
          "y": -0.9967995080530891
         },
         {
          "i": 78,
          "x": -0.5914410684459626,
          "y": -0.9928099283802823
         },
         {
          "i": 77,
          "x": -0.5792499998570486,
          "y": -0.9879227569284295
         },
         {
          "i": 76,
          "x": -0.5686429437236676,
          "y": -0.9824217445481672
         },
         {
          "i": 75,
          "x": -0.559254092459891,
          "y": -0.9764831841095808
         },
         {
          "i": 74,
          "x": -0.544930616142685,
          "y": -0.9652756833811412
         },
         {
          "i": 73,
          "x": -0.5313175975216342,
          "y": -0.9519309421245322
         },
         {
          "i": 72,
          "x": -0.5071193413610876,
          "y": -0.9206218878653213
         },
         {
          "i": 71,
          "x": -0.4907957156104896,
          "y": -0.893052883851912
         },
         {
          "i": 70,
          "x": -0.46755295888890713,
          "y": -0.8429791887579103
         },
         {
          "i": 69,
          "x": -0.44848218666795986,
          "y": -0.7906376278577454
         },
         {
          "i": 68,
          "x": -0.43419246540361844,
          "y": -0.7436187256209227
         },
         {
          "i": 67,
          "x": -0.42191280797538133,
          "y": -0.697164504089147
         },
         {
          "i": 66,
          "x": -0.4058794619026203,
          "y": -0.6270862874254973
         },
         {
          "i": 65,
          "x": -0.38432686637003555,
          "y": -0.513827874747411
         },
         {
          "i": 64,
          "x": -0.36351504416998015,
          "y": -0.3808125208817268
         },
         {
          "i": 63,
          "x": -0.33133170421518626,
          "y": -0.12315569400156241
         },
         {
          "i": 62,
          "x": -0.26732312798959135,
          "y": 0.5639808092895702
         },
         {
          "i": 61,
          "x": -0.2468338930100625,
          "y": 0.7893286908009917
         },
         {
          "i": 60,
          "x": -0.2161729699899732,
          "y": 0.9962643397456851
         },
         {
          "i": 59,
          "x": -0.19707395961420826,
          "y": 0.9352441760120414
         },
         {
          "i": 58,
          "x": -0.1821355352421733,
          "y": 0.7122991583477393
         },
         {
          "i": 57,
          "x": -0.14490773179650251,
          "y": -0.5792087505548593
         },
         {
          "i": 56,
          "x": -0.12018596299463187,
          "y": -0.8931670022679213
         },
         {
          "i": 55,
          "x": -0.09185647530796309,
          "y": 0.9940626050644
         },
         {
          "i": 54,
          "x": -0.06300697237480943,
          "y": 0.16257132652341866
         },
         {
          "i": 53,
          "x": -0.041913556353241704,
          "y": 0.9563110892355644
         },
         {
          "i": 52,
          "x": -0.017086365895366187,
          "y": -0.9184185988584818
         },
         {
          "i": 51,
          "x": 0.002040216958119377,
          "y": 0.05546818966463277
         },
         {
          "i": 50,
          "x": 0.015010114595618773,
          "y": -0.6038301768513363
         },
         {
          "i": 49,
          "x": 0.025035151095805477,
          "y": 0.781375740709805
         },
         {
          "i": 48,
          "x": 0.03727540933507646,
          "y": 0.9923465252295101
         },
         {
          "i": 47,
          "x": 0.05655248055124007,
          "y": -0.9195231888544567
         },
         {
          "i": 46,
          "x": 0.07146753317063596,
          "y": 0.9895348885420777
         },
         {
          "i": 45,
          "x": 0.09125367174398737,
          "y": -0.9993114611256328
         },
         {
          "i": 44,
          "x": 0.10510902075610742,
          "y": -0.08903525943992724
         },
         {
          "i": 43,
          "x": 0.12228091189845824,
          "y": 0.9479983307654489
         },
         {
          "i": 42,
          "x": 0.1438214637863407,
          "y": 0.6208917589219777
         },
         {
          "i": 41,
          "x": 0.17345564189728524,
          "y": -0.49516313195150385
         },
         {
          "i": 40,
          "x": 0.1958103918504308,
          "y": -0.9231533851085985
         },
         {
          "i": 39,
          "x": 0.21991165507716132,
          "y": -0.9864005456949121
         },
         {
          "i": 38,
          "x": 0.2438898982305683,
          "y": -0.8183982781739841
         },
         {
          "i": 37,
          "x": 0.26005799328522017,
          "y": -0.6470458520095497
         },
         {
          "i": 36,
          "x": 0.28646535934584105,
          "y": -0.34217515684635585
         },
         {
          "i": 35,
          "x": 0.33848765410226866,
          "y": 0.1861823865948006
         },
         {
          "i": 34,
          "x": 0.3735085112876052,
          "y": 0.4477768918337467
         },
         {
          "i": 33,
          "x": 0.3970109887473368,
          "y": 0.5832879287374962
         },
         {
          "i": 32,
          "x": 0.41687115756362586,
          "y": 0.6763308383348422
         },
         {
          "i": 31,
          "x": 0.4385146534519152,
          "y": 0.7586035380844915
         },
         {
          "i": 30,
          "x": 0.46912093416339296,
          "y": 0.8468032016360818
         },
         {
          "i": 29,
          "x": 0.4977975103085541,
          "y": 0.9055794168163475
         },
         {
          "i": 28,
          "x": 0.5234063120519833,
          "y": 0.9428329185519432
         },
         {
          "i": 27,
          "x": 0.5501773980946103,
          "y": 0.9696993377501192
         },
         {
          "i": 26,
          "x": 0.5771117497762486,
          "y": 0.9869114570637624
         },
         {
          "i": 25,
          "x": 0.6004195123332005,
          "y": 0.9955187526769649
         },
         {
          "i": 24,
          "x": 0.623947723115821,
          "y": 0.9994911729151545
         },
         {
          "i": 23,
          "x": 0.6499977913482304,
          "y": 0.9994774452681795
         },
         {
          "i": 22,
          "x": 0.6775890987008879,
          "y": 0.9954932019195718
         },
         {
          "i": 21,
          "x": 0.6961287916081208,
          "y": 0.9909979073180358
         },
         {
          "i": 20,
          "x": 0.7213221942930673,
          "y": 0.9830366687970784
         },
         {
          "i": 19,
          "x": 0.7396209604369416,
          "y": 0.9761689449186162
         },
         {
          "i": 18,
          "x": 0.7546110632443566,
          "y": 0.9699891003674755
         },
         {
          "i": 17,
          "x": 0.7715270943523259,
          "y": 0.9625159584115868
         },
         {
          "i": 16,
          "x": 0.7899756909021979,
          "y": 0.9538665926615382
         },
         {
          "i": 15,
          "x": 0.8127193152759934,
          "y": 0.9426348082703685
         },
         {
          "i": 14,
          "x": 0.8590860218828179,
          "y": 0.9184041219061669
         },
         {
          "i": 13,
          "x": 1.0117760740299904,
          "y": 0.8351255467154913
         },
         {
          "i": 12,
          "x": 1.1119298902168018,
          "y": 0.7829147825930077
         },
         {
          "i": 11,
          "x": 1.1729714551745942,
          "y": 0.7529514845417721
         },
         {
          "i": 10,
          "x": 1.2352885068068649,
          "y": 0.7239612961991452
         },
         {
          "i": 9,
          "x": 1.2937169365815833,
          "y": 0.69826193610689
         },
         {
          "i": 8,
          "x": 1.393544555072669,
          "y": 0.6575743469094493
         },
         {
          "i": 7,
          "x": 1.4792279718761692,
          "y": 0.6256998023798501
         },
         {
          "i": 6,
          "x": 1.5595927682163109,
          "y": 0.5981519339531807
         },
         {
          "i": 5,
          "x": 1.6637810964492743,
          "y": 0.5655010174811211
         },
         {
          "i": 4,
          "x": 1.8277210358441638,
          "y": 0.5202378621592242
         },
         {
          "i": 3,
          "x": 2.034476391127075,
          "y": 0.4719726278258344
         },
         {
          "i": 2,
          "x": 2.1880853681871733,
          "y": 0.4412764056643699
         },
         {
          "i": 1,
          "x": 2.4947241684261625,
          "y": 0.3901973451633526
         },
         {
          "i": 0,
          "x": 2.8189157327244123,
          "y": 0.3473524976895835
         },
         {
          "i": -1,
          "x": 3.141592653589793,
          "y": 0.31296179620778664
         }
        ]
       },
       "encoding": {
        "order": {
         "field": "i"
        },
        "x": {
         "field": "x",
         "type": "quantitative"
        },
        "y": {
         "field": "y",
         "type": "quantitative"
        }
       },
       "height": 400,
       "mark": "line",
       "width": 400
      },
      "image/png": "[encoded data removed]"
     },
     "metadata": {},
     "output_type": "display_data"
    }
   ],
   "source": [
    "(dv:parametric-plot #'identity (lambda (x) (sin (/ x))) :min (- pi) :max pi)"
   ]
  },
  {
   "cell_type": "code",
   "execution_count": 11,
   "id": "559dccb2-1376-4004-a58b-b911456851f6",
   "metadata": {},
   "outputs": [
    {
     "data": {
      "application/vnd.vegalite.v4+json": {
       "$schema": "https://vega.github.io/schema/vega-lite/v5.json",
       "data": {
        "values": [
         {
          "i": 102,
          "x": -3.141592653589793,
          "y": 0.9831984798206485
         },
         {
          "i": 101,
          "x": -2.8476250569622077,
          "y": 0.9795729862652128
         },
         {
          "i": 100,
          "x": -2.516238328104584,
          "y": 0.9738835043253103
         },
         {
          "i": 99,
          "x": -2.136755502712988,
          "y": 0.9638937967367031
         },
         {
          "i": 98,
          "x": -1.8039378965495394,
          "y": 0.9495651986996808
         },
         {
          "i": 97,
          "x": -1.662120363416018,
          "y": 0.9407538237984071
         },
         {
          "i": 96,
          "x": -1.472132002860661,
          "y": 0.924849832303359
         },
         {
          "i": 95,
          "x": -1.3176583541202476,
          "y": 0.9067330500994892
         },
         {
          "i": 94,
          "x": -1.2565178001985124,
          "y": 0.8977301506214143
         },
         {
          "i": 93,
          "x": -1.15807876215404,
          "y": 0.8802798481056201
         },
         {
          "i": 92,
          "x": -1.0989821848944887,
          "y": 0.8676052556438941
         },
         {
          "i": 91,
          "x": -1.0549347215607334,
          "y": 0.8568257001813578
         },
         {
          "i": 90,
          "x": -1.0264337766071674,
          "y": 0.8491471892864392
         },
         {
          "i": 89,
          "x": -0.9790147146071343,
          "y": 0.8349607571166824
         },
         {
          "i": 88,
          "x": -0.9502956800113749,
          "y": 0.8253958047808088
         },
         {
          "i": 87,
          "x": -0.9218360567211322,
          "y": 0.815093050817761
         },
         {
          "i": 86,
          "x": -0.8876386317611948,
          "y": 0.8014930336788598
         },
         {
          "i": 85,
          "x": -0.8545973057481199,
          "y": 0.7869182399481114
         },
         {
          "i": 84,
          "x": -0.8216686719033139,
          "y": 0.7707880863026663
         },
         {
          "i": 83,
          "x": -0.789095560589625,
          "y": 0.7530256374298956
         },
         {
          "i": 82,
          "x": -0.7663279018430054,
          "y": 0.7394020330661607
         },
         {
          "i": 81,
          "x": -0.7443542849070097,
          "y": 0.7251998956648722
         },
         {
          "i": 80,
          "x": -0.7270982798129914,
          "y": 0.7132522808681283
         },
         {
          "i": 79,
          "x": -0.7114669309809448,
          "y": 0.7017748471568167
         },
         {
          "i": 78,
          "x": -0.6904428691478316,
          "y": 0.6852730345391691
         },
         {
          "i": 77,
          "x": -0.6640022822468294,
          "y": 0.6626096552027695
         },
         {
          "i": 76,
          "x": -0.6409553110386708,
          "y": 0.6409191314145375
         },
         {
          "i": 75,
          "x": -0.61712902902302,
          "y": 0.6163697498051
         },
         {
          "i": 74,
          "x": -0.6007591086253198,
          "y": 0.5981201788472442
         },
         {
          "i": 73,
          "x": -0.5743746206079721,
          "y": 0.5660727378823255
         },
         {
          "i": 72,
          "x": -0.5393040650042471,
          "y": 0.5177845559869285
         },
         {
          "i": 71,
          "x": -0.506118127518424,
          "y": 0.46516900071185874
         },
         {
          "i": 70,
          "x": -0.49050003834634576,
          "y": 0.4377710724269039
         },
         {
          "i": 69,
          "x": -0.4650091898476431,
          "y": 0.38903955636614124
         },
         {
          "i": 68,
          "x": -0.4448658407228044,
          "y": 0.34673299783270567
         },
         {
          "i": 67,
          "x": -0.43059834316414264,
          "y": 0.31460765452774164
         },
         {
          "i": 66,
          "x": -0.4049772621144056,
          "y": 0.2522204005155042
         },
         {
          "i": 65,
          "x": -0.3735232713870266,
          "y": 0.16729042288540533
         },
         {
          "i": 64,
          "x": -0.35037383863515986,
          "y": 0.09934993112581081
         },
         {
          "i": 63,
          "x": -0.2855259017485918,
          "y": -0.10077487679456973
         },
         {
          "i": 62,
          "x": -0.2652528699950202,
          "y": -0.1559280981388811
         },
         {
          "i": 61,
          "x": -0.2407345895532586,
          "y": -0.20416327036015777
         },
         {
          "i": 60,
          "x": -0.22393662224646788,
          "y": -0.2171489751976925
         },
         {
          "i": 59,
          "x": -0.1987821957040198,
          "y": -0.18880069712322559
         },
         {
          "i": 58,
          "x": -0.17477217397578393,
          "y": -0.09305128037298208
         },
         {
          "i": 57,
          "x": -0.15306920728496576,
          "y": 0.037841348163265676
         },
         {
          "i": 56,
          "x": -0.1384842198100094,
          "y": 0.11165852184258736
         },
         {
          "i": 55,
          "x": -0.11441978859669497,
          "y": 0.07239305878962071
         },
         {
          "i": 54,
          "x": -0.09549194409709251,
          "y": -0.08270379883830269
         },
         {
          "i": 53,
          "x": -0.07020711980115912,
          "y": 0.06981006846947012
         },
         {
          "i": 52,
          "x": -0.03120641288402462,
          "y": 0.018354040484034058
         },
         {
          "i": 51,
          "x": -0.007261421899415955,
          "y": -0.0035828322701597524
         },
         {
          "i": 50,
          "x": 0.009395635347510842,
          "y": -0.003500317657737395
         },
         {
          "i": 49,
          "x": 0.024684405455040883,
          "y": 0.007982398481578256
         },
         {
          "i": 48,
          "x": 0.045295638339184936,
          "y": -0.003892082085331475
         },
         {
          "i": 47,
          "x": 0.07415237903334869,
          "y": 0.05896759152273757
         },
         {
          "i": 46,
          "x": 0.08541796738096413,
          "y": -0.06469054141948768
         },
         {
          "i": 45,
          "x": 0.10323462074558569,
          "y": -0.02672861092997144
         },
         {
          "i": 44,
          "x": 0.11718609929590126,
          "y": 0.0911609550238392
         },
         {
          "i": 43,
          "x": 0.1329353125223885,
          "y": 0.12569655610138777
         },
         {
          "i": 42,
          "x": 0.1882347467261404,
          "y": -0.15534339744730682
         },
         {
          "i": 41,
          "x": 0.20177470391240343,
          "y": -0.19581586000783227
         },
         {
          "i": 40,
          "x": 0.22231802474206525,
          "y": -0.2172312798772052
         },
         {
          "i": 39,
          "x": 0.2527038492355552,
          "y": -0.18400451695684725
         },
         {
          "i": 38,
          "x": 0.2772977241032301,
          "y": -0.1242572904961173
         },
         {
          "i": 37,
          "x": 0.36624756598445474,
          "y": 0.1463923544707064
         },
         {
          "i": 36,
          "x": 0.3943217077166287,
          "y": 0.22446728669904198
         },
         {
          "i": 35,
          "x": 0.41630293125263135,
          "y": 0.28055296535017055
         },
         {
          "i": 34,
          "x": 0.4346894844167144,
          "y": 0.32400746797387175
         },
         {
          "i": 33,
          "x": 0.4581133724580781,
          "y": 0.3749478127142067
         },
         {
          "i": 32,
          "x": 0.4857152126398662,
          "y": 0.4290135146398778
         },
         {
          "i": 31,
          "x": 0.5069731625056887,
          "y": 0.46661796447422915
         },
         {
          "i": 30,
          "x": 0.5268808692843737,
          "y": 0.4989334777648007
         },
         {
          "i": 29,
          "x": 0.5404262432686558,
          "y": 0.5194400333834196
         },
         {
          "i": 28,
          "x": 0.5663135374577191,
          "y": 0.555579484111381
         },
         {
          "i": 27,
          "x": 0.5856639536041569,
          "y": 0.5802029464251204
         },
         {
          "i": 26,
          "x": 0.6087200239593002,
          "y": 0.6071431203520616
         },
         {
          "i": 25,
          "x": 0.625454587614345,
          "y": 0.6252087109305984
         },
         {
          "i": 24,
          "x": 0.6523337549724957,
          "y": 0.6518668154607743
         },
         {
          "i": 23,
          "x": 0.6698192426563507,
          "y": 0.6677901818600714
         },
         {
          "i": 22,
          "x": 0.6993338314902504,
          "y": 0.6924069653920069
         },
         {
          "i": 21,
          "x": 0.731952437062058,
          "y": 0.7166875001074541
         },
         {
          "i": 20,
          "x": 0.7504908290175835,
          "y": 0.7292762554652623
         },
         {
          "i": 19,
          "x": 0.7656378199913252,
          "y": 0.7389722952418323
         },
         {
          "i": 18,
          "x": 0.7947397050220513,
          "y": 0.7562432803919746
         },
         {
          "i": 17,
          "x": 0.8154051531971146,
          "y": 0.7675197583989258
         },
         {
          "i": 16,
          "x": 0.8441150033633633,
          "y": 0.7819677616136618
         },
         {
          "i": 15,
          "x": 0.8725956283592398,
          "y": 0.7950439081898082
         },
         {
          "i": 14,
          "x": 0.9094099594948775,
          "y": 0.810313596838412
         },
         {
          "i": 13,
          "x": 0.9398986576292125,
          "y": 0.8217318190776555
         },
         {
          "i": 12,
          "x": 0.974847580980824,
          "y": 0.8336213278024409
         },
         {
          "i": 11,
          "x": 1.0178505789027477,
          "y": 0.8467158045073475
         },
         {
          "i": 10,
          "x": 1.063358921351615,
          "y": 0.8589850845734106
         },
         {
          "i": 9,
          "x": 1.1324001151674394,
          "y": 0.8750029702908466
         },
         {
          "i": 8,
          "x": 1.2001574834402302,
          "y": 0.8882405392937857
         },
         {
          "i": 7,
          "x": 1.297571420060722,
          "y": 0.9039095740423904
         },
         {
          "i": 6,
          "x": 1.3720808485905303,
          "y": 0.9137919661143492
         },
         {
          "i": 5,
          "x": 1.465640600010985,
          "y": 0.9241982140549387
         },
         {
          "i": 4,
          "x": 1.6203145027047057,
          "y": 0.9377161518124207
         },
         {
          "i": 3,
          "x": 1.8264633581937828,
          "y": 0.9507829881184324
         },
         {
          "i": 2,
          "x": 2.1276602134364495,
          "y": 0.9635878628606122
         },
         {
          "i": 1,
          "x": 2.4504775936501004,
          "y": 0.9724748077896946
         },
         {
          "i": 0,
          "x": 2.781016994733066,
          "y": 0.9785891772214806
         },
         {
          "i": -1,
          "x": 3.141592653589793,
          "y": 0.9831984798206485
         }
        ]
       },
       "encoding": {
        "order": {
         "field": "i"
        },
        "x": {
         "field": "x",
         "type": "quantitative"
        },
        "y": {
         "field": "y",
         "type": "quantitative"
        }
       },
       "height": 400,
       "mark": "line",
       "width": 400
      },
      "image/png": "[encoded data removed]"
     },
     "metadata": {},
     "output_type": "display_data"
    }
   ],
   "source": [
    "(dv:parametric-plot #'identity (lambda (x) (* x (sin (/ x)))) :min (- pi) :max pi)"
   ]
  },
  {
   "cell_type": "code",
   "execution_count": 7,
   "id": "ba48ff69-63f8-4230-9acd-048c99e49f6a",
   "metadata": {},
   "outputs": [
    {
     "data": {
      "application/json": {
       "application/vnd.vegalite.v4+json": {
        "$schema": "https://vega.github.io/schema/vega-lite/v5.json",
        "data": {
         "values": [
          {
           "x": "A",
           "y": 1
          },
          {
           "x": "B",
           "y": 7
          },
          {
           "x": "C",
           "y": 2
          }
         ]
        },
        "encoding": {
         "x": {
          "field": "a",
          "type": "ordinal"
         },
         "y": {
          "field": "b",
          "type": "quantitative"
         }
        },
        "mark": "bar",
        "title": "sdfsfdsdf"
       }
      }
     },
     "execution_count": 7,
     "metadata": {
      "application/json": {
       "expanded": false
      }
     },
     "output_type": "execute_result"
    }
   ],
   "source": [
    "(j:json (j:mime-bundle-data (delta-vega:bar-plot #(\"A\" \"B\" \"C\") #(1 7 2) :title \"sdfsfdsdf\")))"
   ]
  },
  {
   "cell_type": "code",
   "execution_count": 7,
   "id": "e4881352-fc9b-4369-8e26-138e9a91af8f",
   "metadata": {},
   "outputs": [
    {
     "data": {
      "application/vnd.vegalite.v4+json": {
       "$schema": "https://vega.github.io/schema/vega-lite/v5.json",
       "data": {
        "values": [
         {
          "x": "A",
          "y": 1
         },
         {
          "x": "B",
          "y": 7
         },
         {
          "x": "C",
          "y": 2
         },
         {
          "x": "D",
          "y": 3
         },
         {
          "x": "E",
          "y": 4
         },
         {
          "x": "F",
          "y": 5
         },
         {
          "x": "G",
          "y": 6
         }
        ]
       },
       "encoding": {
        "x": {
         "field": "x",
         "title": "wibble",
         "type": "ordinal"
        },
        "y": {
         "field": "y",
         "title": "quux",
         "type": "quantitative"
        }
       },
       "height": false,
       "mark": "bar",
       "title": "sdfsfdsdf",
       "width": false
      },
      "image/png": "[encoded data removed]"
     },
     "metadata": {},
     "output_type": "display_data"
    }
   ],
   "source": [
    "(delta-vega:bar-plot #(\"A\" \"B\" \"C\" \"D\" \"E\" \"F\" \"G\") #(1 7 2 3 4 5 6 7 8 9) :title \"sdfsfdsdf\" :x-title \"wibble\" :y-title \"quux\")"
   ]
  },
  {
   "cell_type": "code",
   "execution_count": 24,
   "id": "ecf7ea48-1540-4fa9-8fa3-58f1c0fdc967",
   "metadata": {},
   "outputs": [
    {
     "data": {
      "text/plain": [
       "(:OBJECT-PLIST \"title\" \"sdfsdf\" \"width\" \"container\" \"$schema\"\n",
       " \"https://vega.github.io/schema/vega-lite/v5.json\")"
      ]
     },
     "execution_count": 24,
     "metadata": {},
     "output_type": "execute_result"
    }
   ],
   "source": [
    "(dv::specification :top-level t :width \"container\" :title \"sdfsdf\")"
   ]
  },
  {
   "cell_type": "code",
   "execution_count": 10,
   "id": "6327cabe-e0d1-42f3-a901-6d445dabde5c",
   "metadata": {},
   "outputs": [
    {
     "data": {
      "application/vnd.vegalite.v4+json": {
       "$schema": "https://vega.github.io/schema/vega-lite/v5.json",
       "data": {
        "values": [
         {
          "x": 1,
          "y": 1
         },
         {
          "x": 2,
          "y": 2
         },
         {
          "x": 3,
          "y": 3
         },
         {
          "x": 4,
          "y": 4
         },
         {
          "x": 5,
          "y": 5
         }
        ]
       },
       "height": "400",
       "layer": [
        {
         "encoding": {
          "x": {
           "field": "x",
           "title": [],
           "type": "quantitative"
          },
          "y": {
           "field": "y",
           "title": [],
           "type": "quantitative"
          }
         },
         "mark": "point"
        },
        {
         "encoding": {
          "x": {
           "field": "x",
           "type": "quantitative"
          },
          "y": {
           "field": "y",
           "type": "quantitative"
          }
         },
         "mark": "line",
         "transform": [
          {
           "on": "x",
           "regression": "y"
          }
         ]
        }
       ],
       "title": "Wibble",
       "width": "600"
      },
      "image/png": "[encoded data removed]"
     },
     "metadata": {},
     "output_type": "display_data"
    }
   ],
   "source": [
    "(dv:scatter-plot #(1 2 3 4 5) #(1 2 3 4 5) :title \"Wibble\" :regression t :width \"600\" :height \"400\")"
   ]
  },
  {
   "cell_type": "code",
   "execution_count": null,
   "id": "68ae4a6d-118d-46ab-9b73-3aad0163786b",
   "metadata": {},
   "outputs": [],
   "source": []
  }
 ],
 "metadata": {
  "kernelspec": {
   "display_name": "Common Lisp (SBCL)",
   "language": "common-lisp",
   "name": "common-lisp_sbcl"
  },
  "language_info": {
   "codemirror_mode": "text/x-common-lisp",
   "file_extension": ".lisp",
   "mimetype": "text/x-common-lisp",
   "name": "common-lisp",
   "pygments_lexer": "common-lisp",
   "version": "2.1.1"
  }
 },
 "nbformat": 4,
 "nbformat_minor": 5
}
