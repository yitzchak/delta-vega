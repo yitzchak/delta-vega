{
 "cells": [
  {
   "cell_type": "code",
   "execution_count": 1,
   "id": "384445b4-1319-48e1-83c9-dfbf6fdda975",
   "metadata": {},
   "outputs": [
    {
     "name": "stdout",
     "output_type": "stream",
     "text": [
      "To load \"delta-vega\":\n",
      "  Load 1 ASDF system:\n",
      "    delta-vega\n"
     ]
    },
    {
     "data": {
      "text/plain": [
       "(:DELTA-VEGA)"
      ]
     },
     "execution_count": 1,
     "metadata": {},
     "output_type": "execute_result"
    },
    {
     "name": "stdout",
     "output_type": "stream",
     "text": [
      "; Loading \"delta-vega\"\n",
      "\n"
     ]
    }
   ],
   "source": [
    "(ql:quickload :delta-vega)"
   ]
  },
  {
   "cell_type": "code",
   "execution_count": null,
   "id": "2d304a9b-b444-41cf-839c-0849233b8453",
   "metadata": {},
   "outputs": [],
   "source": [
    "(dv:parametric-plot #'identity #'sin :min (* -2 pi) :max (* 2 pi))"
   ]
  },
  {
   "cell_type": "code",
   "execution_count": null,
   "id": "8fab4675-3546-4fc3-ab45-6cade6e1bfdd",
   "metadata": {},
   "outputs": [],
   "source": [
    "(dv:parametric-plot #'identity #'tan :min (* -2 pi) :max (* 2 pi))"
   ]
  },
  {
   "cell_type": "code",
   "execution_count": null,
   "id": "86b057e0-53c8-4f62-8d08-0555c9ac9810",
   "metadata": {},
   "outputs": [],
   "source": [
    "(dv:parametric-plot #'identity #'exp :min (* -2 pi) :max (* 2 pi))"
   ]
  },
  {
   "cell_type": "code",
   "execution_count": null,
   "id": "61687f3a-41dd-47d1-bede-cb0664b7f2b8",
   "metadata": {},
   "outputs": [],
   "source": [
    "(dv:parametric-plot #'identity (lambda (x) (/ (sin x))) :min (* -2 pi) :max (* 2 pi))"
   ]
  },
  {
   "cell_type": "code",
   "execution_count": null,
   "id": "dd8679bf-dfdf-4da2-9ad2-1ed938fbf62f",
   "metadata": {},
   "outputs": [],
   "source": [
    "(dv:parametric-plot #'identity (lambda (x) (sin (/ x))) :min (- pi) :max pi)"
   ]
  },
  {
   "cell_type": "code",
   "execution_count": null,
   "id": "559dccb2-1376-4004-a58b-b911456851f6",
   "metadata": {},
   "outputs": [],
   "source": [
    "(dv:parametric-plot #'identity (lambda (x) (* x (sin (/ x)))) :min (- pi) :max pi)"
   ]
  },
  {
   "cell_type": "code",
   "execution_count": null,
   "id": "ba48ff69-63f8-4230-9acd-048c99e49f6a",
   "metadata": {},
   "outputs": [],
   "source": [
    "(j:json (j:mime-bundle-data (delta-vega:bar-plot #(\"A\" \"B\" \"C\") #(1 7 2) :title \"sdfsfdsdf\")))"
   ]
  },
  {
   "cell_type": "code",
   "execution_count": 5,
   "id": "e4881352-fc9b-4369-8e26-138e9a91af8f",
   "metadata": {},
   "outputs": [
    {
     "data": {
      "application/vnd.vegalite.v4+json": {
       "$schema": "https://vega.github.io/schema/vega-lite/v5.json",
       "data": [
        {
         "x": "A",
         "y": 1
        },
        {
         "x": "B",
         "y": 7
        },
        {
         "x": "C",
         "y": 2
        },
        {
         "x": "D",
         "y": 3
        },
        {
         "x": "E",
         "y": 4
        },
        {
         "x": "F",
         "y": 5
        },
        {
         "x": "G",
         "y": 6
        }
       ],
       "encoding": {
        "x": {
         "field": "x",
         "title": "wibble",
         "type": "ordinal"
        },
        "y": {
         "field": "y",
         "title": "quux",
         "type": "quantitative"
        }
       },
       "height": 344,
       "mark": "bar",
       "title": "sdfsfdsdf",
       "width": 400
      },
      "image/png": "[encoded data removed]"
     },
     "metadata": {},
     "output_type": "display_data"
    }
   ],
   "source": [
    "(delta-vega:bar-plot #(\"A\" \"B\" \"C\" \"D\" \"E\" \"F\" \"G\") #(1 7 2 3 4 5 6 7 8 9) :height 344 :width 400 :title \"sdfsfdsdf\" :x-title \"wibble\" :y-title \"quux\")"
   ]
  },
  {
   "cell_type": "code",
   "execution_count": null,
   "id": "ecf7ea48-1540-4fa9-8fa3-58f1c0fdc967",
   "metadata": {},
   "outputs": [],
   "source": [
    "(dv::specification :top-level t :width \"container\" :title \"sdfsdf\")"
   ]
  },
  {
   "cell_type": "code",
   "execution_count": null,
   "id": "6327cabe-e0d1-42f3-a901-6d445dabde5c",
   "metadata": {},
   "outputs": [],
   "source": [
    "(dv:scatter-plot #(1 2 3 4 5) #(1 2 3 4 5) :title \"Wibble\" :regression t :width \"600\" :height \"400\")"
   ]
  },
  {
   "cell_type": "code",
   "execution_count": 2,
   "id": "68ae4a6d-118d-46ab-9b73-3aad0163786b",
   "metadata": {},
   "outputs": [
    {
     "data": {
      "application/vnd.vegalite.v4+json": {
       "$schema": "https://vega.github.io/schema/vega-lite/v5.json",
       "data": {
        "values": [
         {
          "x": 1,
          "y": 5
         },
         {
          "x": 2,
          "y": 9
         },
         {
          "x": 3,
          "y": 4
         }
        ]
       },
       "encoding": {
        "x": {
         "field": "x",
         "title": [],
         "type": "ordinal"
        },
        "y": {
         "field": "y",
         "title": [],
         "type": "quantitative"
        }
       },
       "height": false,
       "mark": {
        "type": "bar"
       },
       "title": false,
       "width": false
      },
      "image/png": "[encoded data removed]"
     },
     "metadata": {},
     "output_type": "display_data"
    }
   ],
   "source": [
    "(dv:bar-plot #(1 2 3) #(5 9 4))"
   ]
  },
  {
   "cell_type": "code",
   "execution_count": 4,
   "id": "35db916d-c429-4b2d-b999-2df6e92aca0d",
   "metadata": {},
   "outputs": [
    {
     "data": {
      "text/plain": [
       "\"\n",
       "}\""
      ]
     },
     "execution_count": 4,
     "metadata": {},
     "output_type": "execute_result"
    },
    {
     "name": "stdout",
     "output_type": "stream",
     "text": [
      "{\n",
      "  \"type\": \"bar\"\n",
      "}"
     ]
    }
   ],
   "source": [
    "(shasht:write-json (dv:make-bar))"
   ]
  },
  {
   "cell_type": "code",
   "execution_count": null,
   "id": "1ee99533-1599-4dc3-8e13-46a9059febcd",
   "metadata": {},
   "outputs": [],
   "source": []
  }
 ],
 "metadata": {
  "kernelspec": {
   "display_name": "Common Lisp (SBCL)",
   "language": "common-lisp",
   "name": "common-lisp_sbcl"
  },
  "language_info": {
   "codemirror_mode": "text/x-common-lisp",
   "file_extension": ".lisp",
   "mimetype": "text/x-common-lisp",
   "name": "common-lisp",
   "pygments_lexer": "common-lisp",
   "version": "2.1.1"
  }
 },
 "nbformat": 4,
 "nbformat_minor": 5
}
