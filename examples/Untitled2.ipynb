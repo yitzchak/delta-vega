{
 "cells": [
  {
   "cell_type": "code",
   "execution_count": 1,
   "id": "b1e22718-fed1-45c0-832c-4047a6e5e71c",
   "metadata": {},
   "outputs": [
    {
     "data": {
      "text/plain": [
       "FU"
      ]
     },
     "execution_count": 1,
     "metadata": {},
     "output_type": "execute_result"
    }
   ],
   "source": [
    "(defstruct fu bar baz qux)"
   ]
  },
  {
   "cell_type": "code",
   "execution_count": 4,
   "id": "958a92eb-6ca4-40ae-a3ef-1fdf5bfdcfc8",
   "metadata": {},
   "outputs": [
    {
     "data": {
      "application/json": {
       "BAR": "This is not",
       "BAZ": "what the JSON",
       "QUX": "renderer is for!!!"
      }
     },
     "execution_count": 4,
     "metadata": {
      "application/json": {
       "expanded": false
      }
     },
     "output_type": "execute_result"
    }
   ],
   "source": [
    "(j:json (make-fu :bar \"This is not\" :baz \"what the JSON\" :qux \"renderer is for!!!\"))"
   ]
  },
  {
   "cell_type": "code",
   "execution_count": 5,
   "id": "d9639c9a-2209-4ded-a1ff-f4a4c8d5506a",
   "metadata": {},
   "outputs": [
    {
     "name": "stdout",
     "output_type": "stream",
     "text": [
      "To load \"shasht\":\n",
      "  Load 1 ASDF system:\n",
      "    shasht\n",
      "\n",
      "; Loading \"shasht\"\n",
      ".........."
     ]
    },
    {
     "data": {
      "text/plain": [
       "(:SHASHT)"
      ]
     },
     "execution_count": 5,
     "metadata": {},
     "output_type": "execute_result"
    },
    {
     "name": "stdout",
     "output_type": "stream",
     "text": [
      "\n"
     ]
    }
   ],
   "source": [
    "(ql:quickload :shasht)"
   ]
  },
  {
   "cell_type": "code",
   "execution_count": 6,
   "id": "d51b2fa5-9030-44d8-a122-108497df6bac",
   "metadata": {},
   "outputs": [
    {
     "data": {
      "application/json": {
       "BAR": "This is not",
       "BAZ": "what the JSON",
       "QUX": "renderer is for!!!"
      }
     },
     "execution_count": 6,
     "metadata": {
      "application/json": {
       "expanded": false
      }
     },
     "output_type": "execute_result"
    }
   ],
   "source": [
    "(j:json (make-fu :bar \"This is not\" :baz \"what the JSON\" :qux \"renderer is for!!!\"))"
   ]
  },
  {
   "cell_type": "code",
   "execution_count": 9,
   "id": "5642e7ca-6f4a-41b4-a8a5-ee06c741b095",
   "metadata": {},
   "outputs": [
    {
     "data": {
      "text/plain": [
       "\"\n",
       "}\""
      ]
     },
     "execution_count": 9,
     "metadata": {},
     "output_type": "execute_result"
    },
    {
     "name": "stdout",
     "output_type": "stream",
     "text": [
      "{\n",
      "  \"bar\": \"This is not\",\n",
      "  \"baz\": \"what the JSON\",\n",
      "  \"qux\": \"renderer is for!!!\"\n",
      "}"
     ]
    }
   ],
   "source": [
    "(let ((shasht::*write-symbol* :camel-case))\n",
    "  (shasht:write-json (make-fu :bar \"This is not\" :baz \"what the JSON\" :qux \"renderer is for!!!\")))"
   ]
  },
  {
   "cell_type": "code",
   "execution_count": 8,
   "id": "d0d87692-145a-4ad2-b0ca-beb762db6ef5",
   "metadata": {},
   "outputs": [
    {
     "data": {
      "application/json": {
       "BAR": "This is not",
       "BAZ": "what the JSON",
       "QUX": "renderer is for!!!"
      }
     },
     "execution_count": 8,
     "metadata": {
      "application/json": {
       "expanded": false
      }
     },
     "output_type": "execute_result"
    }
   ],
   "source": [
    "(let ((shasht::*write-symbol* :snake-case))\n",
    "  (j:json (make-fu :bar \"This is not\" :baz \"what the JSON\" :qux \"renderer is for!!!\")))"
   ]
  },
  {
   "cell_type": "code",
   "execution_count": 10,
   "id": "1ceb0fac-f69d-4c50-8c56-05a91821a09d",
   "metadata": {},
   "outputs": [
    {
     "data": {
      "text/plain": [
       "#S(FU :BAR \"This is not\" :BAZ \"what the JSON\" :QUX \"renderer is for!!!\")"
      ]
     },
     "execution_count": 10,
     "metadata": {},
     "output_type": "execute_result"
    }
   ],
   "source": [
    "(make-fu :bar \"This is not\" :baz \"what the JSON\" :qux \"renderer is for!!!\")"
   ]
  },
  {
   "cell_type": "code",
   "execution_count": 11,
   "id": "b605ce23-84aa-467f-b486-1b6f9310a386",
   "metadata": {},
   "outputs": [
    {
     "data": {
      "text/plain": [
       ":FOO-BAR-WIBBLE"
      ]
     },
     "execution_count": 11,
     "metadata": {},
     "output_type": "execute_result"
    },
    {
     "name": "stdout",
     "output_type": "stream",
     "text": [
      "\"foo_bar_wibble\""
     ]
    }
   ],
   "source": [
    "(let ((shasht::*write-symbol* :snake-case)) (shasht:write-json :foo-bar-wibble))"
   ]
  },
  {
   "cell_type": "code",
   "execution_count": 12,
   "id": "860e46de-4a81-438c-baa0-52f6fcff4bd4",
   "metadata": {},
   "outputs": [
    {
     "data": {
      "text/plain": [
       ":FOO-BAR-WIBBLE"
      ]
     },
     "execution_count": 12,
     "metadata": {},
     "output_type": "execute_result"
    },
    {
     "name": "stdout",
     "output_type": "stream",
     "text": [
      "\"fooBarWibble\""
     ]
    }
   ],
   "source": [
    "(let ((shasht::*write-symbol* :camel-case)) (shasht:write-json :foo-bar-wibble))"
   ]
  },
  {
   "cell_type": "code",
   "execution_count": null,
   "id": "814e3636-60c7-4a0c-a411-d142273d0396",
   "metadata": {},
   "outputs": [],
   "source": []
  }
 ],
 "metadata": {
  "kernelspec": {
   "display_name": "Common Lisp (SBCL)",
   "language": "common-lisp",
   "name": "common-lisp_sbcl"
  },
  "language_info": {
   "codemirror_mode": "text/x-common-lisp",
   "file_extension": ".lisp",
   "mimetype": "text/x-common-lisp",
   "name": "common-lisp",
   "pygments_lexer": "common-lisp",
   "version": "2.1.1"
  }
 },
 "nbformat": 4,
 "nbformat_minor": 5
}
